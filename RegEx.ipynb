{
 "cells": [
  {
   "cell_type": "markdown",
   "id": "cd1098a8",
   "metadata": {},
   "source": [
    "## Regular Expresion :\n",
    "- A regular expression is a sequence of characters that specifies a search pattern in text. Usually such patterns are used by string-searching algorithms for \"find\" or \"find and replace\" operations on strings, or for input validation. \n",
    "# \n",
    "- Till the date regex was a bit complex for me to understanding, because I never focused much on this. Today I decided to give some hours to undertand the concept of regex. It was really intresting learning, most of the doubts and fear of regex have been gone now.\n",
    "- So, Here I would like to share the youtube videos links from that I have learnt. It was really intresting videos.\n",
    "\n",
    "[![YouTube Video Link](http://img.youtube.com/vi/fFNc4NLszCE/0.jpg)](http://www.youtube.com/watch?v=fFNc4NLszCE)\n",
    "[![YouTube Video Link](http://img.youtube.com/vi/yOciEK0T-fE/0.jpg)](http://www.youtube.com/watch?v=yOciEK0T-fE)\n",
    "\n",
    "### A must use tool for regex problem: \n",
    "https://regex101.com/\n",
    "\n",
    "### Characters and Their use:\n",
    "\n",
    "| Character | Description | Example|\n",
    "| :---: | :---: | :---: |\n",
    "| [ ] | A set of characters | \"[a-z]\"|\n",
    "| \\ | Signals a special sequence (can also beused to escape special characters)|\"\\d\"|\n",
    "|. |Any character (except newlinecharacter)|\"ma..o\"|\n",
    "|^ |Starts with |\"^hello\"|\n",
    "|* |Zero or more occurrences| \"x*”…|\n",
    "|+ |One or more occurrences| \"x+”,…|\n",
    "|\\$ |Ends with |\".com$\"|\n",
    "|{} |Exactly the specified number of occurrences|\"x{2}\"|\n",
    "|\\| |Either or |\"yes|no\"|\n",
    "|? |Zero or one occurrences |“x?”|\n",
    "\n",
    "#### Special Sequences A special sequence is a \\ followed by one of the characters in the list below, and has a special meaning:\n",
    "|Character| Description| Example|\n",
    "|:---: | :---: | :---: |\n",
    "|\\d |Returns a match where the string contains digits (numbers from 0-9)|\"\\d\"\n",
    "|\\D |Returns a match where the string DOES NOT contain digits| \"\\D\"\n",
    "|\\s |Returns a match where the string contains a white space character| \"\\s\"\n",
    "|\\S |Returns a match where the string DOES NOT contain a white space character| \"\\S\"\n",
    "|\\w |Returns a match where the string contains any word characters (characters from a to Z, digits from 0-9, and the  derscore _ character)| \"\\w\"\n",
    "|\\W |Returns a match where the string DOES NOT contain any word characters|\"\\w\"\n",
    "|\\W| Returns a match where the string DOES NOT contain any word characters|\"\\W|\n",
    "\n",
    "\n",
    "#### A set is a set of characters inside a pair of square brackets [ ] with a special meaning\n",
    "|Set |Description|\n",
    "|:---: | :---: |\n",
    "|[abc]| Returns a match where one of the specified characters (a, b, or c) are present|\n",
    "|[a-z] |Returns a match for any lower case character, alphabetically between a and z|\n",
    "|[^abc] |Returns a match for any character EXCEPT a, b, and c|\n",
    "|[0123]| Returns a match where any of the specified digits (0, 1, 2, or 3) are present|\n",
    "|[0-9] |Returns a match for any digit between 0 and 9|\n",
    "|[0-7][0-5] |Returns a match for any two-digit numbers from 00 and 75|\n",
    "|[a-zA-Z] |Returns a match for any character alphabetically between a and z, lower case OR upper case|\n",
    "|[+] |In sets, +, *, \\., \\|, \\( ), $,{ } has no special meaning, so [+] means: return a match for any + character in the string|"
   ]
  },
  {
   "cell_type": "code",
   "execution_count": 368,
   "id": "9ee8be2d",
   "metadata": {},
   "outputs": [],
   "source": [
    "import re"
   ]
  },
  {
   "cell_type": "code",
   "execution_count": 369,
   "id": "b81e447c",
   "metadata": {},
   "outputs": [
    {
     "data": {
      "text/plain": [
       "['Sachin', 'Dravid', 'Rohit', 'Dhoni']"
      ]
     },
     "execution_count": 369,
     "metadata": {},
     "output_type": "execute_result"
    }
   ],
   "source": [
    "cricket_score = ''' Sachin scores 76 and Dravid scores 40 and Rohit scores 98 and Dhoni scores 99'''\n",
    "# find the name and score\n",
    "name = re.findall('[A-Z][a-z]*',cricket_score)\n",
    "name"
   ]
  },
  {
   "cell_type": "markdown",
   "id": "454e2395",
   "metadata": {},
   "source": [
    "# Extracting digit\n",
    "- `'\\d'` : find every digit of numbers i.e. 123...then 1, 2,3\n",
    "- `'\\d\\d'` or `\\d{2}` or `\\d{1,3}`: find two digit of numer i.e. 123456...then 12, 34, 56"
   ]
  },
  {
   "cell_type": "code",
   "execution_count": 370,
   "id": "6c0362b4",
   "metadata": {},
   "outputs": [
    {
     "data": {
      "text/plain": [
       "(['76', '40', '98', '99'], ['76', '40', '98', '99'], ['76', '40', '98', '99'])"
      ]
     },
     "execution_count": 370,
     "metadata": {},
     "output_type": "execute_result"
    }
   ],
   "source": [
    "# method to extract number digit\n",
    "age = re.findall('\\d\\d',cricket_score)\n",
    "age,re.findall('\\d{2}',cricket_score),re.findall('\\d{1,3}',cricket_score)"
   ]
  },
  {
   "cell_type": "code",
   "execution_count": 371,
   "id": "1ac4a322",
   "metadata": {},
   "outputs": [
    {
     "name": "stdout",
     "output_type": "stream",
     "text": [
      "{'Sachin': '76', 'Dravid': '40', 'Rohit': '98', 'Dhoni': '99'}\n"
     ]
    }
   ],
   "source": [
    "# creating a dict of name and score\n",
    "cric_dic ={}\n",
    "i = 0\n",
    "for x in name:\n",
    "    cric_dic[x] = age[i]\n",
    "    i += 1\n",
    "print(cric_dic)"
   ]
  },
  {
   "cell_type": "markdown",
   "id": "83f9b095",
   "metadata": {},
   "source": [
    "# Search(): return a match object if matched"
   ]
  },
  {
   "cell_type": "code",
   "execution_count": 372,
   "id": "bcba6c90",
   "metadata": {},
   "outputs": [],
   "source": [
    "str = 'This is Python regex, Python, Python'"
   ]
  },
  {
   "cell_type": "code",
   "execution_count": 373,
   "id": "dc972582",
   "metadata": {},
   "outputs": [
    {
     "name": "stdout",
     "output_type": "stream",
     "text": [
      "Found!!\n"
     ]
    }
   ],
   "source": [
    "# search word in str\n",
    "if re.search('Python',str):\n",
    "    print('Found!!')"
   ]
  },
  {
   "cell_type": "code",
   "execution_count": 374,
   "id": "77507191",
   "metadata": {},
   "outputs": [
    {
     "name": "stdout",
     "output_type": "stream",
     "text": [
      "Found!!\n",
      "['Python', 'Python', 'Python']\n",
      "Python\n",
      "Python\n",
      "Python\n"
     ]
    }
   ],
   "source": [
    "# search word in str with no of occurences\n",
    "if re.search('Python',str):\n",
    "    print('Found!!')\n",
    "    match = re.findall('Python',str) # return as a list\n",
    "    print(match)\n",
    "    for i in match: # itreting the list\n",
    "        print(i)\n",
    "    "
   ]
  },
  {
   "cell_type": "code",
   "execution_count": 375,
   "id": "85e25501",
   "metadata": {},
   "outputs": [
    {
     "name": "stdout",
     "output_type": "stream",
     "text": [
      "<re.Match object; span=(8, 14), match='Python'>\n",
      "(8, 14)\n",
      "<re.Match object; span=(22, 28), match='Python'>\n",
      "(22, 28)\n",
      "<re.Match object; span=(30, 36), match='Python'>\n",
      "(30, 36)\n"
     ]
    }
   ],
   "source": [
    "for i in re.finditer('Python',str):\n",
    "    index = i\n",
    "    print(index) # get the start and end index as an object\n",
    "    print(index.span()) # get a tule of index\n",
    "    "
   ]
  },
  {
   "cell_type": "code",
   "execution_count": 376,
   "id": "ed5b584b",
   "metadata": {},
   "outputs": [
    {
     "data": {
      "text/plain": [
       "['Rat', 'Cat', 'Mat']"
      ]
     },
     "execution_count": 376,
     "metadata": {},
     "output_type": "execute_result"
    }
   ],
   "source": [
    "# find data start with R/C/M and having 'at' \n",
    "str2 = 'Rat Cat Mat, Pat, Sat, Hat'\n",
    "re.findall('[RCM]at',str2)"
   ]
  },
  {
   "cell_type": "code",
   "execution_count": 377,
   "id": "d7588ef5",
   "metadata": {},
   "outputs": [
    {
     "data": {
      "text/plain": [
       "['Mat', 'Pat', 'Sat', 'Hat']"
      ]
     },
     "execution_count": 377,
     "metadata": {},
     "output_type": "execute_result"
    }
   ],
   "source": [
    "# find data which not start with R/C\n",
    "re.findall('[^RC]at',str2)"
   ]
  },
  {
   "cell_type": "code",
   "execution_count": 378,
   "id": "45f6be8d",
   "metadata": {},
   "outputs": [
    {
     "name": "stdout",
     "output_type": "stream",
     "text": [
      "['C', 'M', 'H']\n",
      "['Cat', 'Mat', 'Hat']\n"
     ]
    }
   ],
   "source": [
    "# find the data which starts from A to M\n",
    "print(re.findall('[A-M]',str2))\n",
    "print(re.findall('[A-M]at',str2))"
   ]
  },
  {
   "cell_type": "code",
   "execution_count": 379,
   "id": "fa8fc8e9",
   "metadata": {},
   "outputs": [
    {
     "name": "stdout",
     "output_type": "stream",
     "text": [
      "['R', 'a', 't', ' ', 'a', 't', ' ', 'a', 't', ',', ' ', 'P', 'a', 't', ',', ' ', 'S', 'a', 't', ',', ' ', 'a', 't']\n",
      "['Rat', 'Pat', 'Sat']\n"
     ]
    }
   ],
   "source": [
    "# find the data which not starts from A to M\n",
    "print(re.findall('[^A-M]',str2))\n",
    "print(re.findall('[^A-M]at',str2))"
   ]
  },
  {
   "cell_type": "code",
   "execution_count": 380,
   "id": "4da213fa",
   "metadata": {},
   "outputs": [
    {
     "name": "stdout",
     "output_type": "stream",
     "text": [
      "['Cat', 'Mat', 'Hat']\n",
      "['Cat', 'Mat', 'Hat']\n"
     ]
    }
   ],
   "source": [
    "print(re.findall('[A-M]at',str2))\n",
    "print(re.findall('[^N-Z]at',str2))"
   ]
  },
  {
   "cell_type": "code",
   "execution_count": 381,
   "id": "cb660ceb",
   "metadata": {},
   "outputs": [
    {
     "name": "stdout",
     "output_type": "stream",
     "text": [
      "Rat Cat Mat, Pat, Sat, Hat\n"
     ]
    },
    {
     "data": {
      "text/plain": [
       "'Rat Cat Mat, Pat, Sat, Lion'"
      ]
     },
     "execution_count": 381,
     "metadata": {},
     "output_type": "execute_result"
    }
   ],
   "source": [
    "# find and replace with new word\n",
    "print(str2)\n",
    "reg = re.compile('[H]at')\n",
    "# print(reg)\n",
    "str2 = reg.sub('Lion',str2)\n",
    "str2"
   ]
  },
  {
   "cell_type": "code",
   "execution_count": 382,
   "id": "ea7c4cab",
   "metadata": {},
   "outputs": [
    {
     "name": "stdout",
     "output_type": "stream",
     "text": [
      "This is a multiline \n",
      "str, \n",
      "going to convert it \n",
      "in one line\n",
      "\n",
      " This is a multiline  str,  going to convert it  in one line\n"
     ]
    }
   ],
   "source": [
    "# convert multiline string to one line\n",
    "str3 = \"\"\"This is a multiline \n",
    "str, \n",
    "going to convert it \n",
    "in one line\"\"\"\n",
    "print(str3)\n",
    "reg = re.compile('\\n') # find the new \\n\n",
    "str3 = reg.sub(' ',str3)\n",
    "print(\"\\n\",str3)"
   ]
  },
  {
   "cell_type": "code",
   "execution_count": 383,
   "id": "558187df",
   "metadata": {},
   "outputs": [
    {
     "name": "stdout",
     "output_type": "stream",
     "text": [
      "This digits are in str ['3', '1', '0', '4', '3', '1', '1', '0', '2', '1', '2', '1', '2']\n",
      "This digits are in str ['2', '2', '2']\n",
      "This digits are in str ['02', '12', '12']\n",
      "This digits are in str ['102', '212']\n",
      "This digits are in str ['21', '21']\n",
      "This digits are in str ['431']\n",
      "This digits are in str ['021']\n"
     ]
    }
   ],
   "source": [
    "# \\d: contain only numerical value\n",
    "a = \" this is python 3.10.431 1021212 version!!\"\n",
    "print(\"This digits are in str\",re.findall('\\d',a))\n",
    "print(\"This digits are in str\",re.findall('[2]',a))# return if 2 found every time\n",
    "print(\"This digits are in str\",re.findall('\\d[2]',a))# returns two digit if 2 found after any one digit\n",
    "print(\"This digits are in str\",re.findall('\\d\\d[2]',a))# returns three digit if 2 found after any two digit\n",
    "print(\"This digits are in str\",re.findall('[2]\\d',a))# returns two digit if 2 found before any digit\n",
    "print(\"This digits are in str\",re.findall('[4]\\d\\d',a))# returns three digit if 4 found before any two digit\n",
    "print(\"This digits are in str\",re.findall('\\d[2]\\d',a))# returns three digit if 2 found between two digit\n"
   ]
  },
  {
   "cell_type": "code",
   "execution_count": 384,
   "id": "f60c299a",
   "metadata": {},
   "outputs": [],
   "source": [
    "text = '''Tata Limited\n",
    "Dr. David  Landsman, executive director\n",
    "18, Grosvenor Place\n",
    "London SW1X  7HSc\n",
    "Phone: +44 (20) 7235 8281\n",
    "Fax: +44 (20) 7235 8727\n",
    "Email: tata@tata.co.uk\n",
    "Website:  www.europe.tata.com\n",
    "Directions: View map'''"
   ]
  },
  {
   "cell_type": "code",
   "execution_count": 385,
   "id": "4264c8a8",
   "metadata": {},
   "outputs": [
    {
     "name": "stdout",
     "output_type": "stream",
     "text": [
      "['+44 (20) 7235 8281', '+44 (20) 7235 8727']\n"
     ]
    }
   ],
   "source": [
    "# extract only phone no from text\n",
    "print(re.findall('[+]\\d\\d \\(\\d\\d\\) \\d* \\d*',text))"
   ]
  },
  {
   "cell_type": "code",
   "execution_count": 386,
   "id": "b0f35826",
   "metadata": {},
   "outputs": [
    {
     "name": "stdout",
     "output_type": "stream",
     "text": [
      "['+44 (20) 7235 8281', '+44 (20) 7235 8727']\n"
     ]
    }
   ],
   "source": [
    "print(re.findall('[+]\\d{2} \\(\\d{2}\\) \\d{4} \\d{4}',text))"
   ]
  },
  {
   "cell_type": "code",
   "execution_count": 387,
   "id": "6c7e91b6",
   "metadata": {},
   "outputs": [
    {
     "name": "stdout",
     "output_type": "stream",
     "text": [
      "['+44 (20) 7235 8281', '+44 (20) 7235 8727']\n"
     ]
    }
   ],
   "source": [
    "print(re.findall('[+]\\d{2} \\(\\d{2}\\) \\d{4} \\d{4}',text))"
   ]
  },
  {
   "cell_type": "code",
   "execution_count": 388,
   "id": "5b2c9c56",
   "metadata": {},
   "outputs": [
    {
     "name": "stdout",
     "output_type": "stream",
     "text": [
      "['Tata', 'Limited', 'Dr', 'David', 'Landsman', 'executive', 'director', '18', 'Grosvenor', 'Place', 'London', 'SW1X', '7HSc', 'Phone', '44', '20', '7235', '8281', 'Fax', '44', '20', '7235', '8727', 'Email', 'tata', 'tata', 'co', 'uk', 'Website', 'www', 'europe', 'tata', 'com', 'Directions', 'View', 'map']\n"
     ]
    }
   ],
   "source": [
    "a = re.split(r'[\\n .,:+()@]',text)\n",
    "b = []\n",
    "for i in a:\n",
    "    if i!='':\n",
    "        b.append(i)\n",
    "print(b)\n",
    "        "
   ]
  },
  {
   "cell_type": "code",
   "execution_count": 405,
   "id": "13bed6cc",
   "metadata": {},
   "outputs": [
    {
     "data": {
      "text/plain": [
       "['ayadavsantosh298@gmail.com']"
      ]
     },
     "execution_count": 405,
     "metadata": {},
     "output_type": "execute_result"
    }
   ],
   "source": [
    "# extract email\n",
    "mail = 'ayadavsantosh298@gmail.com'\n",
    "re.findall('[a-zA-Z][a-zA-Z0-9]*@[a-z]*.[a-z]{1,5}.[a-z]{1,5}$',mail)"
   ]
  },
  {
   "cell_type": "code",
   "execution_count": null,
   "id": "5fba3da4",
   "metadata": {},
   "outputs": [],
   "source": []
  },
  {
   "cell_type": "code",
   "execution_count": null,
   "id": "cfd4693e",
   "metadata": {},
   "outputs": [],
   "source": [
    "a = 'yadavsantosh298@gmail.com'"
   ]
  },
  {
   "cell_type": "code",
   "execution_count": null,
   "id": "d205a0b9",
   "metadata": {},
   "outputs": [],
   "source": [
    "# find email address\n",
    "email = re.findall('[a-zA-Z0-9]*@[a-z]*.[a-z]*',a)\n",
    "email[0]\n",
    "\n",
    "# ## email validation\n",
    "email2 = 'abc1111@asd.com'\n",
    "if re.search('[a-zA-Z0-9]*@[a-z]*.[a-z]*',email2): print('Valid Email!!')\n",
    "else : print('Not Valid Email!!')"
   ]
  },
  {
   "cell_type": "code",
   "execution_count": null,
   "id": "d4b3087e",
   "metadata": {},
   "outputs": [],
   "source": [
    "# phone no validation\n",
    "phone = '+44 (20) 7235 1008'\n",
    "if re.search('[+]\\d{2} \\(\\d{2}\\) \\d{4} \\d{4}',phone):print('Valid!!!')\n",
    "else: print('Not Valid!!')"
   ]
  },
  {
   "cell_type": "code",
   "execution_count": null,
   "id": "e57f9e6a",
   "metadata": {},
   "outputs": [],
   "source": [
    "email validatoin"
   ]
  },
  {
   "cell_type": "code",
   "execution_count": null,
   "id": "16fdd330",
   "metadata": {},
   "outputs": [],
   "source": [
    "# mobile no validation\n",
    "mob = '77788899900'\n",
    "re.findall('^[7-9][0-9]{9}',mob)"
   ]
  },
  {
   "cell_type": "code",
   "execution_count": 434,
   "id": "3bf05f24",
   "metadata": {},
   "outputs": [
    {
     "data": {
      "text/plain": [
       "['Mahendra Singh']"
      ]
     },
     "execution_count": 434,
     "metadata": {},
     "output_type": "execute_result"
    }
   ],
   "source": [
    "# name validation\n",
    "name = 'Mahendra Singh Dhoni'\n",
    "re.findall('[A-Z]{1,4}[a-z]*\\s[A-Z]{1}[a-z]*',name)"
   ]
  },
  {
   "cell_type": "code",
   "execution_count": 435,
   "id": "9c714815",
   "metadata": {},
   "outputs": [
    {
     "data": {
      "text/plain": [
       "['Mahendra Singh']"
      ]
     },
     "execution_count": 435,
     "metadata": {},
     "output_type": "execute_result"
    }
   ],
   "source": [
    "re.findall('\\w{2,20}\\s\\w{2,20}',name)"
   ]
  },
  {
   "cell_type": "code",
   "execution_count": 416,
   "id": "e74c44d5",
   "metadata": {},
   "outputs": [
    {
     "name": "stdout",
     "output_type": "stream",
     "text": [
      "Valid\n"
     ]
    }
   ],
   "source": [
    "if re.search('[A-Z]{1}[a-z]* [A-Z]{1}[a-z]*',name):\n",
    "    print('Valid')"
   ]
  },
  {
   "cell_type": "code",
   "execution_count": 445,
   "id": "33738be1",
   "metadata": {},
   "outputs": [
    {
     "data": {
      "text/plain": [
       "['Mahendra', 'Singh', 'Dhoni']"
      ]
     },
     "execution_count": 445,
     "metadata": {},
     "output_type": "execute_result"
    }
   ],
   "source": [
    "re.findall('[A-Za-z]+',name) # here only those words come have altleast one word"
   ]
  },
  {
   "cell_type": "code",
   "execution_count": 447,
   "id": "630064b2",
   "metadata": {},
   "outputs": [
    {
     "data": {
      "text/plain": [
       "['Mahendra', '', 'Singh', '', 'Dhoni', '']"
      ]
     },
     "execution_count": 447,
     "metadata": {},
     "output_type": "execute_result"
    }
   ],
   "source": [
    "re.findall('[A-Za-z]*',name) # here everything will come like space, comma special chars"
   ]
  },
  {
   "cell_type": "code",
   "execution_count": 456,
   "id": "fe073610",
   "metadata": {},
   "outputs": [
    {
     "data": {
      "text/plain": [
       "['Mahendra Singh']"
      ]
     },
     "execution_count": 456,
     "metadata": {},
     "output_type": "execute_result"
    }
   ],
   "source": [
    "re.findall('^[A-Z][a-z]+\\s[a-zA-Z]+',name) # starts with Uppercase and at least one char "
   ]
  },
  {
   "cell_type": "code",
   "execution_count": 459,
   "id": "e05fcaa7",
   "metadata": {},
   "outputs": [
    {
     "data": {
      "text/plain": [
       "['Mahendra Singh']"
      ]
     },
     "execution_count": 459,
     "metadata": {},
     "output_type": "execute_result"
    }
   ],
   "source": [
    "re.findall('^[A-Z][a-z]{4,10}\\s[a-zA-Z]+',name)"
   ]
  },
  {
   "cell_type": "code",
   "execution_count": 470,
   "id": "45573d3b",
   "metadata": {},
   "outputs": [
    {
     "data": {
      "text/plain": [
       "['Sa Kumar']"
      ]
     },
     "execution_count": 470,
     "metadata": {},
     "output_type": "execute_result"
    }
   ],
   "source": [
    "re.findall('^[A-Z][a-z]?\\s[a-zA-Z]+','Sa Kumar')"
   ]
  },
  {
   "cell_type": "code",
   "execution_count": 478,
   "id": "1841257f",
   "metadata": {},
   "outputs": [
    {
     "data": {
      "text/plain": [
       "['SANTOSH Kumar']"
      ]
     },
     "execution_count": 478,
     "metadata": {},
     "output_type": "execute_result"
    }
   ],
   "source": [
    "re.findall('^[SANTOSH]+\\s[a-zA-Z]+','SANTOSH Kumar')"
   ]
  },
  {
   "cell_type": "code",
   "execution_count": 467,
   "id": "8b500756",
   "metadata": {},
   "outputs": [
    {
     "data": {
      "text/plain": [
       "['Nitin Sharma']"
      ]
     },
     "execution_count": 467,
     "metadata": {},
     "output_type": "execute_result"
    }
   ],
   "source": [
    "name = 'Nitin Sharma Singh Mitin Sharma'\n",
    "re.findall('^[N|S][a-z]{4,10}\\s[a-zA-Z]+',name)"
   ]
  },
  {
   "cell_type": "code",
   "execution_count": null,
   "id": "ada7b962",
   "metadata": {},
   "outputs": [],
   "source": []
  },
  {
   "cell_type": "code",
   "execution_count": 481,
   "id": "ed309beb",
   "metadata": {},
   "outputs": [
    {
     "data": {
      "text/plain": [
       "['2', '3', '4', '4']"
      ]
     },
     "execution_count": 481,
     "metadata": {},
     "output_type": "execute_result"
    }
   ],
   "source": [
    "re.findall('\\d','qwq2344!@') # return only digit"
   ]
  },
  {
   "cell_type": "code",
   "execution_count": 482,
   "id": "fa673df7",
   "metadata": {},
   "outputs": [
    {
     "data": {
      "text/plain": [
       "['q', 'w', 'q', '!', '@']"
      ]
     },
     "execution_count": 482,
     "metadata": {},
     "output_type": "execute_result"
    }
   ],
   "source": [
    "re.findall('\\D','qwq2344!@') # return except digit, digit exclude"
   ]
  },
  {
   "cell_type": "code",
   "execution_count": 484,
   "id": "140d051e",
   "metadata": {},
   "outputs": [
    {
     "data": {
      "text/plain": [
       "[' ']"
      ]
     },
     "execution_count": 484,
     "metadata": {},
     "output_type": "execute_result"
    }
   ],
   "source": [
    "re.findall('\\s','qwq2 344!@') # return if there any whitespace"
   ]
  },
  {
   "cell_type": "code",
   "execution_count": 487,
   "id": "c9ee3970",
   "metadata": {},
   "outputs": [
    {
     "data": {
      "text/plain": [
       "['q', 'w', 'q', '2', '3', '4', '4', '!', '@']"
      ]
     },
     "execution_count": 487,
     "metadata": {},
     "output_type": "execute_result"
    }
   ],
   "source": [
    "re.findall('\\S','qwq2 344!@') # whitespace exclude"
   ]
  },
  {
   "cell_type": "code",
   "execution_count": 488,
   "id": "d61e8580",
   "metadata": {},
   "outputs": [
    {
     "data": {
      "text/plain": [
       "['q', 'w', 'q', '2', '3', '4', '4']"
      ]
     },
     "execution_count": 488,
     "metadata": {},
     "output_type": "execute_result"
    }
   ],
   "source": [
    "re.findall('\\w','qwq2 344!@') # return only alpha numeric, \\w = [A-Za-z0-9]"
   ]
  },
  {
   "cell_type": "code",
   "execution_count": 489,
   "id": "d04dc7cb",
   "metadata": {},
   "outputs": [
    {
     "data": {
      "text/plain": [
       "[' ', '!', '@']"
      ]
     },
     "execution_count": 489,
     "metadata": {},
     "output_type": "execute_result"
    }
   ],
   "source": [
    "re.findall('\\W','qwq2 344!@') #exclude alpha numeric \\w =  [^A-Za-z0-9]"
   ]
  },
  {
   "cell_type": "code",
   "execution_count": 495,
   "id": "5210e4fe",
   "metadata": {},
   "outputs": [
    {
     "data": {
      "text/plain": [
       "['o', 'python']"
      ]
     },
     "execution_count": 495,
     "metadata": {},
     "output_type": "execute_result"
    }
   ],
   "source": [
    "re.findall('[python]+','I love python') # Returns a match where one of the specified characters are present"
   ]
  },
  {
   "cell_type": "code",
   "execution_count": 496,
   "id": "63a0168c",
   "metadata": {},
   "outputs": [
    {
     "data": {
      "text/plain": [
       "['love', 'python']"
      ]
     },
     "execution_count": 496,
     "metadata": {},
     "output_type": "execute_result"
    }
   ],
   "source": [
    "re.findall('[a-z]+','I love python') # returns all lower case words"
   ]
  },
  {
   "cell_type": "code",
   "execution_count": 497,
   "id": "94250392",
   "metadata": {},
   "outputs": [
    {
     "data": {
      "text/plain": [
       "['I l', 've ']"
      ]
     },
     "execution_count": 497,
     "metadata": {},
     "output_type": "execute_result"
    }
   ],
   "source": [
    "re.findall('[^python]+','I love python') # return except any word in python"
   ]
  },
  {
   "cell_type": "code",
   "execution_count": 506,
   "id": "89f20507",
   "metadata": {},
   "outputs": [
    {
     "data": {
      "text/plain": [
       "['3', '12', '1231', '23']"
      ]
     },
     "execution_count": 506,
     "metadata": {},
     "output_type": "execute_result"
    }
   ],
   "source": [
    "re.findall('[123]{1,4}','987 345 1256123123')"
   ]
  },
  {
   "cell_type": "code",
   "execution_count": 516,
   "id": "d7cd56c1",
   "metadata": {},
   "outputs": [
    {
     "data": {
      "text/plain": [
       "['12', '23']"
      ]
     },
     "execution_count": 516,
     "metadata": {},
     "output_type": "execute_result"
    }
   ],
   "source": [
    "re.findall('[0-3][0-5]','1223') # first digit can be 0-3 and second digit 0-5 "
   ]
  },
  {
   "cell_type": "code",
   "execution_count": 522,
   "id": "349f26d2",
   "metadata": {},
   "outputs": [
    {
     "data": {
      "text/plain": [
       "['o', 'python']"
      ]
     },
     "execution_count": 522,
     "metadata": {},
     "output_type": "execute_result"
    }
   ],
   "source": [
    "re.findall('[python]+','I love python') # return except any word in python"
   ]
  }
 ],
 "metadata": {
  "kernelspec": {
   "display_name": "Python 3 (ipykernel)",
   "language": "python",
   "name": "python3"
  },
  "language_info": {
   "codemirror_mode": {
    "name": "ipython",
    "version": 3
   },
   "file_extension": ".py",
   "mimetype": "text/x-python",
   "name": "python",
   "nbconvert_exporter": "python",
   "pygments_lexer": "ipython3",
   "version": "3.9.7"
  }
 },
 "nbformat": 4,
 "nbformat_minor": 5
}

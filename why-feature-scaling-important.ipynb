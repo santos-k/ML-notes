{
 "cells": [
  {
   "attachments": {
    "04769032-3bd4-4fef-a153-edf595227f6d.png": {
     "image/png": "[encoded data removed]"
    },
    "60cd9ffe-ea9e-47c4-9f86-045c44179d3e.png": {
     "image/png": "[encoded data removed]"
    }
   },
   "cell_type": "markdown",
   "id": "08b0ef0a",
   "metadata": {
    "papermill": {
     "duration": 0.043824,
     "end_time": "2022-04-05T09:37:26.746515",
     "exception": false,
     "start_time": "2022-04-05T09:37:26.702691",
     "status": "completed"
    },
    "tags": []
   },
   "source": [
    "# <span style='color:red'>Feature Scaling in Machine Mearning\n",
    "- Feature Scaling is a technique to standardize the independent features present in the data in a fixed range. It is performed during the data pre-processing to handle highly varying magnitudes or values or units.\n",
    "-  If feature scaling is not done, then a machine learning algorithm tends to weigh greater values, higher and consider smaller values as the lower values, regardless of the unit of the values.\n",
    "## <span style='color:blue'>Example: \n",
    "- If an algorithm is not using the feature scaling method then it can consider the value 3000 meters to be greater than 5 km but that’s actually not true and in this case, the algorithm will give wrong predictions. So, we use Feature Scaling to bring all values to the same magnitudes and thus, tackle this issue.\n",
    "\n",
    "## <span style='color:yellow'>Techniques to perform Feature Scaling\n",
    "  - Consider the two most important ones:\n",
    "\n",
    "   ## <span style='color:green'>1. Standardization: \n",
    "   - It is a very effective technique which re-scales a feature value so that it has distribution with 0 mean value and variance equals to 1.\n",
    "    - `X_{\\text {new }}=\\frac{X_{i}-X_{\\text {mean }}}{\\text { Standard Deviation }}`\n",
    "    - ![image.png](attachment:04769032-3bd4-4fef-a153-edf595227f6d.png)\n",
    "    \n",
    "   ##  <span style='color:green'>2. Normalization: \n",
    "       ###  <span style='color:green'>1. Min-Max Normalization:\n",
    "   - This technique re-scales a feature or observation value with distribution value between 0 and 1.\n",
    "   - `X_{\\text {new }}=\\frac{X_{i}-\\min (X)}{\\max (x)-\\min (X)}`\n",
    "\n",
    "   - ![image.png](attachment:60cd9ffe-ea9e-47c4-9f86-045c44179d3e.png)"
   ]
  },
  {
   "cell_type": "code",
   "execution_count": 1,
   "id": "5ff4c985",
   "metadata": {
    "execution": {
     "iopub.execute_input": "2022-04-05T09:37:26.837532Z",
     "iopub.status.busy": "2022-04-05T09:37:26.836376Z",
     "iopub.status.idle": "2022-04-05T09:37:28.750575Z",
     "shell.execute_reply": "2022-04-05T09:37:28.751087Z",
     "shell.execute_reply.started": "2022-04-05T09:31:35.933911Z"
    },
    "papermill": {
     "duration": 1.961931,
     "end_time": "2022-04-05T09:37:28.751414",
     "exception": false,
     "start_time": "2022-04-05T09:37:26.789483",
     "status": "completed"
    },
    "tags": []
   },
   "outputs": [
    {
     "data": {
      "text/html": [
       "<div>\n",
       "<style scoped>\n",
       "    .dataframe tbody tr th:only-of-type {\n",
       "        vertical-align: middle;\n",
       "    }\n",
       "\n",
       "    .dataframe tbody tr th {\n",
       "        vertical-align: top;\n",
       "    }\n",
       "\n",
       "    .dataframe thead th {\n",
       "        text-align: right;\n",
       "    }\n",
       "</style>\n",
       "<table border=\"1\" class=\"dataframe\">\n",
       "  <thead>\n",
       "    <tr style=\"text-align: right;\">\n",
       "      <th></th>\n",
       "      <th>survived</th>\n",
       "      <th>pclass</th>\n",
       "      <th>sex</th>\n",
       "      <th>age</th>\n",
       "      <th>sibsp</th>\n",
       "      <th>parch</th>\n",
       "      <th>fare</th>\n",
       "      <th>embarked</th>\n",
       "      <th>class</th>\n",
       "      <th>who</th>\n",
       "      <th>adult_male</th>\n",
       "      <th>deck</th>\n",
       "      <th>embark_town</th>\n",
       "      <th>alive</th>\n",
       "      <th>alone</th>\n",
       "    </tr>\n",
       "  </thead>\n",
       "  <tbody>\n",
       "    <tr>\n",
       "      <th>0</th>\n",
       "      <td>0</td>\n",
       "      <td>3</td>\n",
       "      <td>male</td>\n",
       "      <td>22.0</td>\n",
       "      <td>1</td>\n",
       "      <td>0</td>\n",
       "      <td>7.2500</td>\n",
       "      <td>S</td>\n",
       "      <td>Third</td>\n",
       "      <td>man</td>\n",
       "      <td>True</td>\n",
       "      <td>NaN</td>\n",
       "      <td>Southampton</td>\n",
       "      <td>no</td>\n",
       "      <td>False</td>\n",
       "    </tr>\n",
       "    <tr>\n",
       "      <th>1</th>\n",
       "      <td>1</td>\n",
       "      <td>1</td>\n",
       "      <td>female</td>\n",
       "      <td>38.0</td>\n",
       "      <td>1</td>\n",
       "      <td>0</td>\n",
       "      <td>71.2833</td>\n",
       "      <td>C</td>\n",
       "      <td>First</td>\n",
       "      <td>woman</td>\n",
       "      <td>False</td>\n",
       "      <td>C</td>\n",
       "      <td>Cherbourg</td>\n",
       "      <td>yes</td>\n",
       "      <td>False</td>\n",
       "    </tr>\n",
       "    <tr>\n",
       "      <th>2</th>\n",
       "      <td>1</td>\n",
       "      <td>3</td>\n",
       "      <td>female</td>\n",
       "      <td>26.0</td>\n",
       "      <td>0</td>\n",
       "      <td>0</td>\n",
       "      <td>7.9250</td>\n",
       "      <td>S</td>\n",
       "      <td>Third</td>\n",
       "      <td>woman</td>\n",
       "      <td>False</td>\n",
       "      <td>NaN</td>\n",
       "      <td>Southampton</td>\n",
       "      <td>yes</td>\n",
       "      <td>True</td>\n",
       "    </tr>\n",
       "    <tr>\n",
       "      <th>3</th>\n",
       "      <td>1</td>\n",
       "      <td>1</td>\n",
       "      <td>female</td>\n",
       "      <td>35.0</td>\n",
       "      <td>1</td>\n",
       "      <td>0</td>\n",
       "      <td>53.1000</td>\n",
       "      <td>S</td>\n",
       "      <td>First</td>\n",
       "      <td>woman</td>\n",
       "      <td>False</td>\n",
       "      <td>C</td>\n",
       "      <td>Southampton</td>\n",
       "      <td>yes</td>\n",
       "      <td>False</td>\n",
       "    </tr>\n",
       "    <tr>\n",
       "      <th>4</th>\n",
       "      <td>0</td>\n",
       "      <td>3</td>\n",
       "      <td>male</td>\n",
       "      <td>35.0</td>\n",
       "      <td>0</td>\n",
       "      <td>0</td>\n",
       "      <td>8.0500</td>\n",
       "      <td>S</td>\n",
       "      <td>Third</td>\n",
       "      <td>man</td>\n",
       "      <td>True</td>\n",
       "      <td>NaN</td>\n",
       "      <td>Southampton</td>\n",
       "      <td>no</td>\n",
       "      <td>True</td>\n",
       "    </tr>\n",
       "  </tbody>\n",
       "</table>\n",
       "</div>"
      ],
      "text/plain": [
       "   survived  pclass     sex   age  sibsp  parch     fare embarked  class  \\\n",
       "0         0       3    male  22.0      1      0   7.2500        S  Third   \n",
       "1         1       1  female  38.0      1      0  71.2833        C  First   \n",
       "2         1       3  female  26.0      0      0   7.9250        S  Third   \n",
       "3         1       1  female  35.0      1      0  53.1000        S  First   \n",
       "4         0       3    male  35.0      0      0   8.0500        S  Third   \n",
       "\n",
       "     who  adult_male deck  embark_town alive  alone  \n",
       "0    man        True  NaN  Southampton    no  False  \n",
       "1  woman       False    C    Cherbourg   yes  False  \n",
       "2  woman       False  NaN  Southampton   yes   True  \n",
       "3  woman       False    C  Southampton   yes  False  \n",
       "4    man        True  NaN  Southampton    no   True  "
      ]
     },
     "execution_count": 1,
     "metadata": {},
     "output_type": "execute_result"
    }
   ],
   "source": [
    "# load data\n",
    "import seaborn as sns\n",
    "df = sns.load_dataset(\"titanic\") \n",
    "\n",
    "df.head()"
   ]
  },
  {
   "cell_type": "code",
   "execution_count": 2,
   "id": "45aa700f",
   "metadata": {
    "execution": {
     "iopub.execute_input": "2022-04-05T09:37:28.845347Z",
     "iopub.status.busy": "2022-04-05T09:37:28.844382Z",
     "iopub.status.idle": "2022-04-05T09:37:28.847577Z",
     "shell.execute_reply": "2022-04-05T09:37:28.848054Z",
     "shell.execute_reply.started": "2022-04-05T09:31:38.224269Z"
    },
    "papermill": {
     "duration": 0.05295,
     "end_time": "2022-04-05T09:37:28.848231",
     "exception": false,
     "start_time": "2022-04-05T09:37:28.795281",
     "status": "completed"
    },
    "tags": []
   },
   "outputs": [],
   "source": [
    "# fill na values first\n",
    "int(df['age'].mean())\n",
    "df['age']=df['age'].fillna(int(df['age'].mean())).astype(int)"
   ]
  },
  {
   "cell_type": "code",
   "execution_count": 3,
   "id": "b5789957",
   "metadata": {
    "execution": {
     "iopub.execute_input": "2022-04-05T09:37:28.939527Z",
     "iopub.status.busy": "2022-04-05T09:37:28.938734Z",
     "iopub.status.idle": "2022-04-05T09:37:28.943495Z",
     "shell.execute_reply": "2022-04-05T09:37:28.944058Z",
     "shell.execute_reply.started": "2022-04-05T09:31:38.232672Z"
    },
    "papermill": {
     "duration": 0.053299,
     "end_time": "2022-04-05T09:37:28.944231",
     "exception": false,
     "start_time": "2022-04-05T09:37:28.890932",
     "status": "completed"
    },
    "tags": []
   },
   "outputs": [],
   "source": [
    "# df.info()\n",
    "x= df[['age','fare']]"
   ]
  },
  {
   "cell_type": "code",
   "execution_count": 4,
   "id": "798ec7f9",
   "metadata": {
    "execution": {
     "iopub.execute_input": "2022-04-05T09:37:29.040647Z",
     "iopub.status.busy": "2022-04-05T09:37:29.039749Z",
     "iopub.status.idle": "2022-04-05T09:37:29.042769Z",
     "shell.execute_reply": "2022-04-05T09:37:29.043286Z",
     "shell.execute_reply.started": "2022-04-05T09:31:38.250191Z"
    },
    "papermill": {
     "duration": 0.05545,
     "end_time": "2022-04-05T09:37:29.043460",
     "exception": false,
     "start_time": "2022-04-05T09:37:28.988010",
     "status": "completed"
    },
    "tags": []
   },
   "outputs": [
    {
     "data": {
      "text/html": [
       "<div>\n",
       "<style scoped>\n",
       "    .dataframe tbody tr th:only-of-type {\n",
       "        vertical-align: middle;\n",
       "    }\n",
       "\n",
       "    .dataframe tbody tr th {\n",
       "        vertical-align: top;\n",
       "    }\n",
       "\n",
       "    .dataframe thead th {\n",
       "        text-align: right;\n",
       "    }\n",
       "</style>\n",
       "<table border=\"1\" class=\"dataframe\">\n",
       "  <thead>\n",
       "    <tr style=\"text-align: right;\">\n",
       "      <th></th>\n",
       "      <th>age</th>\n",
       "      <th>fare</th>\n",
       "    </tr>\n",
       "  </thead>\n",
       "  <tbody>\n",
       "    <tr>\n",
       "      <th>0</th>\n",
       "      <td>22</td>\n",
       "      <td>7.2500</td>\n",
       "    </tr>\n",
       "    <tr>\n",
       "      <th>1</th>\n",
       "      <td>38</td>\n",
       "      <td>71.2833</td>\n",
       "    </tr>\n",
       "    <tr>\n",
       "      <th>2</th>\n",
       "      <td>26</td>\n",
       "      <td>7.9250</td>\n",
       "    </tr>\n",
       "    <tr>\n",
       "      <th>3</th>\n",
       "      <td>35</td>\n",
       "      <td>53.1000</td>\n",
       "    </tr>\n",
       "    <tr>\n",
       "      <th>4</th>\n",
       "      <td>35</td>\n",
       "      <td>8.0500</td>\n",
       "    </tr>\n",
       "  </tbody>\n",
       "</table>\n",
       "</div>"
      ],
      "text/plain": [
       "   age     fare\n",
       "0   22   7.2500\n",
       "1   38  71.2833\n",
       "2   26   7.9250\n",
       "3   35  53.1000\n",
       "4   35   8.0500"
      ]
     },
     "execution_count": 4,
     "metadata": {},
     "output_type": "execute_result"
    }
   ],
   "source": [
    "x.head()"
   ]
  },
  {
   "cell_type": "markdown",
   "id": "114fb613",
   "metadata": {
    "papermill": {
     "duration": 0.043921,
     "end_time": "2022-04-05T09:37:29.132466",
     "exception": false,
     "start_time": "2022-04-05T09:37:29.088545",
     "status": "completed"
    },
    "tags": []
   },
   "source": [
    "#### **Note:** Do the 'Train Test Split' before applying feature scaling in both the term Standerdization/Normalization"
   ]
  },
  {
   "cell_type": "markdown",
   "id": "48707fd6",
   "metadata": {
    "papermill": {
     "duration": 0.044253,
     "end_time": "2022-04-05T09:37:29.221704",
     "exception": false,
     "start_time": "2022-04-05T09:37:29.177451",
     "status": "completed"
    },
    "tags": []
   },
   "source": [
    "   ## <span style='color:green'>1. Standardization: "
   ]
  },
  {
   "cell_type": "code",
   "execution_count": 5,
   "id": "91cd7ab4",
   "metadata": {
    "execution": {
     "iopub.execute_input": "2022-04-05T09:37:29.310749Z",
     "iopub.status.busy": "2022-04-05T09:37:29.310121Z",
     "iopub.status.idle": "2022-04-05T09:37:29.456530Z",
     "shell.execute_reply": "2022-04-05T09:37:29.455844Z",
     "shell.execute_reply.started": "2022-04-05T09:31:38.264465Z"
    },
    "papermill": {
     "duration": 0.192707,
     "end_time": "2022-04-05T09:37:29.456669",
     "exception": false,
     "start_time": "2022-04-05T09:37:29.263962",
     "status": "completed"
    },
    "tags": []
   },
   "outputs": [],
   "source": [
    "from sklearn.preprocessing import StandardScaler\n",
    "sd = StandardScaler()"
   ]
  },
  {
   "cell_type": "code",
   "execution_count": 6,
   "id": "2f18e894",
   "metadata": {
    "execution": {
     "iopub.execute_input": "2022-04-05T09:37:29.550856Z",
     "iopub.status.busy": "2022-04-05T09:37:29.550201Z",
     "iopub.status.idle": "2022-04-05T09:37:29.557548Z",
     "shell.execute_reply": "2022-04-05T09:37:29.556998Z",
     "shell.execute_reply.started": "2022-04-05T09:31:38.406206Z"
    },
    "papermill": {
     "duration": 0.057235,
     "end_time": "2022-04-05T09:37:29.557706",
     "exception": false,
     "start_time": "2022-04-05T09:37:29.500471",
     "status": "completed"
    },
    "tags": []
   },
   "outputs": [],
   "source": [
    "sd.fit(x)\n",
    "x_scaled = sd.fit_transform(x)"
   ]
  },
  {
   "cell_type": "markdown",
   "id": "4672acee",
   "metadata": {
    "papermill": {
     "duration": 0.044811,
     "end_time": "2022-04-05T09:37:29.646316",
     "exception": false,
     "start_time": "2022-04-05T09:37:29.601505",
     "status": "completed"
    },
    "tags": []
   },
   "source": [
    "#### **Note:** StandardScaler take input as numpy array as well Pandas Dataframe but return only as numpy array"
   ]
  },
  {
   "cell_type": "code",
   "execution_count": 7,
   "id": "bde0fb26",
   "metadata": {
    "execution": {
     "iopub.execute_input": "2022-04-05T09:37:29.741245Z",
     "iopub.status.busy": "2022-04-05T09:37:29.740547Z",
     "iopub.status.idle": "2022-04-05T09:37:29.743241Z",
     "shell.execute_reply": "2022-04-05T09:37:29.743845Z",
     "shell.execute_reply.started": "2022-04-05T09:31:38.417430Z"
    },
    "papermill": {
     "duration": 0.054051,
     "end_time": "2022-04-05T09:37:29.744014",
     "exception": false,
     "start_time": "2022-04-05T09:37:29.689963",
     "status": "completed"
    },
    "tags": []
   },
   "outputs": [
    {
     "data": {
      "text/plain": [
       "array([[-0.58004441, -0.50244517],\n",
       "       [ 0.65011226,  0.78684529],\n",
       "       [-0.27250525, -0.48885426],\n",
       "       ...,\n",
       "       [-0.04185087, -0.17626324],\n",
       "       [-0.27250525, -0.04438104],\n",
       "       [ 0.18880351, -0.49237783]])"
      ]
     },
     "execution_count": 7,
     "metadata": {},
     "output_type": "execute_result"
    }
   ],
   "source": [
    "x_scaled"
   ]
  },
  {
   "cell_type": "markdown",
   "id": "3e5f22c8",
   "metadata": {
    "papermill": {
     "duration": 0.043076,
     "end_time": "2022-04-05T09:37:29.831467",
     "exception": false,
     "start_time": "2022-04-05T09:37:29.788391",
     "status": "completed"
    },
    "tags": []
   },
   "source": [
    "####  <span style='color:green'>converting numpy array to pandas dataframe"
   ]
  },
  {
   "cell_type": "code",
   "execution_count": 8,
   "id": "8d93da36",
   "metadata": {
    "execution": {
     "iopub.execute_input": "2022-04-05T09:37:29.922685Z",
     "iopub.status.busy": "2022-04-05T09:37:29.922033Z",
     "iopub.status.idle": "2022-04-05T09:37:29.931166Z",
     "shell.execute_reply": "2022-04-05T09:37:29.931638Z",
     "shell.execute_reply.started": "2022-04-05T09:31:38.435132Z"
    },
    "papermill": {
     "duration": 0.055831,
     "end_time": "2022-04-05T09:37:29.931831",
     "exception": false,
     "start_time": "2022-04-05T09:37:29.876000",
     "status": "completed"
    },
    "tags": []
   },
   "outputs": [
    {
     "data": {
      "text/html": [
       "<div>\n",
       "<style scoped>\n",
       "    .dataframe tbody tr th:only-of-type {\n",
       "        vertical-align: middle;\n",
       "    }\n",
       "\n",
       "    .dataframe tbody tr th {\n",
       "        vertical-align: top;\n",
       "    }\n",
       "\n",
       "    .dataframe thead th {\n",
       "        text-align: right;\n",
       "    }\n",
       "</style>\n",
       "<table border=\"1\" class=\"dataframe\">\n",
       "  <thead>\n",
       "    <tr style=\"text-align: right;\">\n",
       "      <th></th>\n",
       "      <th>age</th>\n",
       "      <th>fare</th>\n",
       "    </tr>\n",
       "  </thead>\n",
       "  <tbody>\n",
       "    <tr>\n",
       "      <th>0</th>\n",
       "      <td>-0.580044</td>\n",
       "      <td>-0.502445</td>\n",
       "    </tr>\n",
       "    <tr>\n",
       "      <th>1</th>\n",
       "      <td>0.650112</td>\n",
       "      <td>0.786845</td>\n",
       "    </tr>\n",
       "    <tr>\n",
       "      <th>2</th>\n",
       "      <td>-0.272505</td>\n",
       "      <td>-0.488854</td>\n",
       "    </tr>\n",
       "    <tr>\n",
       "      <th>3</th>\n",
       "      <td>0.419458</td>\n",
       "      <td>0.420730</td>\n",
       "    </tr>\n",
       "    <tr>\n",
       "      <th>4</th>\n",
       "      <td>0.419458</td>\n",
       "      <td>-0.486337</td>\n",
       "    </tr>\n",
       "  </tbody>\n",
       "</table>\n",
       "</div>"
      ],
      "text/plain": [
       "        age      fare\n",
       "0 -0.580044 -0.502445\n",
       "1  0.650112  0.786845\n",
       "2 -0.272505 -0.488854\n",
       "3  0.419458  0.420730\n",
       "4  0.419458 -0.486337"
      ]
     },
     "execution_count": 8,
     "metadata": {},
     "output_type": "execute_result"
    }
   ],
   "source": [
    "import pandas as pd\n",
    "x_scaled=pd.DataFrame(x_scaled,columns=x.columns)\n",
    "x_scaled.head()"
   ]
  },
  {
   "cell_type": "code",
   "execution_count": 9,
   "id": "c221b584",
   "metadata": {
    "execution": {
     "iopub.execute_input": "2022-04-05T09:37:30.029950Z",
     "iopub.status.busy": "2022-04-05T09:37:30.029290Z",
     "iopub.status.idle": "2022-04-05T09:37:30.032242Z",
     "shell.execute_reply": "2022-04-05T09:37:30.032811Z",
     "shell.execute_reply.started": "2022-04-05T09:31:38.450960Z"
    },
    "papermill": {
     "duration": 0.057294,
     "end_time": "2022-04-05T09:37:30.033011",
     "exception": false,
     "start_time": "2022-04-05T09:37:29.975717",
     "status": "completed"
    },
    "tags": []
   },
   "outputs": [
    {
     "data": {
      "text/html": [
       "<div>\n",
       "<style scoped>\n",
       "    .dataframe tbody tr th:only-of-type {\n",
       "        vertical-align: middle;\n",
       "    }\n",
       "\n",
       "    .dataframe tbody tr th {\n",
       "        vertical-align: top;\n",
       "    }\n",
       "\n",
       "    .dataframe thead th {\n",
       "        text-align: right;\n",
       "    }\n",
       "</style>\n",
       "<table border=\"1\" class=\"dataframe\">\n",
       "  <thead>\n",
       "    <tr style=\"text-align: right;\">\n",
       "      <th></th>\n",
       "      <th>age</th>\n",
       "      <th>fare</th>\n",
       "    </tr>\n",
       "  </thead>\n",
       "  <tbody>\n",
       "    <tr>\n",
       "      <th>0</th>\n",
       "      <td>22</td>\n",
       "      <td>7.2500</td>\n",
       "    </tr>\n",
       "    <tr>\n",
       "      <th>1</th>\n",
       "      <td>38</td>\n",
       "      <td>71.2833</td>\n",
       "    </tr>\n",
       "    <tr>\n",
       "      <th>2</th>\n",
       "      <td>26</td>\n",
       "      <td>7.9250</td>\n",
       "    </tr>\n",
       "    <tr>\n",
       "      <th>3</th>\n",
       "      <td>35</td>\n",
       "      <td>53.1000</td>\n",
       "    </tr>\n",
       "    <tr>\n",
       "      <th>4</th>\n",
       "      <td>35</td>\n",
       "      <td>8.0500</td>\n",
       "    </tr>\n",
       "  </tbody>\n",
       "</table>\n",
       "</div>"
      ],
      "text/plain": [
       "   age     fare\n",
       "0   22   7.2500\n",
       "1   38  71.2833\n",
       "2   26   7.9250\n",
       "3   35  53.1000\n",
       "4   35   8.0500"
      ]
     },
     "execution_count": 9,
     "metadata": {},
     "output_type": "execute_result"
    }
   ],
   "source": [
    "#original data\n",
    "x.head()"
   ]
  },
  {
   "cell_type": "code",
   "execution_count": 10,
   "id": "b5226dba",
   "metadata": {
    "execution": {
     "iopub.execute_input": "2022-04-05T09:37:30.129720Z",
     "iopub.status.busy": "2022-04-05T09:37:30.129051Z",
     "iopub.status.idle": "2022-04-05T09:37:30.134562Z",
     "shell.execute_reply": "2022-04-05T09:37:30.134041Z",
     "shell.execute_reply.started": "2022-04-05T09:31:38.465068Z"
    },
    "papermill": {
     "duration": 0.057299,
     "end_time": "2022-04-05T09:37:30.134701",
     "exception": false,
     "start_time": "2022-04-05T09:37:30.077402",
     "status": "completed"
    },
    "tags": []
   },
   "outputs": [
    {
     "data": {
      "text/html": [
       "<div>\n",
       "<style scoped>\n",
       "    .dataframe tbody tr th:only-of-type {\n",
       "        vertical-align: middle;\n",
       "    }\n",
       "\n",
       "    .dataframe tbody tr th {\n",
       "        vertical-align: top;\n",
       "    }\n",
       "\n",
       "    .dataframe thead th {\n",
       "        text-align: right;\n",
       "    }\n",
       "</style>\n",
       "<table border=\"1\" class=\"dataframe\">\n",
       "  <thead>\n",
       "    <tr style=\"text-align: right;\">\n",
       "      <th></th>\n",
       "      <th>age</th>\n",
       "      <th>fare</th>\n",
       "    </tr>\n",
       "  </thead>\n",
       "  <tbody>\n",
       "    <tr>\n",
       "      <th>0</th>\n",
       "      <td>-0.580044</td>\n",
       "      <td>-0.502445</td>\n",
       "    </tr>\n",
       "    <tr>\n",
       "      <th>1</th>\n",
       "      <td>0.650112</td>\n",
       "      <td>0.786845</td>\n",
       "    </tr>\n",
       "    <tr>\n",
       "      <th>2</th>\n",
       "      <td>-0.272505</td>\n",
       "      <td>-0.488854</td>\n",
       "    </tr>\n",
       "    <tr>\n",
       "      <th>3</th>\n",
       "      <td>0.419458</td>\n",
       "      <td>0.420730</td>\n",
       "    </tr>\n",
       "    <tr>\n",
       "      <th>4</th>\n",
       "      <td>0.419458</td>\n",
       "      <td>-0.486337</td>\n",
       "    </tr>\n",
       "  </tbody>\n",
       "</table>\n",
       "</div>"
      ],
      "text/plain": [
       "        age      fare\n",
       "0 -0.580044 -0.502445\n",
       "1  0.650112  0.786845\n",
       "2 -0.272505 -0.488854\n",
       "3  0.419458  0.420730\n",
       "4  0.419458 -0.486337"
      ]
     },
     "execution_count": 10,
     "metadata": {},
     "output_type": "execute_result"
    }
   ],
   "source": [
    "# scaled data\n",
    "x_scaled.head()"
   ]
  },
  {
   "cell_type": "markdown",
   "id": "3fc44802",
   "metadata": {
    "papermill": {
     "duration": 0.046027,
     "end_time": "2022-04-05T09:37:30.225301",
     "exception": false,
     "start_time": "2022-04-05T09:37:30.179274",
     "status": "completed"
    },
    "tags": []
   },
   "source": [
    "> ### *see the difference*"
   ]
  },
  {
   "cell_type": "markdown",
   "id": "6a65ab68",
   "metadata": {
    "papermill": {
     "duration": 0.044929,
     "end_time": "2022-04-05T09:37:30.315175",
     "exception": false,
     "start_time": "2022-04-05T09:37:30.270246",
     "status": "completed"
    },
    "tags": []
   },
   "source": [
    "### <span style='color:red'>Effect of scaling?"
   ]
  },
  {
   "cell_type": "code",
   "execution_count": 11,
   "id": "8b8fa6fa",
   "metadata": {
    "execution": {
     "iopub.execute_input": "2022-04-05T09:37:30.407679Z",
     "iopub.status.busy": "2022-04-05T09:37:30.407041Z",
     "iopub.status.idle": "2022-04-05T09:37:30.830175Z",
     "shell.execute_reply": "2022-04-05T09:37:30.830635Z",
     "shell.execute_reply.started": "2022-04-05T09:31:38.476121Z"
    },
    "papermill": {
     "duration": 0.470889,
     "end_time": "2022-04-05T09:37:30.830809",
     "exception": false,
     "start_time": "2022-04-05T09:37:30.359920",
     "status": "completed"
    },
    "tags": []
   },
   "outputs": [
    {
     "data": {
      "text/plain": [
       "Text(0.5, 1.0, 'After Scaling')"
      ]
     },
     "execution_count": 11,
     "metadata": {},
     "output_type": "execute_result"
    },
    {
     "data": {
      "image/png": "[encoded data removed]",
      "text/plain": [
       "<Figure size 1080x360 with 2 Axes>"
      ]
     },
     "metadata": {
      "needs_background": "light"
     },
     "output_type": "display_data"
    }
   ],
   "source": [
    "import matplotlib.pyplot as plt\n",
    "import warnings\n",
    "warnings.simplefilter(action='ignore', category=FutureWarning)\n",
    "\n",
    "plt.figure(figsize=(15,5))\n",
    "plt.subplot(121)\n",
    "sns.scatterplot(x['age'],x['fare'])\n",
    "plt.title('Before Scaling',color='red')\n",
    "\n",
    "plt.subplot(122)\n",
    "sns.scatterplot(x_scaled['age'],x_scaled['fare'])\n",
    "plt.title('After Scaling',color='red')\n",
    "\n",
    "\n"
   ]
  },
  {
   "cell_type": "markdown",
   "id": "1308ae10",
   "metadata": {
    "execution": {
     "iopub.execute_input": "2022-04-05T08:14:02.462148Z",
     "iopub.status.busy": "2022-04-05T08:14:02.461816Z",
     "iopub.status.idle": "2022-04-05T08:14:02.467685Z",
     "shell.execute_reply": "2022-04-05T08:14:02.466864Z",
     "shell.execute_reply.started": "2022-04-05T08:14:02.462098Z"
    },
    "papermill": {
     "duration": 0.047167,
     "end_time": "2022-04-05T09:37:30.924620",
     "exception": false,
     "start_time": "2022-04-05T09:37:30.877453",
     "status": "completed"
    },
    "tags": []
   },
   "source": [
    "> <span style='color:blue'>**see the above graph, there is no change in scatter point, only scaling changed(see x,y scale)**"
   ]
  },
  {
   "cell_type": "code",
   "execution_count": 12,
   "id": "86534675",
   "metadata": {
    "execution": {
     "iopub.execute_input": "2022-04-05T09:37:31.027512Z",
     "iopub.status.busy": "2022-04-05T09:37:31.026773Z",
     "iopub.status.idle": "2022-04-05T09:37:31.446847Z",
     "shell.execute_reply": "2022-04-05T09:37:31.447373Z",
     "shell.execute_reply.started": "2022-04-05T09:31:38.916438Z"
    },
    "papermill": {
     "duration": 0.475841,
     "end_time": "2022-04-05T09:37:31.447546",
     "exception": false,
     "start_time": "2022-04-05T09:37:30.971705",
     "status": "completed"
    },
    "tags": []
   },
   "outputs": [
    {
     "data": {
      "text/plain": [
       "<matplotlib.legend.Legend at 0x7f8f3778ad50>"
      ]
     },
     "execution_count": 12,
     "metadata": {},
     "output_type": "execute_result"
    },
    {
     "data": {
      "image/png": "[encoded data removed]",
      "text/plain": [
       "<Figure size 1080x360 with 2 Axes>"
      ]
     },
     "metadata": {
      "needs_background": "light"
     },
     "output_type": "display_data"
    }
   ],
   "source": [
    "plt.figure(figsize=(15,5))\n",
    "plt.subplot(121)\n",
    "sns.kdeplot(x['age'],label='Age')\n",
    "# sns.kdeplot(x['fare'],label='Fare')\n",
    "plt.title('Before Scaling',color='red')\n",
    "plt.legend()\n",
    "plt.subplot(122)\n",
    "sns.kdeplot(x_scaled['age'],label='Age')\n",
    "# sns.kdeplot(x_scaled['fare'],label='Fare')\n",
    "plt.title('After Scaling',color='red')\n",
    "plt.legend()"
   ]
  },
  {
   "cell_type": "code",
   "execution_count": 13,
   "id": "ed3a3dde",
   "metadata": {
    "execution": {
     "iopub.execute_input": "2022-04-05T09:37:31.553929Z",
     "iopub.status.busy": "2022-04-05T09:37:31.552890Z",
     "iopub.status.idle": "2022-04-05T09:37:31.971658Z",
     "shell.execute_reply": "2022-04-05T09:37:31.971028Z",
     "shell.execute_reply.started": "2022-04-05T09:31:39.345941Z"
    },
    "papermill": {
     "duration": 0.47592,
     "end_time": "2022-04-05T09:37:31.971795",
     "exception": false,
     "start_time": "2022-04-05T09:37:31.495875",
     "status": "completed"
    },
    "tags": []
   },
   "outputs": [
    {
     "data": {
      "text/plain": [
       "<matplotlib.legend.Legend at 0x7f8f37625310>"
      ]
     },
     "execution_count": 13,
     "metadata": {},
     "output_type": "execute_result"
    },
    {
     "data": {
      "image/png": "[encoded data removed]",
      "text/plain": [
       "<Figure size 1080x360 with 2 Axes>"
      ]
     },
     "metadata": {
      "needs_background": "light"
     },
     "output_type": "display_data"
    }
   ],
   "source": [
    "plt.figure(figsize=(15,5))\n",
    "plt.subplot(121)\n",
    "# sns.kdeplot(x['age'],label='Age')\n",
    "sns.kdeplot(x['fare'],label='Fare')\n",
    "plt.title('Before Scaling',color='red')\n",
    "plt.legend()\n",
    "plt.subplot(122)\n",
    "# sns.kdeplot(x_scaled['age'],label='Age')\n",
    "sns.kdeplot(x_scaled['fare'],label='Fare')\n",
    "plt.title('After Scaling',color='red')\n",
    "plt.legend()"
   ]
  },
  {
   "cell_type": "code",
   "execution_count": 14,
   "id": "ad96245a",
   "metadata": {
    "execution": {
     "iopub.execute_input": "2022-04-05T09:37:32.107475Z",
     "iopub.status.busy": "2022-04-05T09:37:32.106468Z",
     "iopub.status.idle": "2022-04-05T09:37:32.531270Z",
     "shell.execute_reply": "2022-04-05T09:37:32.530738Z",
     "shell.execute_reply.started": "2022-04-05T09:31:39.772785Z"
    },
    "papermill": {
     "duration": 0.508265,
     "end_time": "2022-04-05T09:37:32.531419",
     "exception": false,
     "start_time": "2022-04-05T09:37:32.023154",
     "status": "completed"
    },
    "tags": []
   },
   "outputs": [
    {
     "data": {
      "text/plain": [
       "<matplotlib.legend.Legend at 0x7f8f374ff190>"
      ]
     },
     "execution_count": 14,
     "metadata": {},
     "output_type": "execute_result"
    },
    {
     "data": {
      "image/png": "[encoded data removed]",
      "text/plain": [
       "<Figure size 1080x360 with 2 Axes>"
      ]
     },
     "metadata": {
      "needs_background": "light"
     },
     "output_type": "display_data"
    }
   ],
   "source": [
    "plt.figure(figsize=(15,5))\n",
    "plt.subplot(121)\n",
    "sns.kdeplot(x['age'],label='Age')\n",
    "sns.kdeplot(x['fare'],label='Fare')\n",
    "plt.title('Before Scaling',color='red')\n",
    "plt.legend()\n",
    "plt.subplot(122)\n",
    "sns.kdeplot(x_scaled['age'],label='Age')\n",
    "sns.kdeplot(x_scaled['fare'],label='Fare')\n",
    "plt.title('After Scaling',color='red')\n",
    "plt.legend()"
   ]
  },
  {
   "cell_type": "markdown",
   "id": "5f2f668b",
   "metadata": {
    "papermill": {
     "duration": 0.052429,
     "end_time": "2022-04-05T09:37:32.636174",
     "exception": false,
     "start_time": "2022-04-05T09:37:32.583745",
     "status": "completed"
    },
    "tags": []
   },
   "source": [
    "# <span style='color:Red'>Effect on Outliers after applying scaling?"
   ]
  },
  {
   "cell_type": "code",
   "execution_count": 15,
   "id": "1fb09ac0",
   "metadata": {
    "execution": {
     "iopub.execute_input": "2022-04-05T09:37:32.767103Z",
     "iopub.status.busy": "2022-04-05T09:37:32.760190Z",
     "iopub.status.idle": "2022-04-05T09:37:33.010578Z",
     "shell.execute_reply": "2022-04-05T09:37:33.010006Z",
     "shell.execute_reply.started": "2022-04-05T09:31:40.303311Z"
    },
    "papermill": {
     "duration": 0.322578,
     "end_time": "2022-04-05T09:37:33.010712",
     "exception": false,
     "start_time": "2022-04-05T09:37:32.688134",
     "status": "completed"
    },
    "tags": []
   },
   "outputs": [
    {
     "data": {
      "image/png": "[encoded data removed]",
      "text/plain": [
       "<Figure size 1080x360 with 2 Axes>"
      ]
     },
     "metadata": {
      "needs_background": "light"
     },
     "output_type": "display_data"
    }
   ],
   "source": [
    "plt.figure(figsize=(15,5))\n",
    "plt.subplot(121)\n",
    "sns.boxplot(x['age'])\n",
    "plt.title('Before Scaling',color='red')\n",
    "\n",
    "plt.subplot(122)\n",
    "sns.boxplot(x_scaled['age'])\n",
    "plt.title('After Scaling',color='red')\n",
    "plt.show()"
   ]
  },
  {
   "cell_type": "markdown",
   "id": "505e6b8f",
   "metadata": {
    "papermill": {
     "duration": 0.052676,
     "end_time": "2022-04-05T09:37:33.117003",
     "exception": false,
     "start_time": "2022-04-05T09:37:33.064327",
     "status": "completed"
    },
    "tags": []
   },
   "source": [
    "**<span style='color:Red'>Note:</span> Outliers are still same in scaled data. So, feature scaling can't handle outliers.\n",
    "Before applying scaling, first remove outliers then apply scaling.**"
   ]
  },
  {
   "cell_type": "markdown",
   "id": "1e944e0e",
   "metadata": {
    "papermill": {
     "duration": 0.052932,
     "end_time": "2022-04-05T09:37:33.222568",
     "exception": false,
     "start_time": "2022-04-05T09:37:33.169636",
     "status": "completed"
    },
    "tags": []
   },
   "source": [
    "# <span style='color:Red'>Where must use Standardization?</span>\n",
    "> <span style='color:blue'>There is no negative result of using standardization    </span>\n",
    "- Here are the some algorithms where must use standardization-\n",
    "    1. K-Means\n",
    "    2. KNN\n",
    "    3. PCA\n",
    "    4. Gradient Descent\n",
    "    5. Artificial Descent\n"
   ]
  },
  {
   "cell_type": "markdown",
   "id": "76266965",
   "metadata": {
    "papermill": {
     "duration": 0.053015,
     "end_time": "2022-04-05T09:37:33.328489",
     "exception": false,
     "start_time": "2022-04-05T09:37:33.275474",
     "status": "completed"
    },
    "tags": []
   },
   "source": []
  },
  {
   "cell_type": "code",
   "execution_count": null,
   "id": "a7c1a130",
   "metadata": {
    "papermill": {
     "duration": 0.052453,
     "end_time": "2022-04-05T09:37:33.434156",
     "exception": false,
     "start_time": "2022-04-05T09:37:33.381703",
     "status": "completed"
    },
    "tags": []
   },
   "outputs": [],
   "source": []
  },
  {
   "cell_type": "code",
   "execution_count": null,
   "id": "0c68061c",
   "metadata": {
    "papermill": {
     "duration": 0.053095,
     "end_time": "2022-04-05T09:37:33.539994",
     "exception": false,
     "start_time": "2022-04-05T09:37:33.486899",
     "status": "completed"
    },
    "tags": []
   },
   "outputs": [],
   "source": []
  },
  {
   "cell_type": "code",
   "execution_count": null,
   "id": "f66dc52c",
   "metadata": {
    "papermill": {
     "duration": 0.052689,
     "end_time": "2022-04-05T09:37:33.647165",
     "exception": false,
     "start_time": "2022-04-05T09:37:33.594476",
     "status": "completed"
    },
    "tags": []
   },
   "outputs": [],
   "source": []
  },
  {
   "cell_type": "code",
   "execution_count": null,
   "id": "ff9db5f6",
   "metadata": {
    "papermill": {
     "duration": 0.052481,
     "end_time": "2022-04-05T09:37:33.752373",
     "exception": false,
     "start_time": "2022-04-05T09:37:33.699892",
     "status": "completed"
    },
    "tags": []
   },
   "outputs": [],
   "source": []
  },
  {
   "cell_type": "code",
   "execution_count": null,
   "id": "c155f473",
   "metadata": {
    "papermill": {
     "duration": 0.052734,
     "end_time": "2022-04-05T09:37:33.858056",
     "exception": false,
     "start_time": "2022-04-05T09:37:33.805322",
     "status": "completed"
    },
    "tags": []
   },
   "outputs": [],
   "source": []
  },
  {
   "cell_type": "code",
   "execution_count": null,
   "id": "442e380b",
   "metadata": {
    "papermill": {
     "duration": 0.052507,
     "end_time": "2022-04-05T09:37:33.964989",
     "exception": false,
     "start_time": "2022-04-05T09:37:33.912482",
     "status": "completed"
    },
    "tags": []
   },
   "outputs": [],
   "source": []
  },
  {
   "cell_type": "code",
   "execution_count": null,
   "id": "f1288c2b",
   "metadata": {
    "papermill": {
     "duration": 0.053463,
     "end_time": "2022-04-05T09:37:34.071617",
     "exception": false,
     "start_time": "2022-04-05T09:37:34.018154",
     "status": "completed"
    },
    "tags": []
   },
   "outputs": [],
   "source": []
  },
  {
   "cell_type": "code",
   "execution_count": null,
   "id": "a59fe932",
   "metadata": {
    "papermill": {
     "duration": 0.053285,
     "end_time": "2022-04-05T09:37:34.177928",
     "exception": false,
     "start_time": "2022-04-05T09:37:34.124643",
     "status": "completed"
    },
    "tags": []
   },
   "outputs": [],
   "source": []
  },
  {
   "cell_type": "code",
   "execution_count": null,
   "id": "c7e73f47",
   "metadata": {
    "papermill": {
     "duration": 0.052531,
     "end_time": "2022-04-05T09:37:34.284117",
     "exception": false,
     "start_time": "2022-04-05T09:37:34.231586",
     "status": "completed"
    },
    "tags": []
   },
   "outputs": [],
   "source": []
  },
  {
   "cell_type": "code",
   "execution_count": null,
   "id": "e1a35548",
   "metadata": {
    "papermill": {
     "duration": 0.052638,
     "end_time": "2022-04-05T09:37:34.390235",
     "exception": false,
     "start_time": "2022-04-05T09:37:34.337597",
     "status": "completed"
    },
    "tags": []
   },
   "outputs": [],
   "source": []
  },
  {
   "cell_type": "code",
   "execution_count": null,
   "id": "b27dfac4",
   "metadata": {
    "papermill": {
     "duration": 0.052693,
     "end_time": "2022-04-05T09:37:34.495673",
     "exception": false,
     "start_time": "2022-04-05T09:37:34.442980",
     "status": "completed"
    },
    "tags": []
   },
   "outputs": [],
   "source": []
  },
  {
   "cell_type": "code",
   "execution_count": null,
   "id": "a96272e4",
   "metadata": {
    "papermill": {
     "duration": 0.052729,
     "end_time": "2022-04-05T09:37:34.601292",
     "exception": false,
     "start_time": "2022-04-05T09:37:34.548563",
     "status": "completed"
    },
    "tags": []
   },
   "outputs": [],
   "source": []
  },
  {
   "cell_type": "code",
   "execution_count": null,
   "id": "3db58c81",
   "metadata": {
    "papermill": {
     "duration": 0.052318,
     "end_time": "2022-04-05T09:37:34.708644",
     "exception": false,
     "start_time": "2022-04-05T09:37:34.656326",
     "status": "completed"
    },
    "tags": []
   },
   "outputs": [],
   "source": []
  },
  {
   "cell_type": "code",
   "execution_count": null,
   "id": "f068ce4b",
   "metadata": {
    "papermill": {
     "duration": 0.053163,
     "end_time": "2022-04-05T09:37:34.815721",
     "exception": false,
     "start_time": "2022-04-05T09:37:34.762558",
     "status": "completed"
    },
    "tags": []
   },
   "outputs": [],
   "source": []
  },
  {
   "cell_type": "code",
   "execution_count": null,
   "id": "cdb8665b",
   "metadata": {
    "papermill": {
     "duration": 0.052744,
     "end_time": "2022-04-05T09:37:34.921774",
     "exception": false,
     "start_time": "2022-04-05T09:37:34.869030",
     "status": "completed"
    },
    "tags": []
   },
   "outputs": [],
   "source": []
  },
  {
   "cell_type": "code",
   "execution_count": null,
   "id": "70ade697",
   "metadata": {
    "papermill": {
     "duration": 0.05387,
     "end_time": "2022-04-05T09:37:35.029537",
     "exception": false,
     "start_time": "2022-04-05T09:37:34.975667",
     "status": "completed"
    },
    "tags": []
   },
   "outputs": [],
   "source": []
  },
  {
   "cell_type": "code",
   "execution_count": null,
   "id": "3bb1256f",
   "metadata": {
    "papermill": {
     "duration": 0.053213,
     "end_time": "2022-04-05T09:37:35.136914",
     "exception": false,
     "start_time": "2022-04-05T09:37:35.083701",
     "status": "completed"
    },
    "tags": []
   },
   "outputs": [],
   "source": []
  },
  {
   "cell_type": "code",
   "execution_count": null,
   "id": "e4c38061",
   "metadata": {
    "papermill": {
     "duration": 0.053481,
     "end_time": "2022-04-05T09:37:35.244666",
     "exception": false,
     "start_time": "2022-04-05T09:37:35.191185",
     "status": "completed"
    },
    "tags": []
   },
   "outputs": [],
   "source": []
  },
  {
   "cell_type": "code",
   "execution_count": null,
   "id": "d55a66e5",
   "metadata": {
    "papermill": {
     "duration": 0.053674,
     "end_time": "2022-04-05T09:37:35.351552",
     "exception": false,
     "start_time": "2022-04-05T09:37:35.297878",
     "status": "completed"
    },
    "tags": []
   },
   "outputs": [],
   "source": []
  },
  {
   "cell_type": "code",
   "execution_count": null,
   "id": "4b3e488f",
   "metadata": {
    "papermill": {
     "duration": 0.052655,
     "end_time": "2022-04-05T09:37:35.457384",
     "exception": false,
     "start_time": "2022-04-05T09:37:35.404729",
     "status": "completed"
    },
    "tags": []
   },
   "outputs": [],
   "source": []
  },
  {
   "cell_type": "code",
   "execution_count": null,
   "id": "c7a85528",
   "metadata": {
    "papermill": {
     "duration": 0.052904,
     "end_time": "2022-04-05T09:37:35.563494",
     "exception": false,
     "start_time": "2022-04-05T09:37:35.510590",
     "status": "completed"
    },
    "tags": []
   },
   "outputs": [],
   "source": []
  },
  {
   "cell_type": "code",
   "execution_count": null,
   "id": "54d7f746",
   "metadata": {
    "papermill": {
     "duration": 0.052546,
     "end_time": "2022-04-05T09:37:35.669294",
     "exception": false,
     "start_time": "2022-04-05T09:37:35.616748",
     "status": "completed"
    },
    "tags": []
   },
   "outputs": [],
   "source": []
  },
  {
   "cell_type": "code",
   "execution_count": null,
   "id": "f410ef01",
   "metadata": {
    "papermill": {
     "duration": 0.053084,
     "end_time": "2022-04-05T09:37:35.775285",
     "exception": false,
     "start_time": "2022-04-05T09:37:35.722201",
     "status": "completed"
    },
    "tags": []
   },
   "outputs": [],
   "source": []
  },
  {
   "cell_type": "code",
   "execution_count": null,
   "id": "f18207db",
   "metadata": {
    "papermill": {
     "duration": 0.052831,
     "end_time": "2022-04-05T09:37:35.880681",
     "exception": false,
     "start_time": "2022-04-05T09:37:35.827850",
     "status": "completed"
    },
    "tags": []
   },
   "outputs": [],
   "source": []
  }
 ],
 "metadata": {
  "kernelspec": {
   "display_name": "Python 3",
   "language": "python",
   "name": "python3"
  },
  "language_info": {
   "codemirror_mode": {
    "name": "ipython",
    "version": 3
   },
   "file_extension": ".py",
   "mimetype": "text/x-python",
   "name": "python",
   "nbconvert_exporter": "python",
   "pygments_lexer": "ipython3",
   "version": "3.7.12"
  },
  "papermill": {
   "default_parameters": {},
   "duration": 20.010882,
   "end_time": "2022-04-05T09:37:36.645325",
   "environment_variables": {},
   "exception": null,
   "input_path": "__notebook__.ipynb",
   "output_path": "__notebook__.ipynb",
   "parameters": {},
   "start_time": "2022-04-05T09:37:16.634443",
   "version": "2.3.3"
  }
 },
 "nbformat": 4,
 "nbformat_minor": 5
}

{
 "cells": [
  {
   "attachments": {
    "c7277de2-a03b-454f-8458-fb9c75786ab9.jpg": {
     "image/jpeg": "[encoded data removed]"
    }
   },
   "cell_type": "markdown",
   "id": "cfe78e42",
   "metadata": {
    "papermill": {
     "duration": 0.0584,
     "end_time": "2022-04-05T04:58:27.651430",
     "exception": false,
     "start_time": "2022-04-05T04:58:27.593030",
     "status": "completed"
    },
    "tags": []
   },
   "source": [
    "# <span style='background :red' > EDA: Exploratory Data Analysis\n",
    "\n",
    "> <span style='background :gray' >Exploratory Data Analysis, or EDA, is an important step in any Data Analysis or Data Science project. EDA is the process of investigating the dataset to discover patterns, and anomalies (outliers), and form hypotheses based on our understanding of the dataset.\n",
    "EDA involves generating summary statistics for numerical data in the dataset and creating various graphical representations to understand the data better. In this article, we will understand EDA with the help of an example dataset. We will use Python language (Pandas library) for this purpose.\n",
    "\n",
    "   ![exploratory-data-analysis.jpg](attachment:c7277de2-a03b-454f-8458-fb9c75786ab9.jpg)"
   ]
  },
  {
   "cell_type": "markdown",
   "id": "938f8350",
   "metadata": {
    "papermill": {
     "duration": 0.059072,
     "end_time": "2022-04-05T04:58:27.776017",
     "exception": false,
     "start_time": "2022-04-05T04:58:27.716945",
     "status": "completed"
    },
    "tags": []
   },
   "source": [
    "# <span style='color :orange' >Types of EDA:\n",
    "    1. Univariate Analysis : Analysis of single column(one variable)\n",
    "    2. Bi-Variate Analysis: Analysis of two columns(two variable)\n",
    "    3. Multi-variate Analysis: Analysis of more than two columns(more than 2 variable)\n",
    "    "
   ]
  },
  {
   "cell_type": "markdown",
   "id": "67a7775b",
   "metadata": {
    "papermill": {
     "duration": 0.054113,
     "end_time": "2022-04-05T04:58:27.886102",
     "exception": false,
     "start_time": "2022-04-05T04:58:27.831989",
     "status": "completed"
    },
    "tags": []
   },
   "source": [
    "## Before performing EDA, you should know data your data.\n",
    "### How to know your data?\n",
    "  - To know your data ask these 7 questions-\n"
   ]
  },
  {
   "cell_type": "markdown",
   "id": "65d7a82e",
   "metadata": {
    "papermill": {
     "duration": 0.054767,
     "end_time": "2022-04-05T04:58:27.996118",
     "exception": false,
     "start_time": "2022-04-05T04:58:27.941351",
     "status": "completed"
    },
    "tags": []
   },
   "source": [
    "#### First... load your data:-"
   ]
  },
  {
   "cell_type": "code",
   "execution_count": 1,
   "id": "06f4fe12",
   "metadata": {
    "execution": {
     "iopub.execute_input": "2022-04-05T04:58:28.112159Z",
     "iopub.status.busy": "2022-04-05T04:58:28.110937Z",
     "iopub.status.idle": "2022-04-05T04:58:29.611899Z",
     "shell.execute_reply": "2022-04-05T04:58:29.611076Z",
     "shell.execute_reply.started": "2022-04-05T04:36:53.752181Z"
    },
    "papermill": {
     "duration": 1.560007,
     "end_time": "2022-04-05T04:58:29.612075",
     "exception": false,
     "start_time": "2022-04-05T04:58:28.052068",
     "status": "completed"
    },
    "tags": []
   },
   "outputs": [],
   "source": [
    "import pandas as pd\n",
    "import numpy as np\n",
    "import plotly.express as px\n",
    "df = px.data.tips()\n",
    "import warnings\n",
    "warnings.simplefilter(action='ignore', category=FutureWarning)"
   ]
  },
  {
   "cell_type": "markdown",
   "id": "1bc80bf1",
   "metadata": {
    "papermill": {
     "duration": 0.054779,
     "end_time": "2022-04-05T04:58:29.721774",
     "exception": false,
     "start_time": "2022-04-05T04:58:29.666995",
     "status": "completed"
    },
    "tags": []
   },
   "source": [
    "## <span style='color:Blue'>Q 1. How big is your data?</span>\n",
    "  - use shape() method of pandas\n",
    "  - it will return a tuple (total rows, total columns)"
   ]
  },
  {
   "cell_type": "code",
   "execution_count": 2,
   "id": "32074826",
   "metadata": {
    "execution": {
     "iopub.execute_input": "2022-04-05T04:58:29.834030Z",
     "iopub.status.busy": "2022-04-05T04:58:29.833400Z",
     "iopub.status.idle": "2022-04-05T04:58:29.841854Z",
     "shell.execute_reply": "2022-04-05T04:58:29.841357Z",
     "shell.execute_reply.started": "2022-04-05T04:36:53.869381Z"
    },
    "papermill": {
     "duration": 0.065716,
     "end_time": "2022-04-05T04:58:29.841992",
     "exception": false,
     "start_time": "2022-04-05T04:58:29.776276",
     "status": "completed"
    },
    "tags": []
   },
   "outputs": [
    {
     "data": {
      "text/plain": [
       "(244, 7)"
      ]
     },
     "execution_count": 2,
     "metadata": {},
     "output_type": "execute_result"
    }
   ],
   "source": [
    "df.shape"
   ]
  },
  {
   "cell_type": "markdown",
   "id": "0b4c0ce4",
   "metadata": {
    "papermill": {
     "duration": 0.054539,
     "end_time": "2022-04-05T04:58:29.952151",
     "exception": false,
     "start_time": "2022-04-05T04:58:29.897612",
     "status": "completed"
    },
    "tags": []
   },
   "source": [
    "- so, this dataset  have 244 rows and 7 columns"
   ]
  },
  {
   "cell_type": "markdown",
   "id": "bcff1183",
   "metadata": {
    "papermill": {
     "duration": 0.056744,
     "end_time": "2022-04-05T04:58:30.064710",
     "exception": false,
     "start_time": "2022-04-05T04:58:30.007966",
     "status": "completed"
    },
    "tags": []
   },
   "source": [
    "## <span style='color:Blue'> Q 2. How does the data look like?</span>\n",
    "  - Three way to get this answer:-\n",
    "      1.  head() method: return top n rows and all columns, default 5 rows\n",
    "      2.  tail() method: rerurn last n rows and all columns, default 5 rows\n",
    "      3. sample() method: return random n rows and all columns, default 2 row"
   ]
  },
  {
   "cell_type": "code",
   "execution_count": 3,
   "id": "2d6b9ed3",
   "metadata": {
    "execution": {
     "iopub.execute_input": "2022-04-05T04:58:30.183692Z",
     "iopub.status.busy": "2022-04-05T04:58:30.182728Z",
     "iopub.status.idle": "2022-04-05T04:58:30.198060Z",
     "shell.execute_reply": "2022-04-05T04:58:30.197473Z",
     "shell.execute_reply.started": "2022-04-05T04:36:53.988732Z"
    },
    "papermill": {
     "duration": 0.07807,
     "end_time": "2022-04-05T04:58:30.198206",
     "exception": false,
     "start_time": "2022-04-05T04:58:30.120136",
     "status": "completed"
    },
    "tags": []
   },
   "outputs": [
    {
     "data": {
      "text/html": [
       "<div>\n",
       "<style scoped>\n",
       "    .dataframe tbody tr th:only-of-type {\n",
       "        vertical-align: middle;\n",
       "    }\n",
       "\n",
       "    .dataframe tbody tr th {\n",
       "        vertical-align: top;\n",
       "    }\n",
       "\n",
       "    .dataframe thead th {\n",
       "        text-align: right;\n",
       "    }\n",
       "</style>\n",
       "<table border=\"1\" class=\"dataframe\">\n",
       "  <thead>\n",
       "    <tr style=\"text-align: right;\">\n",
       "      <th></th>\n",
       "      <th>total_bill</th>\n",
       "      <th>tip</th>\n",
       "      <th>sex</th>\n",
       "      <th>smoker</th>\n",
       "      <th>day</th>\n",
       "      <th>time</th>\n",
       "      <th>size</th>\n",
       "    </tr>\n",
       "  </thead>\n",
       "  <tbody>\n",
       "    <tr>\n",
       "      <th>0</th>\n",
       "      <td>16.99</td>\n",
       "      <td>1.01</td>\n",
       "      <td>Female</td>\n",
       "      <td>No</td>\n",
       "      <td>Sun</td>\n",
       "      <td>Dinner</td>\n",
       "      <td>2</td>\n",
       "    </tr>\n",
       "    <tr>\n",
       "      <th>1</th>\n",
       "      <td>10.34</td>\n",
       "      <td>1.66</td>\n",
       "      <td>Male</td>\n",
       "      <td>No</td>\n",
       "      <td>Sun</td>\n",
       "      <td>Dinner</td>\n",
       "      <td>3</td>\n",
       "    </tr>\n",
       "    <tr>\n",
       "      <th>2</th>\n",
       "      <td>21.01</td>\n",
       "      <td>3.50</td>\n",
       "      <td>Male</td>\n",
       "      <td>No</td>\n",
       "      <td>Sun</td>\n",
       "      <td>Dinner</td>\n",
       "      <td>3</td>\n",
       "    </tr>\n",
       "    <tr>\n",
       "      <th>3</th>\n",
       "      <td>23.68</td>\n",
       "      <td>3.31</td>\n",
       "      <td>Male</td>\n",
       "      <td>No</td>\n",
       "      <td>Sun</td>\n",
       "      <td>Dinner</td>\n",
       "      <td>2</td>\n",
       "    </tr>\n",
       "    <tr>\n",
       "      <th>4</th>\n",
       "      <td>24.59</td>\n",
       "      <td>3.61</td>\n",
       "      <td>Female</td>\n",
       "      <td>No</td>\n",
       "      <td>Sun</td>\n",
       "      <td>Dinner</td>\n",
       "      <td>4</td>\n",
       "    </tr>\n",
       "  </tbody>\n",
       "</table>\n",
       "</div>"
      ],
      "text/plain": [
       "   total_bill   tip     sex smoker  day    time  size\n",
       "0       16.99  1.01  Female     No  Sun  Dinner     2\n",
       "1       10.34  1.66    Male     No  Sun  Dinner     3\n",
       "2       21.01  3.50    Male     No  Sun  Dinner     3\n",
       "3       23.68  3.31    Male     No  Sun  Dinner     2\n",
       "4       24.59  3.61  Female     No  Sun  Dinner     4"
      ]
     },
     "execution_count": 3,
     "metadata": {},
     "output_type": "execute_result"
    }
   ],
   "source": [
    "# get default 5 rows data, index in series\n",
    "df.head()"
   ]
  },
  {
   "cell_type": "code",
   "execution_count": 4,
   "id": "bd951a01",
   "metadata": {
    "execution": {
     "iopub.execute_input": "2022-04-05T04:58:30.313555Z",
     "iopub.status.busy": "2022-04-05T04:58:30.312908Z",
     "iopub.status.idle": "2022-04-05T04:58:30.326422Z",
     "shell.execute_reply": "2022-04-05T04:58:30.327040Z",
     "shell.execute_reply.started": "2022-04-05T04:36:54.096522Z"
    },
    "papermill": {
     "duration": 0.072555,
     "end_time": "2022-04-05T04:58:30.327226",
     "exception": false,
     "start_time": "2022-04-05T04:58:30.254671",
     "status": "completed"
    },
    "tags": []
   },
   "outputs": [
    {
     "data": {
      "text/html": [
       "<div>\n",
       "<style scoped>\n",
       "    .dataframe tbody tr th:only-of-type {\n",
       "        vertical-align: middle;\n",
       "    }\n",
       "\n",
       "    .dataframe tbody tr th {\n",
       "        vertical-align: top;\n",
       "    }\n",
       "\n",
       "    .dataframe thead th {\n",
       "        text-align: right;\n",
       "    }\n",
       "</style>\n",
       "<table border=\"1\" class=\"dataframe\">\n",
       "  <thead>\n",
       "    <tr style=\"text-align: right;\">\n",
       "      <th></th>\n",
       "      <th>total_bill</th>\n",
       "      <th>tip</th>\n",
       "      <th>sex</th>\n",
       "      <th>smoker</th>\n",
       "      <th>day</th>\n",
       "      <th>time</th>\n",
       "      <th>size</th>\n",
       "    </tr>\n",
       "  </thead>\n",
       "  <tbody>\n",
       "    <tr>\n",
       "      <th>0</th>\n",
       "      <td>16.99</td>\n",
       "      <td>1.01</td>\n",
       "      <td>Female</td>\n",
       "      <td>No</td>\n",
       "      <td>Sun</td>\n",
       "      <td>Dinner</td>\n",
       "      <td>2</td>\n",
       "    </tr>\n",
       "    <tr>\n",
       "      <th>1</th>\n",
       "      <td>10.34</td>\n",
       "      <td>1.66</td>\n",
       "      <td>Male</td>\n",
       "      <td>No</td>\n",
       "      <td>Sun</td>\n",
       "      <td>Dinner</td>\n",
       "      <td>3</td>\n",
       "    </tr>\n",
       "    <tr>\n",
       "      <th>2</th>\n",
       "      <td>21.01</td>\n",
       "      <td>3.50</td>\n",
       "      <td>Male</td>\n",
       "      <td>No</td>\n",
       "      <td>Sun</td>\n",
       "      <td>Dinner</td>\n",
       "      <td>3</td>\n",
       "    </tr>\n",
       "    <tr>\n",
       "      <th>3</th>\n",
       "      <td>23.68</td>\n",
       "      <td>3.31</td>\n",
       "      <td>Male</td>\n",
       "      <td>No</td>\n",
       "      <td>Sun</td>\n",
       "      <td>Dinner</td>\n",
       "      <td>2</td>\n",
       "    </tr>\n",
       "    <tr>\n",
       "      <th>4</th>\n",
       "      <td>24.59</td>\n",
       "      <td>3.61</td>\n",
       "      <td>Female</td>\n",
       "      <td>No</td>\n",
       "      <td>Sun</td>\n",
       "      <td>Dinner</td>\n",
       "      <td>4</td>\n",
       "    </tr>\n",
       "    <tr>\n",
       "      <th>5</th>\n",
       "      <td>25.29</td>\n",
       "      <td>4.71</td>\n",
       "      <td>Male</td>\n",
       "      <td>No</td>\n",
       "      <td>Sun</td>\n",
       "      <td>Dinner</td>\n",
       "      <td>4</td>\n",
       "    </tr>\n",
       "    <tr>\n",
       "      <th>6</th>\n",
       "      <td>8.77</td>\n",
       "      <td>2.00</td>\n",
       "      <td>Male</td>\n",
       "      <td>No</td>\n",
       "      <td>Sun</td>\n",
       "      <td>Dinner</td>\n",
       "      <td>2</td>\n",
       "    </tr>\n",
       "    <tr>\n",
       "      <th>7</th>\n",
       "      <td>26.88</td>\n",
       "      <td>3.12</td>\n",
       "      <td>Male</td>\n",
       "      <td>No</td>\n",
       "      <td>Sun</td>\n",
       "      <td>Dinner</td>\n",
       "      <td>4</td>\n",
       "    </tr>\n",
       "    <tr>\n",
       "      <th>8</th>\n",
       "      <td>15.04</td>\n",
       "      <td>1.96</td>\n",
       "      <td>Male</td>\n",
       "      <td>No</td>\n",
       "      <td>Sun</td>\n",
       "      <td>Dinner</td>\n",
       "      <td>2</td>\n",
       "    </tr>\n",
       "    <tr>\n",
       "      <th>9</th>\n",
       "      <td>14.78</td>\n",
       "      <td>3.23</td>\n",
       "      <td>Male</td>\n",
       "      <td>No</td>\n",
       "      <td>Sun</td>\n",
       "      <td>Dinner</td>\n",
       "      <td>2</td>\n",
       "    </tr>\n",
       "  </tbody>\n",
       "</table>\n",
       "</div>"
      ],
      "text/plain": [
       "   total_bill   tip     sex smoker  day    time  size\n",
       "0       16.99  1.01  Female     No  Sun  Dinner     2\n",
       "1       10.34  1.66    Male     No  Sun  Dinner     3\n",
       "2       21.01  3.50    Male     No  Sun  Dinner     3\n",
       "3       23.68  3.31    Male     No  Sun  Dinner     2\n",
       "4       24.59  3.61  Female     No  Sun  Dinner     4\n",
       "5       25.29  4.71    Male     No  Sun  Dinner     4\n",
       "6        8.77  2.00    Male     No  Sun  Dinner     2\n",
       "7       26.88  3.12    Male     No  Sun  Dinner     4\n",
       "8       15.04  1.96    Male     No  Sun  Dinner     2\n",
       "9       14.78  3.23    Male     No  Sun  Dinner     2"
      ]
     },
     "execution_count": 4,
     "metadata": {},
     "output_type": "execute_result"
    }
   ],
   "source": [
    "# rows rows data\n",
    "df.head(10)"
   ]
  },
  {
   "cell_type": "code",
   "execution_count": 5,
   "id": "4173c999",
   "metadata": {
    "execution": {
     "iopub.execute_input": "2022-04-05T04:58:30.444400Z",
     "iopub.status.busy": "2022-04-05T04:58:30.443743Z",
     "iopub.status.idle": "2022-04-05T04:58:30.458786Z",
     "shell.execute_reply": "2022-04-05T04:58:30.458265Z",
     "shell.execute_reply.started": "2022-04-05T04:36:54.186133Z"
    },
    "papermill": {
     "duration": 0.074976,
     "end_time": "2022-04-05T04:58:30.458946",
     "exception": false,
     "start_time": "2022-04-05T04:58:30.383970",
     "status": "completed"
    },
    "tags": []
   },
   "outputs": [
    {
     "data": {
      "text/html": [
       "<div>\n",
       "<style scoped>\n",
       "    .dataframe tbody tr th:only-of-type {\n",
       "        vertical-align: middle;\n",
       "    }\n",
       "\n",
       "    .dataframe tbody tr th {\n",
       "        vertical-align: top;\n",
       "    }\n",
       "\n",
       "    .dataframe thead th {\n",
       "        text-align: right;\n",
       "    }\n",
       "</style>\n",
       "<table border=\"1\" class=\"dataframe\">\n",
       "  <thead>\n",
       "    <tr style=\"text-align: right;\">\n",
       "      <th></th>\n",
       "      <th>total_bill</th>\n",
       "      <th>tip</th>\n",
       "      <th>sex</th>\n",
       "      <th>smoker</th>\n",
       "      <th>day</th>\n",
       "      <th>time</th>\n",
       "      <th>size</th>\n",
       "    </tr>\n",
       "  </thead>\n",
       "  <tbody>\n",
       "    <tr>\n",
       "      <th>234</th>\n",
       "      <td>15.53</td>\n",
       "      <td>3.00</td>\n",
       "      <td>Male</td>\n",
       "      <td>Yes</td>\n",
       "      <td>Sat</td>\n",
       "      <td>Dinner</td>\n",
       "      <td>2</td>\n",
       "    </tr>\n",
       "    <tr>\n",
       "      <th>235</th>\n",
       "      <td>10.07</td>\n",
       "      <td>1.25</td>\n",
       "      <td>Male</td>\n",
       "      <td>No</td>\n",
       "      <td>Sat</td>\n",
       "      <td>Dinner</td>\n",
       "      <td>2</td>\n",
       "    </tr>\n",
       "    <tr>\n",
       "      <th>236</th>\n",
       "      <td>12.60</td>\n",
       "      <td>1.00</td>\n",
       "      <td>Male</td>\n",
       "      <td>Yes</td>\n",
       "      <td>Sat</td>\n",
       "      <td>Dinner</td>\n",
       "      <td>2</td>\n",
       "    </tr>\n",
       "    <tr>\n",
       "      <th>237</th>\n",
       "      <td>32.83</td>\n",
       "      <td>1.17</td>\n",
       "      <td>Male</td>\n",
       "      <td>Yes</td>\n",
       "      <td>Sat</td>\n",
       "      <td>Dinner</td>\n",
       "      <td>2</td>\n",
       "    </tr>\n",
       "    <tr>\n",
       "      <th>238</th>\n",
       "      <td>35.83</td>\n",
       "      <td>4.67</td>\n",
       "      <td>Female</td>\n",
       "      <td>No</td>\n",
       "      <td>Sat</td>\n",
       "      <td>Dinner</td>\n",
       "      <td>3</td>\n",
       "    </tr>\n",
       "    <tr>\n",
       "      <th>239</th>\n",
       "      <td>29.03</td>\n",
       "      <td>5.92</td>\n",
       "      <td>Male</td>\n",
       "      <td>No</td>\n",
       "      <td>Sat</td>\n",
       "      <td>Dinner</td>\n",
       "      <td>3</td>\n",
       "    </tr>\n",
       "    <tr>\n",
       "      <th>240</th>\n",
       "      <td>27.18</td>\n",
       "      <td>2.00</td>\n",
       "      <td>Female</td>\n",
       "      <td>Yes</td>\n",
       "      <td>Sat</td>\n",
       "      <td>Dinner</td>\n",
       "      <td>2</td>\n",
       "    </tr>\n",
       "    <tr>\n",
       "      <th>241</th>\n",
       "      <td>22.67</td>\n",
       "      <td>2.00</td>\n",
       "      <td>Male</td>\n",
       "      <td>Yes</td>\n",
       "      <td>Sat</td>\n",
       "      <td>Dinner</td>\n",
       "      <td>2</td>\n",
       "    </tr>\n",
       "    <tr>\n",
       "      <th>242</th>\n",
       "      <td>17.82</td>\n",
       "      <td>1.75</td>\n",
       "      <td>Male</td>\n",
       "      <td>No</td>\n",
       "      <td>Sat</td>\n",
       "      <td>Dinner</td>\n",
       "      <td>2</td>\n",
       "    </tr>\n",
       "    <tr>\n",
       "      <th>243</th>\n",
       "      <td>18.78</td>\n",
       "      <td>3.00</td>\n",
       "      <td>Female</td>\n",
       "      <td>No</td>\n",
       "      <td>Thur</td>\n",
       "      <td>Dinner</td>\n",
       "      <td>2</td>\n",
       "    </tr>\n",
       "  </tbody>\n",
       "</table>\n",
       "</div>"
      ],
      "text/plain": [
       "     total_bill   tip     sex smoker   day    time  size\n",
       "234       15.53  3.00    Male    Yes   Sat  Dinner     2\n",
       "235       10.07  1.25    Male     No   Sat  Dinner     2\n",
       "236       12.60  1.00    Male    Yes   Sat  Dinner     2\n",
       "237       32.83  1.17    Male    Yes   Sat  Dinner     2\n",
       "238       35.83  4.67  Female     No   Sat  Dinner     3\n",
       "239       29.03  5.92    Male     No   Sat  Dinner     3\n",
       "240       27.18  2.00  Female    Yes   Sat  Dinner     2\n",
       "241       22.67  2.00    Male    Yes   Sat  Dinner     2\n",
       "242       17.82  1.75    Male     No   Sat  Dinner     2\n",
       "243       18.78  3.00  Female     No  Thur  Dinner     2"
      ]
     },
     "execution_count": 5,
     "metadata": {},
     "output_type": "execute_result"
    }
   ],
   "source": [
    "# df.tail(), index in series\n",
    "df.tail(10)"
   ]
  },
  {
   "cell_type": "code",
   "execution_count": 6,
   "id": "d2807585",
   "metadata": {
    "execution": {
     "iopub.execute_input": "2022-04-05T04:58:30.583805Z",
     "iopub.status.busy": "2022-04-05T04:58:30.583131Z",
     "iopub.status.idle": "2022-04-05T04:58:30.591644Z",
     "shell.execute_reply": "2022-04-05T04:58:30.592264Z",
     "shell.execute_reply.started": "2022-04-05T04:36:54.271635Z"
    },
    "papermill": {
     "duration": 0.074752,
     "end_time": "2022-04-05T04:58:30.592432",
     "exception": false,
     "start_time": "2022-04-05T04:58:30.517680",
     "status": "completed"
    },
    "tags": []
   },
   "outputs": [
    {
     "data": {
      "text/html": [
       "<div>\n",
       "<style scoped>\n",
       "    .dataframe tbody tr th:only-of-type {\n",
       "        vertical-align: middle;\n",
       "    }\n",
       "\n",
       "    .dataframe tbody tr th {\n",
       "        vertical-align: top;\n",
       "    }\n",
       "\n",
       "    .dataframe thead th {\n",
       "        text-align: right;\n",
       "    }\n",
       "</style>\n",
       "<table border=\"1\" class=\"dataframe\">\n",
       "  <thead>\n",
       "    <tr style=\"text-align: right;\">\n",
       "      <th></th>\n",
       "      <th>total_bill</th>\n",
       "      <th>tip</th>\n",
       "      <th>sex</th>\n",
       "      <th>smoker</th>\n",
       "      <th>day</th>\n",
       "      <th>time</th>\n",
       "      <th>size</th>\n",
       "    </tr>\n",
       "  </thead>\n",
       "  <tbody>\n",
       "    <tr>\n",
       "      <th>98</th>\n",
       "      <td>21.01</td>\n",
       "      <td>3.0</td>\n",
       "      <td>Male</td>\n",
       "      <td>Yes</td>\n",
       "      <td>Fri</td>\n",
       "      <td>Dinner</td>\n",
       "      <td>2</td>\n",
       "    </tr>\n",
       "  </tbody>\n",
       "</table>\n",
       "</div>"
      ],
      "text/plain": [
       "    total_bill  tip   sex smoker  day    time  size\n",
       "98       21.01  3.0  Male    Yes  Fri  Dinner     2"
      ]
     },
     "execution_count": 6,
     "metadata": {},
     "output_type": "execute_result"
    }
   ],
   "source": [
    "df.sample()"
   ]
  },
  {
   "cell_type": "code",
   "execution_count": 7,
   "id": "7ee81ca6",
   "metadata": {
    "execution": {
     "iopub.execute_input": "2022-04-05T04:58:30.711626Z",
     "iopub.status.busy": "2022-04-05T04:58:30.710893Z",
     "iopub.status.idle": "2022-04-05T04:58:30.722692Z",
     "shell.execute_reply": "2022-04-05T04:58:30.723190Z",
     "shell.execute_reply.started": "2022-04-05T04:36:54.370538Z"
    },
    "papermill": {
     "duration": 0.072952,
     "end_time": "2022-04-05T04:58:30.723354",
     "exception": false,
     "start_time": "2022-04-05T04:58:30.650402",
     "status": "completed"
    },
    "tags": []
   },
   "outputs": [
    {
     "data": {
      "text/html": [
       "<div>\n",
       "<style scoped>\n",
       "    .dataframe tbody tr th:only-of-type {\n",
       "        vertical-align: middle;\n",
       "    }\n",
       "\n",
       "    .dataframe tbody tr th {\n",
       "        vertical-align: top;\n",
       "    }\n",
       "\n",
       "    .dataframe thead th {\n",
       "        text-align: right;\n",
       "    }\n",
       "</style>\n",
       "<table border=\"1\" class=\"dataframe\">\n",
       "  <thead>\n",
       "    <tr style=\"text-align: right;\">\n",
       "      <th></th>\n",
       "      <th>total_bill</th>\n",
       "      <th>tip</th>\n",
       "      <th>sex</th>\n",
       "      <th>smoker</th>\n",
       "      <th>day</th>\n",
       "      <th>time</th>\n",
       "      <th>size</th>\n",
       "    </tr>\n",
       "  </thead>\n",
       "  <tbody>\n",
       "    <tr>\n",
       "      <th>129</th>\n",
       "      <td>22.82</td>\n",
       "      <td>2.18</td>\n",
       "      <td>Male</td>\n",
       "      <td>No</td>\n",
       "      <td>Thur</td>\n",
       "      <td>Lunch</td>\n",
       "      <td>3</td>\n",
       "    </tr>\n",
       "    <tr>\n",
       "      <th>0</th>\n",
       "      <td>16.99</td>\n",
       "      <td>1.01</td>\n",
       "      <td>Female</td>\n",
       "      <td>No</td>\n",
       "      <td>Sun</td>\n",
       "      <td>Dinner</td>\n",
       "      <td>2</td>\n",
       "    </tr>\n",
       "    <tr>\n",
       "      <th>169</th>\n",
       "      <td>10.63</td>\n",
       "      <td>2.00</td>\n",
       "      <td>Female</td>\n",
       "      <td>Yes</td>\n",
       "      <td>Sat</td>\n",
       "      <td>Dinner</td>\n",
       "      <td>2</td>\n",
       "    </tr>\n",
       "    <tr>\n",
       "      <th>74</th>\n",
       "      <td>14.73</td>\n",
       "      <td>2.20</td>\n",
       "      <td>Female</td>\n",
       "      <td>No</td>\n",
       "      <td>Sat</td>\n",
       "      <td>Dinner</td>\n",
       "      <td>2</td>\n",
       "    </tr>\n",
       "    <tr>\n",
       "      <th>125</th>\n",
       "      <td>29.80</td>\n",
       "      <td>4.20</td>\n",
       "      <td>Female</td>\n",
       "      <td>No</td>\n",
       "      <td>Thur</td>\n",
       "      <td>Lunch</td>\n",
       "      <td>6</td>\n",
       "    </tr>\n",
       "  </tbody>\n",
       "</table>\n",
       "</div>"
      ],
      "text/plain": [
       "     total_bill   tip     sex smoker   day    time  size\n",
       "129       22.82  2.18    Male     No  Thur   Lunch     3\n",
       "0         16.99  1.01  Female     No   Sun  Dinner     2\n",
       "169       10.63  2.00  Female    Yes   Sat  Dinner     2\n",
       "74        14.73  2.20  Female     No   Sat  Dinner     2\n",
       "125       29.80  4.20  Female     No  Thur   Lunch     6"
      ]
     },
     "execution_count": 7,
     "metadata": {},
     "output_type": "execute_result"
    }
   ],
   "source": [
    "# it will randomally return rows, check index- all are random\n",
    "df.sample(5)"
   ]
  },
  {
   "cell_type": "markdown",
   "id": "adf5edf7",
   "metadata": {
    "papermill": {
     "duration": 0.057752,
     "end_time": "2022-04-05T04:58:30.839825",
     "exception": false,
     "start_time": "2022-04-05T04:58:30.782073",
     "status": "completed"
    },
    "tags": []
   },
   "source": [
    "## <span style='color:Blue'>Q 3. What is the data types of columns?\n",
    "- use info() method"
   ]
  },
  {
   "cell_type": "code",
   "execution_count": 8,
   "id": "a53fee5f",
   "metadata": {
    "execution": {
     "iopub.execute_input": "2022-04-05T04:58:30.961182Z",
     "iopub.status.busy": "2022-04-05T04:58:30.960498Z",
     "iopub.status.idle": "2022-04-05T04:58:30.981816Z",
     "shell.execute_reply": "2022-04-05T04:58:30.980900Z",
     "shell.execute_reply.started": "2022-04-05T04:36:54.433481Z"
    },
    "papermill": {
     "duration": 0.083279,
     "end_time": "2022-04-05T04:58:30.981965",
     "exception": false,
     "start_time": "2022-04-05T04:58:30.898686",
     "status": "completed"
    },
    "tags": []
   },
   "outputs": [
    {
     "name": "stdout",
     "output_type": "stream",
     "text": [
      "<class 'pandas.core.frame.DataFrame'>\n",
      "RangeIndex: 244 entries, 0 to 243\n",
      "Data columns (total 7 columns):\n",
      " #   Column      Non-Null Count  Dtype  \n",
      "---  ------      --------------  -----  \n",
      " 0   total_bill  244 non-null    float64\n",
      " 1   tip         244 non-null    float64\n",
      " 2   sex         244 non-null    object \n",
      " 3   smoker      244 non-null    object \n",
      " 4   day         244 non-null    object \n",
      " 5   time        244 non-null    object \n",
      " 6   size        244 non-null    int64  \n",
      "dtypes: float64(2), int64(1), object(4)\n",
      "memory usage: 13.5+ KB\n"
     ]
    }
   ],
   "source": [
    "df.info()"
   ]
  },
  {
   "cell_type": "markdown",
   "id": "06e0fdbf",
   "metadata": {
    "papermill": {
     "duration": 0.058999,
     "end_time": "2022-04-05T04:58:31.100586",
     "exception": false,
     "start_time": "2022-04-05T04:58:31.041587",
     "status": "completed"
    },
    "tags": []
   },
   "source": [
    "## <span style='color:Blue'>Q 4. Are there any missing values?\n",
    "- use isnull() method\n",
    "- return the missing/null values columns wise"
   ]
  },
  {
   "cell_type": "code",
   "execution_count": 9,
   "id": "62ec31d9",
   "metadata": {
    "execution": {
     "iopub.execute_input": "2022-04-05T04:58:31.227992Z",
     "iopub.status.busy": "2022-04-05T04:58:31.227264Z",
     "iopub.status.idle": "2022-04-05T04:58:31.230825Z",
     "shell.execute_reply": "2022-04-05T04:58:31.230318Z",
     "shell.execute_reply.started": "2022-04-05T04:36:54.511143Z"
    },
    "papermill": {
     "duration": 0.071547,
     "end_time": "2022-04-05T04:58:31.230964",
     "exception": false,
     "start_time": "2022-04-05T04:58:31.159417",
     "status": "completed"
    },
    "tags": []
   },
   "outputs": [
    {
     "data": {
      "text/plain": [
       "total_bill    0\n",
       "tip           0\n",
       "sex           0\n",
       "smoker        0\n",
       "day           0\n",
       "time          0\n",
       "size          0\n",
       "dtype: int64"
      ]
     },
     "execution_count": 9,
     "metadata": {},
     "output_type": "execute_result"
    }
   ],
   "source": [
    "df.isnull().sum()"
   ]
  },
  {
   "cell_type": "markdown",
   "id": "c24bbb08",
   "metadata": {
    "papermill": {
     "duration": 0.058992,
     "end_time": "2022-04-05T04:58:31.349091",
     "exception": false,
     "start_time": "2022-04-05T04:58:31.290099",
     "status": "completed"
    },
    "tags": []
   },
   "source": [
    "## <span style='color:Blue'> Q 5. How does data looks mathematically?\n",
    "- use describe() method\n",
    "- only applicable on numerical data types columns"
   ]
  },
  {
   "cell_type": "code",
   "execution_count": 10,
   "id": "0dc448b8",
   "metadata": {
    "execution": {
     "iopub.execute_input": "2022-04-05T04:58:31.472603Z",
     "iopub.status.busy": "2022-04-05T04:58:31.471966Z",
     "iopub.status.idle": "2022-04-05T04:58:31.489624Z",
     "shell.execute_reply": "2022-04-05T04:58:31.490080Z",
     "shell.execute_reply.started": "2022-04-05T04:36:54.610524Z"
    },
    "papermill": {
     "duration": 0.082229,
     "end_time": "2022-04-05T04:58:31.490257",
     "exception": false,
     "start_time": "2022-04-05T04:58:31.408028",
     "status": "completed"
    },
    "tags": []
   },
   "outputs": [
    {
     "data": {
      "text/html": [
       "<div>\n",
       "<style scoped>\n",
       "    .dataframe tbody tr th:only-of-type {\n",
       "        vertical-align: middle;\n",
       "    }\n",
       "\n",
       "    .dataframe tbody tr th {\n",
       "        vertical-align: top;\n",
       "    }\n",
       "\n",
       "    .dataframe thead th {\n",
       "        text-align: right;\n",
       "    }\n",
       "</style>\n",
       "<table border=\"1\" class=\"dataframe\">\n",
       "  <thead>\n",
       "    <tr style=\"text-align: right;\">\n",
       "      <th></th>\n",
       "      <th>total_bill</th>\n",
       "      <th>tip</th>\n",
       "      <th>size</th>\n",
       "    </tr>\n",
       "  </thead>\n",
       "  <tbody>\n",
       "    <tr>\n",
       "      <th>count</th>\n",
       "      <td>244.000000</td>\n",
       "      <td>244.000000</td>\n",
       "      <td>244.000000</td>\n",
       "    </tr>\n",
       "    <tr>\n",
       "      <th>mean</th>\n",
       "      <td>19.785943</td>\n",
       "      <td>2.998279</td>\n",
       "      <td>2.569672</td>\n",
       "    </tr>\n",
       "    <tr>\n",
       "      <th>std</th>\n",
       "      <td>8.902412</td>\n",
       "      <td>1.383638</td>\n",
       "      <td>0.951100</td>\n",
       "    </tr>\n",
       "    <tr>\n",
       "      <th>min</th>\n",
       "      <td>3.070000</td>\n",
       "      <td>1.000000</td>\n",
       "      <td>1.000000</td>\n",
       "    </tr>\n",
       "    <tr>\n",
       "      <th>25%</th>\n",
       "      <td>13.347500</td>\n",
       "      <td>2.000000</td>\n",
       "      <td>2.000000</td>\n",
       "    </tr>\n",
       "    <tr>\n",
       "      <th>50%</th>\n",
       "      <td>17.795000</td>\n",
       "      <td>2.900000</td>\n",
       "      <td>2.000000</td>\n",
       "    </tr>\n",
       "    <tr>\n",
       "      <th>75%</th>\n",
       "      <td>24.127500</td>\n",
       "      <td>3.562500</td>\n",
       "      <td>3.000000</td>\n",
       "    </tr>\n",
       "    <tr>\n",
       "      <th>max</th>\n",
       "      <td>50.810000</td>\n",
       "      <td>10.000000</td>\n",
       "      <td>6.000000</td>\n",
       "    </tr>\n",
       "  </tbody>\n",
       "</table>\n",
       "</div>"
      ],
      "text/plain": [
       "       total_bill         tip        size\n",
       "count  244.000000  244.000000  244.000000\n",
       "mean    19.785943    2.998279    2.569672\n",
       "std      8.902412    1.383638    0.951100\n",
       "min      3.070000    1.000000    1.000000\n",
       "25%     13.347500    2.000000    2.000000\n",
       "50%     17.795000    2.900000    2.000000\n",
       "75%     24.127500    3.562500    3.000000\n",
       "max     50.810000   10.000000    6.000000"
      ]
     },
     "execution_count": 10,
     "metadata": {},
     "output_type": "execute_result"
    }
   ],
   "source": [
    "df.describe()"
   ]
  },
  {
   "cell_type": "markdown",
   "id": "2ced1e00",
   "metadata": {
    "papermill": {
     "duration": 0.059294,
     "end_time": "2022-04-05T04:58:31.609230",
     "exception": false,
     "start_time": "2022-04-05T04:58:31.549936",
     "status": "completed"
    },
    "tags": []
   },
   "source": [
    "## <span style='color:Blue'> Q 6. Are there duplicate values?\n",
    "- use duplicated() method"
   ]
  },
  {
   "cell_type": "code",
   "execution_count": 11,
   "id": "f55fb970",
   "metadata": {
    "execution": {
     "iopub.execute_input": "2022-04-05T04:58:31.734906Z",
     "iopub.status.busy": "2022-04-05T04:58:31.731607Z",
     "iopub.status.idle": "2022-04-05T04:58:31.739629Z",
     "shell.execute_reply": "2022-04-05T04:58:31.740172Z",
     "shell.execute_reply.started": "2022-04-05T04:36:54.816539Z"
    },
    "papermill": {
     "duration": 0.071428,
     "end_time": "2022-04-05T04:58:31.740344",
     "exception": false,
     "start_time": "2022-04-05T04:58:31.668916",
     "status": "completed"
    },
    "tags": []
   },
   "outputs": [
    {
     "data": {
      "text/plain": [
       "1"
      ]
     },
     "execution_count": 11,
     "metadata": {},
     "output_type": "execute_result"
    }
   ],
   "source": [
    "df.duplicated().sum()"
   ]
  },
  {
   "cell_type": "markdown",
   "id": "01ec8e87",
   "metadata": {
    "papermill": {
     "duration": 0.060146,
     "end_time": "2022-04-05T04:58:31.861362",
     "exception": false,
     "start_time": "2022-04-05T04:58:31.801216",
     "status": "completed"
    },
    "tags": []
   },
   "source": [
    "there is one duplicate row"
   ]
  },
  {
   "cell_type": "markdown",
   "id": "8f11dd0f",
   "metadata": {
    "papermill": {
     "duration": 0.06119,
     "end_time": "2022-04-05T04:58:31.984136",
     "exception": false,
     "start_time": "2022-04-05T04:58:31.922946",
     "status": "completed"
    },
    "tags": []
   },
   "source": [
    "## <span style='color:Blue'> Q 7. How is the correlation between columns?\n",
    "- use corr() method\n",
    "- -1 to 1\n",
    "- +ve number means +ve collelation, -ve number means -ve relation\n",
    "- correlatoin with itself will always be 1"
   ]
  },
  {
   "cell_type": "code",
   "execution_count": 12,
   "id": "96853393",
   "metadata": {
    "execution": {
     "iopub.execute_input": "2022-04-05T04:58:32.117929Z",
     "iopub.status.busy": "2022-04-05T04:58:32.117262Z",
     "iopub.status.idle": "2022-04-05T04:58:32.119831Z",
     "shell.execute_reply": "2022-04-05T04:58:32.120361Z",
     "shell.execute_reply.started": "2022-04-05T04:36:54.826486Z"
    },
    "papermill": {
     "duration": 0.075538,
     "end_time": "2022-04-05T04:58:32.120523",
     "exception": false,
     "start_time": "2022-04-05T04:58:32.044985",
     "status": "completed"
    },
    "tags": []
   },
   "outputs": [
    {
     "data": {
      "text/html": [
       "<div>\n",
       "<style scoped>\n",
       "    .dataframe tbody tr th:only-of-type {\n",
       "        vertical-align: middle;\n",
       "    }\n",
       "\n",
       "    .dataframe tbody tr th {\n",
       "        vertical-align: top;\n",
       "    }\n",
       "\n",
       "    .dataframe thead th {\n",
       "        text-align: right;\n",
       "    }\n",
       "</style>\n",
       "<table border=\"1\" class=\"dataframe\">\n",
       "  <thead>\n",
       "    <tr style=\"text-align: right;\">\n",
       "      <th></th>\n",
       "      <th>total_bill</th>\n",
       "      <th>tip</th>\n",
       "      <th>size</th>\n",
       "    </tr>\n",
       "  </thead>\n",
       "  <tbody>\n",
       "    <tr>\n",
       "      <th>total_bill</th>\n",
       "      <td>1.000000</td>\n",
       "      <td>0.675734</td>\n",
       "      <td>0.598315</td>\n",
       "    </tr>\n",
       "    <tr>\n",
       "      <th>tip</th>\n",
       "      <td>0.675734</td>\n",
       "      <td>1.000000</td>\n",
       "      <td>0.489299</td>\n",
       "    </tr>\n",
       "    <tr>\n",
       "      <th>size</th>\n",
       "      <td>0.598315</td>\n",
       "      <td>0.489299</td>\n",
       "      <td>1.000000</td>\n",
       "    </tr>\n",
       "  </tbody>\n",
       "</table>\n",
       "</div>"
      ],
      "text/plain": [
       "            total_bill       tip      size\n",
       "total_bill    1.000000  0.675734  0.598315\n",
       "tip           0.675734  1.000000  0.489299\n",
       "size          0.598315  0.489299  1.000000"
      ]
     },
     "execution_count": 12,
     "metadata": {},
     "output_type": "execute_result"
    }
   ],
   "source": [
    "df.corr()"
   ]
  },
  {
   "cell_type": "markdown",
   "id": "eb01f211",
   "metadata": {
    "papermill": {
     "duration": 0.061275,
     "end_time": "2022-04-05T04:58:32.243340",
     "exception": false,
     "start_time": "2022-04-05T04:58:32.182065",
     "status": "completed"
    },
    "tags": []
   },
   "source": [
    "- now, we are familiar with dataset\n",
    "- let's move to Analysis"
   ]
  },
  {
   "cell_type": "markdown",
   "id": "371ecbb7",
   "metadata": {
    "papermill": {
     "duration": 0.062456,
     "end_time": "2022-04-05T04:58:32.366572",
     "exception": false,
     "start_time": "2022-04-05T04:58:32.304116",
     "status": "completed"
    },
    "tags": []
   },
   "source": [
    "# <span style='color:red'> EDA:-\n",
    "\n",
    "# <span style='background:green'> 1. Univariate Analysis  </span>\n",
    "- Univariate is a term commonly used in statistics to describe a type of data which consists of observations on only a single characteristic or attribute. A simple example of univariate data would be the salaries of workers in industry."
   ]
  },
  {
   "cell_type": "markdown",
   "id": "c8459d46",
   "metadata": {
    "papermill": {
     "duration": 0.060297,
     "end_time": "2022-04-05T04:58:32.488381",
     "exception": false,
     "start_time": "2022-04-05T04:58:32.428084",
     "status": "completed"
    },
    "tags": []
   },
   "source": [
    "## <span style='background:YELLOW'>a. Numerical columns\n",
    "- Columns contains numerical data like- age, salary, population,etc..\n",
    "- graph and charts that are use to represent numerical data\n",
    "  1. Histogram\n",
    "  2. Distplot\n",
    "  3. Box plot"
   ]
  },
  {
   "cell_type": "markdown",
   "id": "6f56a1c7",
   "metadata": {
    "papermill": {
     "duration": 0.060263,
     "end_time": "2022-04-05T04:58:32.609174",
     "exception": false,
     "start_time": "2022-04-05T04:58:32.548911",
     "status": "completed"
    },
    "tags": []
   },
   "source": [
    "#### *1. Histogram plot*\n",
    "- this plot divide numerical data into bins, easy to understand"
   ]
  },
  {
   "cell_type": "code",
   "execution_count": 13,
   "id": "741ab531",
   "metadata": {
    "execution": {
     "iopub.execute_input": "2022-04-05T04:58:32.735374Z",
     "iopub.status.busy": "2022-04-05T04:58:32.734730Z",
     "iopub.status.idle": "2022-04-05T04:58:33.606032Z",
     "shell.execute_reply": "2022-04-05T04:58:33.605363Z",
     "shell.execute_reply.started": "2022-04-05T04:36:54.855665Z"
    },
    "papermill": {
     "duration": 0.936461,
     "end_time": "2022-04-05T04:58:33.606185",
     "exception": false,
     "start_time": "2022-04-05T04:58:32.669724",
     "status": "completed"
    },
    "tags": []
   },
   "outputs": [
    {
     "data": {
      "image/png": "[encoded data removed]",
      "text/plain": [
       "<Figure size 432x288 with 1 Axes>"
      ]
     },
     "metadata": {
      "needs_background": "light"
     },
     "output_type": "display_data"
    }
   ],
   "source": [
    "# importing libreries\n",
    "import matplotlib.pyplot as plt\n",
    "import seaborn as sns\n",
    "# applying total_bill column\n",
    "df['total_bill'].plot(kind='hist')\n",
    "plt.xlabel('Total Bill')\n",
    "plt.show()"
   ]
  },
  {
   "cell_type": "markdown",
   "id": "17a1bdab",
   "metadata": {
    "papermill": {
     "duration": 0.065181,
     "end_time": "2022-04-05T04:58:33.736935",
     "exception": false,
     "start_time": "2022-04-05T04:58:33.671754",
     "status": "completed"
    },
    "tags": []
   },
   "source": [
    "#### *2. Distplot*\n",
    "- same as histogram with kde line"
   ]
  },
  {
   "cell_type": "code",
   "execution_count": 14,
   "id": "35a43df2",
   "metadata": {
    "execution": {
     "iopub.execute_input": "2022-04-05T04:58:33.882359Z",
     "iopub.status.busy": "2022-04-05T04:58:33.881723Z",
     "iopub.status.idle": "2022-04-05T04:58:34.104362Z",
     "shell.execute_reply": "2022-04-05T04:58:34.104835Z",
     "shell.execute_reply.started": "2022-04-05T04:36:55.055041Z"
    },
    "papermill": {
     "duration": 0.295566,
     "end_time": "2022-04-05T04:58:34.105006",
     "exception": false,
     "start_time": "2022-04-05T04:58:33.809440",
     "status": "completed"
    },
    "tags": []
   },
   "outputs": [
    {
     "data": {
      "text/plain": [
       "<AxesSubplot:xlabel='total_bill', ylabel='Density'>"
      ]
     },
     "execution_count": 14,
     "metadata": {},
     "output_type": "execute_result"
    },
    {
     "data": {
      "image/png": "[encoded data removed]",
      "text/plain": [
       "<Figure size 432x288 with 1 Axes>"
      ]
     },
     "metadata": {
      "needs_background": "light"
     },
     "output_type": "display_data"
    }
   ],
   "source": [
    "sns.distplot(df['total_bill'])"
   ]
  },
  {
   "cell_type": "markdown",
   "id": "409c9719",
   "metadata": {
    "papermill": {
     "duration": 0.067664,
     "end_time": "2022-04-05T04:58:34.240474",
     "exception": false,
     "start_time": "2022-04-05T04:58:34.172810",
     "status": "completed"
    },
    "tags": []
   },
   "source": [
    "#### *3. Box plot*\n",
    "- give 5 point summary"
   ]
  },
  {
   "cell_type": "code",
   "execution_count": 15,
   "id": "ec075a94",
   "metadata": {
    "execution": {
     "iopub.execute_input": "2022-04-05T04:58:34.384246Z",
     "iopub.status.busy": "2022-04-05T04:58:34.383243Z",
     "iopub.status.idle": "2022-04-05T04:58:34.615113Z",
     "shell.execute_reply": "2022-04-05T04:58:34.615952Z",
     "shell.execute_reply.started": "2022-04-05T04:36:55.302747Z"
    },
    "papermill": {
     "duration": 0.308198,
     "end_time": "2022-04-05T04:58:34.616229",
     "exception": false,
     "start_time": "2022-04-05T04:58:34.308031",
     "status": "completed"
    },
    "tags": []
   },
   "outputs": [
    {
     "data": {
      "text/plain": [
       "<AxesSubplot:xlabel='total_bill'>"
      ]
     },
     "execution_count": 15,
     "metadata": {},
     "output_type": "execute_result"
    },
    {
     "data": {
      "image/png": "[encoded data removed]",
      "text/plain": [
       "<Figure size 432x288 with 1 Axes>"
      ]
     },
     "metadata": {
      "needs_background": "light"
     },
     "output_type": "display_data"
    }
   ],
   "source": [
    "sns.boxplot(df['total_bill'])"
   ]
  },
  {
   "cell_type": "markdown",
   "id": "02cfefb9",
   "metadata": {
    "execution": {
     "iopub.execute_input": "2022-04-04T14:00:38.529222Z",
     "iopub.status.busy": "2022-04-04T14:00:38.528896Z",
     "iopub.status.idle": "2022-04-04T14:00:38.54762Z",
     "shell.execute_reply": "2022-04-04T14:00:38.544723Z",
     "shell.execute_reply.started": "2022-04-04T14:00:38.529188Z"
    },
    "papermill": {
     "duration": 0.063757,
     "end_time": "2022-04-05T04:58:34.763602",
     "exception": false,
     "start_time": "2022-04-05T04:58:34.699845",
     "status": "completed"
    },
    "tags": []
   },
   "source": []
  },
  {
   "cell_type": "markdown",
   "id": "a0d09920",
   "metadata": {
    "papermill": {
     "duration": 0.063799,
     "end_time": "2022-04-05T04:58:34.891576",
     "exception": false,
     "start_time": "2022-04-05T04:58:34.827777",
     "status": "completed"
    },
    "tags": []
   },
   "source": []
  },
  {
   "cell_type": "markdown",
   "id": "65fba35e",
   "metadata": {
    "papermill": {
     "duration": 0.064615,
     "end_time": "2022-04-05T04:58:35.021350",
     "exception": false,
     "start_time": "2022-04-05T04:58:34.956735",
     "status": "completed"
    },
    "tags": []
   },
   "source": [
    "## <span style='background:YELLOW'> b. Categorical columns  </span>"
   ]
  },
  {
   "cell_type": "markdown",
   "id": "eac51912",
   "metadata": {
    "papermill": {
     "duration": 0.066333,
     "end_time": "2022-04-05T04:58:35.154652",
     "exception": false,
     "start_time": "2022-04-05T04:58:35.088319",
     "status": "completed"
    },
    "tags": []
   },
   "source": [
    "#### *1. Countplot*"
   ]
  },
  {
   "cell_type": "code",
   "execution_count": 16,
   "id": "9610eabf",
   "metadata": {
    "execution": {
     "iopub.execute_input": "2022-04-05T04:58:35.285402Z",
     "iopub.status.busy": "2022-04-05T04:58:35.284766Z",
     "iopub.status.idle": "2022-04-05T04:58:35.466373Z",
     "shell.execute_reply": "2022-04-05T04:58:35.465631Z",
     "shell.execute_reply.started": "2022-04-05T04:36:55.462011Z"
    },
    "papermill": {
     "duration": 0.248339,
     "end_time": "2022-04-05T04:58:35.466522",
     "exception": false,
     "start_time": "2022-04-05T04:58:35.218183",
     "status": "completed"
    },
    "tags": []
   },
   "outputs": [
    {
     "data": {
      "text/plain": [
       "<AxesSubplot:xlabel='sex', ylabel='count'>"
      ]
     },
     "execution_count": 16,
     "metadata": {},
     "output_type": "execute_result"
    },
    {
     "data": {
      "image/png": "[encoded data removed]",
      "text/plain": [
       "<Figure size 432x288 with 1 Axes>"
      ]
     },
     "metadata": {
      "needs_background": "light"
     },
     "output_type": "display_data"
    }
   ],
   "source": [
    "sns.countplot(df['sex'])"
   ]
  },
  {
   "cell_type": "markdown",
   "id": "ae3b835d",
   "metadata": {
    "papermill": {
     "duration": 0.065472,
     "end_time": "2022-04-05T04:58:35.597109",
     "exception": false,
     "start_time": "2022-04-05T04:58:35.531637",
     "status": "completed"
    },
    "tags": []
   },
   "source": [
    "#### *2. Pie*"
   ]
  },
  {
   "cell_type": "code",
   "execution_count": 17,
   "id": "ef9ae8af",
   "metadata": {
    "execution": {
     "iopub.execute_input": "2022-04-05T04:58:35.731348Z",
     "iopub.status.busy": "2022-04-05T04:58:35.730394Z",
     "iopub.status.idle": "2022-04-05T04:58:35.841195Z",
     "shell.execute_reply": "2022-04-05T04:58:35.840342Z",
     "shell.execute_reply.started": "2022-04-05T04:36:55.596470Z"
    },
    "papermill": {
     "duration": 0.179292,
     "end_time": "2022-04-05T04:58:35.841430",
     "exception": false,
     "start_time": "2022-04-05T04:58:35.662138",
     "status": "completed"
    },
    "tags": []
   },
   "outputs": [
    {
     "data": {
      "text/plain": [
       "<AxesSubplot:ylabel='sex'>"
      ]
     },
     "execution_count": 17,
     "metadata": {},
     "output_type": "execute_result"
    },
    {
     "data": {
      "image/png": "[encoded data removed]",
      "text/plain": [
       "<Figure size 432x288 with 1 Axes>"
      ]
     },
     "metadata": {},
     "output_type": "display_data"
    }
   ],
   "source": [
    "df['sex'].value_counts().plot(kind='pie',autopct='%.2f%%')"
   ]
  },
  {
   "cell_type": "markdown",
   "id": "819151c7",
   "metadata": {
    "papermill": {
     "duration": 0.068078,
     "end_time": "2022-04-05T04:58:36.016012",
     "exception": false,
     "start_time": "2022-04-05T04:58:35.947934",
     "status": "completed"
    },
    "tags": []
   },
   "source": [
    "# <span style='background:green'> 2. Bi--variate Analysis  </span>\n",
    "- Bivariate analysis is one of the simplest forms of quantitative (statistical) analysis. It involves the analysis of two variables (often denoted as X, Y), for the purpose of determining the empirical relationship between them. Bivariate analysis can be helpful in testing simple hypotheses of association.\n",
    "- Types\n",
    "    1. Categorical-Categorical\n",
    "    2. Numerical-Numerical\n",
    "    3. Numerical-Categorical"
   ]
  },
  {
   "cell_type": "markdown",
   "id": "df30d4bb",
   "metadata": {
    "papermill": {
     "duration": 0.065932,
     "end_time": "2022-04-05T04:58:36.149917",
     "exception": false,
     "start_time": "2022-04-05T04:58:36.083985",
     "status": "completed"
    },
    "tags": []
   },
   "source": [
    "## <span style='background:YELLOW'> i. Categorical-Categorical columns/variable  </span>\n"
   ]
  },
  {
   "cell_type": "code",
   "execution_count": 18,
   "id": "f81f2df6",
   "metadata": {
    "execution": {
     "iopub.execute_input": "2022-04-05T04:58:36.286072Z",
     "iopub.status.busy": "2022-04-05T04:58:36.285430Z",
     "iopub.status.idle": "2022-04-05T04:58:36.299140Z",
     "shell.execute_reply": "2022-04-05T04:58:36.299639Z",
     "shell.execute_reply.started": "2022-04-05T04:36:55.690193Z"
    },
    "papermill": {
     "duration": 0.08357,
     "end_time": "2022-04-05T04:58:36.299804",
     "exception": false,
     "start_time": "2022-04-05T04:58:36.216234",
     "status": "completed"
    },
    "tags": []
   },
   "outputs": [
    {
     "data": {
      "text/html": [
       "<div>\n",
       "<style scoped>\n",
       "    .dataframe tbody tr th:only-of-type {\n",
       "        vertical-align: middle;\n",
       "    }\n",
       "\n",
       "    .dataframe tbody tr th {\n",
       "        vertical-align: top;\n",
       "    }\n",
       "\n",
       "    .dataframe thead th {\n",
       "        text-align: right;\n",
       "    }\n",
       "</style>\n",
       "<table border=\"1\" class=\"dataframe\">\n",
       "  <thead>\n",
       "    <tr style=\"text-align: right;\">\n",
       "      <th></th>\n",
       "      <th>total_bill</th>\n",
       "      <th>tip</th>\n",
       "      <th>sex</th>\n",
       "      <th>smoker</th>\n",
       "      <th>day</th>\n",
       "      <th>time</th>\n",
       "      <th>size</th>\n",
       "    </tr>\n",
       "  </thead>\n",
       "  <tbody>\n",
       "    <tr>\n",
       "      <th>0</th>\n",
       "      <td>16.99</td>\n",
       "      <td>1.01</td>\n",
       "      <td>Female</td>\n",
       "      <td>No</td>\n",
       "      <td>Sun</td>\n",
       "      <td>Dinner</td>\n",
       "      <td>2</td>\n",
       "    </tr>\n",
       "    <tr>\n",
       "      <th>1</th>\n",
       "      <td>10.34</td>\n",
       "      <td>1.66</td>\n",
       "      <td>Male</td>\n",
       "      <td>No</td>\n",
       "      <td>Sun</td>\n",
       "      <td>Dinner</td>\n",
       "      <td>3</td>\n",
       "    </tr>\n",
       "  </tbody>\n",
       "</table>\n",
       "</div>"
      ],
      "text/plain": [
       "   total_bill   tip     sex smoker  day    time  size\n",
       "0       16.99  1.01  Female     No  Sun  Dinner     2\n",
       "1       10.34  1.66    Male     No  Sun  Dinner     3"
      ]
     },
     "execution_count": 18,
     "metadata": {},
     "output_type": "execute_result"
    }
   ],
   "source": [
    "import plotly.express as px\n",
    "df = px.data.tips()\n",
    "df.head(2)"
   ]
  },
  {
   "cell_type": "markdown",
   "id": "16fceea8",
   "metadata": {
    "papermill": {
     "duration": 0.068527,
     "end_time": "2022-04-05T04:58:36.437395",
     "exception": false,
     "start_time": "2022-04-05T04:58:36.368868",
     "status": "completed"
    },
    "tags": []
   },
   "source": [
    "#### *1. Frequency Table*"
   ]
  },
  {
   "cell_type": "code",
   "execution_count": 19,
   "id": "c55ed27f",
   "metadata": {
    "execution": {
     "iopub.execute_input": "2022-04-05T04:58:36.579354Z",
     "iopub.status.busy": "2022-04-05T04:58:36.575014Z",
     "iopub.status.idle": "2022-04-05T04:58:36.597692Z",
     "shell.execute_reply": "2022-04-05T04:58:36.598234Z",
     "shell.execute_reply.started": "2022-04-05T04:36:55.708550Z"
    },
    "papermill": {
     "duration": 0.094099,
     "end_time": "2022-04-05T04:58:36.598401",
     "exception": false,
     "start_time": "2022-04-05T04:58:36.504302",
     "status": "completed"
    },
    "tags": []
   },
   "outputs": [
    {
     "data": {
      "text/html": [
       "<div>\n",
       "<style scoped>\n",
       "    .dataframe tbody tr th:only-of-type {\n",
       "        vertical-align: middle;\n",
       "    }\n",
       "\n",
       "    .dataframe tbody tr th {\n",
       "        vertical-align: top;\n",
       "    }\n",
       "\n",
       "    .dataframe thead th {\n",
       "        text-align: right;\n",
       "    }\n",
       "</style>\n",
       "<table border=\"1\" class=\"dataframe\">\n",
       "  <thead>\n",
       "    <tr style=\"text-align: right;\">\n",
       "      <th>time</th>\n",
       "      <th>Dinner</th>\n",
       "      <th>Lunch</th>\n",
       "    </tr>\n",
       "    <tr>\n",
       "      <th>sex</th>\n",
       "      <th></th>\n",
       "      <th></th>\n",
       "    </tr>\n",
       "  </thead>\n",
       "  <tbody>\n",
       "    <tr>\n",
       "      <th>Female</th>\n",
       "      <td>52</td>\n",
       "      <td>35</td>\n",
       "    </tr>\n",
       "    <tr>\n",
       "      <th>Male</th>\n",
       "      <td>124</td>\n",
       "      <td>33</td>\n",
       "    </tr>\n",
       "  </tbody>\n",
       "</table>\n",
       "</div>"
      ],
      "text/plain": [
       "time    Dinner  Lunch\n",
       "sex                  \n",
       "Female      52     35\n",
       "Male       124     33"
      ]
     },
     "execution_count": 19,
     "metadata": {},
     "output_type": "execute_result"
    }
   ],
   "source": [
    "pd.crosstab(df['sex'],df['time'])"
   ]
  },
  {
   "cell_type": "markdown",
   "id": "993048aa",
   "metadata": {
    "papermill": {
     "duration": 0.06701,
     "end_time": "2022-04-05T04:58:36.733277",
     "exception": false,
     "start_time": "2022-04-05T04:58:36.666267",
     "status": "completed"
    },
    "tags": []
   },
   "source": [
    "### *2. Heatmap*"
   ]
  },
  {
   "cell_type": "code",
   "execution_count": 20,
   "id": "22e7affc",
   "metadata": {
    "execution": {
     "iopub.execute_input": "2022-04-05T04:58:36.872021Z",
     "iopub.status.busy": "2022-04-05T04:58:36.870938Z",
     "iopub.status.idle": "2022-04-05T04:58:37.101558Z",
     "shell.execute_reply": "2022-04-05T04:58:37.100665Z",
     "shell.execute_reply.started": "2022-04-05T04:36:55.733789Z"
    },
    "papermill": {
     "duration": 0.301481,
     "end_time": "2022-04-05T04:58:37.101720",
     "exception": false,
     "start_time": "2022-04-05T04:58:36.800239",
     "status": "completed"
    },
    "tags": []
   },
   "outputs": [
    {
     "data": {
      "text/plain": [
       "<AxesSubplot:xlabel='time', ylabel='sex'>"
      ]
     },
     "execution_count": 20,
     "metadata": {},
     "output_type": "execute_result"
    },
    {
     "data": {
      "image/png": "[encoded data removed]",
      "text/plain": [
       "<Figure size 432x288 with 2 Axes>"
      ]
     },
     "metadata": {
      "needs_background": "light"
     },
     "output_type": "display_data"
    }
   ],
   "source": [
    "sns.heatmap(pd.crosstab(df['sex'],df['time']))"
   ]
  },
  {
   "cell_type": "markdown",
   "id": "7bf63bd2",
   "metadata": {
    "papermill": {
     "duration": 0.068918,
     "end_time": "2022-04-05T04:58:37.239169",
     "exception": false,
     "start_time": "2022-04-05T04:58:37.170251",
     "status": "completed"
    },
    "tags": []
   },
   "source": [
    "### *3. Sunburst*\n",
    "- click on day to see magic"
   ]
  },
  {
   "cell_type": "code",
   "execution_count": 21,
   "id": "767cc3ab",
   "metadata": {
    "execution": {
     "iopub.execute_input": "2022-04-05T04:58:37.382797Z",
     "iopub.status.busy": "2022-04-05T04:58:37.381780Z",
     "iopub.status.idle": "2022-04-05T04:58:38.422617Z",
     "shell.execute_reply": "2022-04-05T04:58:38.423101Z",
     "shell.execute_reply.started": "2022-04-05T04:36:55.916506Z"
    },
    "papermill": {
     "duration": 1.115606,
     "end_time": "2022-04-05T04:58:38.423281",
     "exception": false,
     "start_time": "2022-04-05T04:58:37.307675",
     "status": "completed"
    },
    "tags": []
   },
   "outputs": [
    {
     "data": {
      "text/html": [
       "        <script type=\"text/javascript\">\n",
       "        window.PlotlyConfig = {MathJaxConfig: 'local'};\n",
       "        if (window.MathJax) {MathJax.Hub.Config({SVG: {font: \"STIX-Web\"}});}\n",
       "        if (typeof require !== 'undefined') {\n",
       "        require.undef(\"plotly\");\n",
       "        requirejs.config({\n",
       "            paths: {\n",
       "                'plotly': ['https://cdn.plot.ly/plotly-2.9.0.min']\n",
       "            }\n",
       "        });\n",
       "        require(['plotly'], function(Plotly) {\n",
       "            window._Plotly = Plotly;\n",
       "        });\n",
       "        }\n",
       "        </script>\n",
       "        "
      ]
     },
     "metadata": {},
     "output_type": "display_data"
    },
    {
     "data": {
      "text/html": [
       "<div>                            <div id=\"d8154fd8-0909-49a6-9804-462dcd9d013b\" class=\"plotly-graph-div\" style=\"height:525px; width:100%;\"></div>            <script type=\"text/javascript\">                require([\"plotly\"], function(Plotly) {                    window.PLOTLYENV=window.PLOTLYENV || {};                                    if (document.getElementById(\"d8154fd8-0909-49a6-9804-462dcd9d013b\")) {                    Plotly.newPlot(                        \"d8154fd8-0909-49a6-9804-462dcd9d013b\",                        [{\"branchvalues\":\"total\",\"customdata\":[[\"Fri\"],[\"Sat\"],[\"Sun\"],[\"Thur\"],[\"Fri\"],[\"Thur\"],[\"Fri\"],[\"Sat\"],[\"Sun\"],[\"Thur\"]],\"domain\":{\"x\":[0.0,1.0],\"y\":[0.0,1.0]},\"hovertemplate\":\"labels=%{label}<br>count=%{value}<br>parent=%{parent}<br>id=%{id}<br>day=%{customdata[0]}<extra></extra>\",\"ids\":[\"Fri/Dinner\",\"Sat/Dinner\",\"Sun/Dinner\",\"Thur/Dinner\",\"Fri/Lunch\",\"Thur/Lunch\",\"Fri\",\"Sat\",\"Sun\",\"Thur\"],\"labels\":[\"Dinner\",\"Dinner\",\"Dinner\",\"Dinner\",\"Lunch\",\"Lunch\",\"Fri\",\"Sat\",\"Sun\",\"Thur\"],\"marker\":{\"colors\":[\"#ab63fa\",\"#FFA15A\",\"#19d3f3\",\"#FF6692\",\"#ab63fa\",\"#FF6692\",\"#ab63fa\",\"#FFA15A\",\"#19d3f3\",\"#FF6692\"]},\"name\":\"\",\"parents\":[\"Fri\",\"Sat\",\"Sun\",\"Thur\",\"Fri\",\"Thur\",\"\",\"\",\"\",\"\"],\"values\":[12,87,76,1,7,61,19,87,76,62],\"type\":\"sunburst\"}],                        {\"template\":{\"data\":{\"bar\":[{\"error_x\":{\"color\":\"#2a3f5f\"},\"error_y\":{\"color\":\"#2a3f5f\"},\"marker\":{\"line\":{\"color\":\"#E5ECF6\",\"width\":0.5},\"pattern\":{\"fillmode\":\"overlay\",\"size\":10,\"solidity\":0.2}},\"type\":\"bar\"}],\"barpolar\":[{\"marker\":{\"line\":{\"color\":\"#E5ECF6\",\"width\":0.5},\"pattern\":{\"fillmode\":\"overlay\",\"size\":10,\"solidity\":0.2}},\"type\":\"barpolar\"}],\"carpet\":[{\"aaxis\":{\"endlinecolor\":\"#2a3f5f\",\"gridcolor\":\"white\",\"linecolor\":\"white\",\"minorgridcolor\":\"white\",\"startlinecolor\":\"#2a3f5f\"},\"baxis\":{\"endlinecolor\":\"#2a3f5f\",\"gridcolor\":\"white\",\"linecolor\":\"white\",\"minorgridcolor\":\"white\",\"startlinecolor\":\"#2a3f5f\"},\"type\":\"carpet\"}],\"choropleth\":[{\"colorbar\":{\"outlinewidth\":0,\"ticks\":\"\"},\"type\":\"choropleth\"}],\"contour\":[{\"colorbar\":{\"outlinewidth\":0,\"ticks\":\"\"},\"colorscale\":[[0.0,\"#0d0887\"],[0.1111111111111111,\"#46039f\"],[0.2222222222222222,\"#7201a8\"],[0.3333333333333333,\"#9c179e\"],[0.4444444444444444,\"#bd3786\"],[0.5555555555555556,\"#d8576b\"],[0.6666666666666666,\"#ed7953\"],[0.7777777777777778,\"#fb9f3a\"],[0.8888888888888888,\"#fdca26\"],[1.0,\"#f0f921\"]],\"type\":\"contour\"}],\"contourcarpet\":[{\"colorbar\":{\"outlinewidth\":0,\"ticks\":\"\"},\"type\":\"contourcarpet\"}],\"heatmap\":[{\"colorbar\":{\"outlinewidth\":0,\"ticks\":\"\"},\"colorscale\":[[0.0,\"#0d0887\"],[0.1111111111111111,\"#46039f\"],[0.2222222222222222,\"#7201a8\"],[0.3333333333333333,\"#9c179e\"],[0.4444444444444444,\"#bd3786\"],[0.5555555555555556,\"#d8576b\"],[0.6666666666666666,\"#ed7953\"],[0.7777777777777778,\"#fb9f3a\"],[0.8888888888888888,\"#fdca26\"],[1.0,\"#f0f921\"]],\"type\":\"heatmap\"}],\"heatmapgl\":[{\"colorbar\":{\"outlinewidth\":0,\"ticks\":\"\"},\"colorscale\":[[0.0,\"#0d0887\"],[0.1111111111111111,\"#46039f\"],[0.2222222222222222,\"#7201a8\"],[0.3333333333333333,\"#9c179e\"],[0.4444444444444444,\"#bd3786\"],[0.5555555555555556,\"#d8576b\"],[0.6666666666666666,\"#ed7953\"],[0.7777777777777778,\"#fb9f3a\"],[0.8888888888888888,\"#fdca26\"],[1.0,\"#f0f921\"]],\"type\":\"heatmapgl\"}],\"histogram\":[{\"marker\":{\"pattern\":{\"fillmode\":\"overlay\",\"size\":10,\"solidity\":0.2}},\"type\":\"histogram\"}],\"histogram2d\":[{\"colorbar\":{\"outlinewidth\":0,\"ticks\":\"\"},\"colorscale\":[[0.0,\"#0d0887\"],[0.1111111111111111,\"#46039f\"],[0.2222222222222222,\"#7201a8\"],[0.3333333333333333,\"#9c179e\"],[0.4444444444444444,\"#bd3786\"],[0.5555555555555556,\"#d8576b\"],[0.6666666666666666,\"#ed7953\"],[0.7777777777777778,\"#fb9f3a\"],[0.8888888888888888,\"#fdca26\"],[1.0,\"#f0f921\"]],\"type\":\"histogram2d\"}],\"histogram2dcontour\":[{\"colorbar\":{\"outlinewidth\":0,\"ticks\":\"\"},\"colorscale\":[[0.0,\"#0d0887\"],[0.1111111111111111,\"#46039f\"],[0.2222222222222222,\"#7201a8\"],[0.3333333333333333,\"#9c179e\"],[0.4444444444444444,\"#bd3786\"],[0.5555555555555556,\"#d8576b\"],[0.6666666666666666,\"#ed7953\"],[0.7777777777777778,\"#fb9f3a\"],[0.8888888888888888,\"#fdca26\"],[1.0,\"#f0f921\"]],\"type\":\"histogram2dcontour\"}],\"mesh3d\":[{\"colorbar\":{\"outlinewidth\":0,\"ticks\":\"\"},\"type\":\"mesh3d\"}],\"parcoords\":[{\"line\":{\"colorbar\":{\"outlinewidth\":0,\"ticks\":\"\"}},\"type\":\"parcoords\"}],\"pie\":[{\"automargin\":true,\"type\":\"pie\"}],\"scatter\":[{\"marker\":{\"colorbar\":{\"outlinewidth\":0,\"ticks\":\"\"}},\"type\":\"scatter\"}],\"scatter3d\":[{\"line\":{\"colorbar\":{\"outlinewidth\":0,\"ticks\":\"\"}},\"marker\":{\"colorbar\":{\"outlinewidth\":0,\"ticks\":\"\"}},\"type\":\"scatter3d\"}],\"scattercarpet\":[{\"marker\":{\"colorbar\":{\"outlinewidth\":0,\"ticks\":\"\"}},\"type\":\"scattercarpet\"}],\"scattergeo\":[{\"marker\":{\"colorbar\":{\"outlinewidth\":0,\"ticks\":\"\"}},\"type\":\"scattergeo\"}],\"scattergl\":[{\"marker\":{\"colorbar\":{\"outlinewidth\":0,\"ticks\":\"\"}},\"type\":\"scattergl\"}],\"scattermapbox\":[{\"marker\":{\"colorbar\":{\"outlinewidth\":0,\"ticks\":\"\"}},\"type\":\"scattermapbox\"}],\"scatterpolar\":[{\"marker\":{\"colorbar\":{\"outlinewidth\":0,\"ticks\":\"\"}},\"type\":\"scatterpolar\"}],\"scatterpolargl\":[{\"marker\":{\"colorbar\":{\"outlinewidth\":0,\"ticks\":\"\"}},\"type\":\"scatterpolargl\"}],\"scatterternary\":[{\"marker\":{\"colorbar\":{\"outlinewidth\":0,\"ticks\":\"\"}},\"type\":\"scatterternary\"}],\"surface\":[{\"colorbar\":{\"outlinewidth\":0,\"ticks\":\"\"},\"colorscale\":[[0.0,\"#0d0887\"],[0.1111111111111111,\"#46039f\"],[0.2222222222222222,\"#7201a8\"],[0.3333333333333333,\"#9c179e\"],[0.4444444444444444,\"#bd3786\"],[0.5555555555555556,\"#d8576b\"],[0.6666666666666666,\"#ed7953\"],[0.7777777777777778,\"#fb9f3a\"],[0.8888888888888888,\"#fdca26\"],[1.0,\"#f0f921\"]],\"type\":\"surface\"}],\"table\":[{\"cells\":{\"fill\":{\"color\":\"#EBF0F8\"},\"line\":{\"color\":\"white\"}},\"header\":{\"fill\":{\"color\":\"#C8D4E3\"},\"line\":{\"color\":\"white\"}},\"type\":\"table\"}]},\"layout\":{\"annotationdefaults\":{\"arrowcolor\":\"#2a3f5f\",\"arrowhead\":0,\"arrowwidth\":1},\"autotypenumbers\":\"strict\",\"coloraxis\":{\"colorbar\":{\"outlinewidth\":0,\"ticks\":\"\"}},\"colorscale\":{\"diverging\":[[0,\"#8e0152\"],[0.1,\"#c51b7d\"],[0.2,\"#de77ae\"],[0.3,\"#f1b6da\"],[0.4,\"#fde0ef\"],[0.5,\"#f7f7f7\"],[0.6,\"#e6f5d0\"],[0.7,\"#b8e186\"],[0.8,\"#7fbc41\"],[0.9,\"#4d9221\"],[1,\"#276419\"]],\"sequential\":[[0.0,\"#0d0887\"],[0.1111111111111111,\"#46039f\"],[0.2222222222222222,\"#7201a8\"],[0.3333333333333333,\"#9c179e\"],[0.4444444444444444,\"#bd3786\"],[0.5555555555555556,\"#d8576b\"],[0.6666666666666666,\"#ed7953\"],[0.7777777777777778,\"#fb9f3a\"],[0.8888888888888888,\"#fdca26\"],[1.0,\"#f0f921\"]],\"sequentialminus\":[[0.0,\"#0d0887\"],[0.1111111111111111,\"#46039f\"],[0.2222222222222222,\"#7201a8\"],[0.3333333333333333,\"#9c179e\"],[0.4444444444444444,\"#bd3786\"],[0.5555555555555556,\"#d8576b\"],[0.6666666666666666,\"#ed7953\"],[0.7777777777777778,\"#fb9f3a\"],[0.8888888888888888,\"#fdca26\"],[1.0,\"#f0f921\"]]},\"colorway\":[\"#636efa\",\"#EF553B\",\"#00cc96\",\"#ab63fa\",\"#FFA15A\",\"#19d3f3\",\"#FF6692\",\"#B6E880\",\"#FF97FF\",\"#FECB52\"],\"font\":{\"color\":\"#2a3f5f\"},\"geo\":{\"bgcolor\":\"white\",\"lakecolor\":\"white\",\"landcolor\":\"#E5ECF6\",\"showlakes\":true,\"showland\":true,\"subunitcolor\":\"white\"},\"hoverlabel\":{\"align\":\"left\"},\"hovermode\":\"closest\",\"mapbox\":{\"style\":\"light\"},\"paper_bgcolor\":\"white\",\"plot_bgcolor\":\"#E5ECF6\",\"polar\":{\"angularaxis\":{\"gridcolor\":\"white\",\"linecolor\":\"white\",\"ticks\":\"\"},\"bgcolor\":\"#E5ECF6\",\"radialaxis\":{\"gridcolor\":\"white\",\"linecolor\":\"white\",\"ticks\":\"\"}},\"scene\":{\"xaxis\":{\"backgroundcolor\":\"#E5ECF6\",\"gridcolor\":\"white\",\"gridwidth\":2,\"linecolor\":\"white\",\"showbackground\":true,\"ticks\":\"\",\"zerolinecolor\":\"white\"},\"yaxis\":{\"backgroundcolor\":\"#E5ECF6\",\"gridcolor\":\"white\",\"gridwidth\":2,\"linecolor\":\"white\",\"showbackground\":true,\"ticks\":\"\",\"zerolinecolor\":\"white\"},\"zaxis\":{\"backgroundcolor\":\"#E5ECF6\",\"gridcolor\":\"white\",\"gridwidth\":2,\"linecolor\":\"white\",\"showbackground\":true,\"ticks\":\"\",\"zerolinecolor\":\"white\"}},\"shapedefaults\":{\"line\":{\"color\":\"#2a3f5f\"}},\"ternary\":{\"aaxis\":{\"gridcolor\":\"white\",\"linecolor\":\"white\",\"ticks\":\"\"},\"baxis\":{\"gridcolor\":\"white\",\"linecolor\":\"white\",\"ticks\":\"\"},\"bgcolor\":\"#E5ECF6\",\"caxis\":{\"gridcolor\":\"white\",\"linecolor\":\"white\",\"ticks\":\"\"}},\"title\":{\"x\":0.05},\"xaxis\":{\"automargin\":true,\"gridcolor\":\"white\",\"linecolor\":\"white\",\"ticks\":\"\",\"title\":{\"standoff\":15},\"zerolinecolor\":\"white\",\"zerolinewidth\":2},\"yaxis\":{\"automargin\":true,\"gridcolor\":\"white\",\"linecolor\":\"white\",\"ticks\":\"\",\"title\":{\"standoff\":15},\"zerolinecolor\":\"white\",\"zerolinewidth\":2}}},\"legend\":{\"tracegroupgap\":0},\"margin\":{\"t\":60}},                        {\"responsive\": true}                    ).then(function(){\n",
       "                            \n",
       "var gd = document.getElementById('d8154fd8-0909-49a6-9804-462dcd9d013b');\n",
       "var x = new MutationObserver(function (mutations, observer) {{\n",
       "        var display = window.getComputedStyle(gd).display;\n",
       "        if (!display || display === 'none') {{\n",
       "            console.log([gd, 'removed!']);\n",
       "            Plotly.purge(gd);\n",
       "            observer.disconnect();\n",
       "        }}\n",
       "}});\n",
       "\n",
       "// Listen for the removal of the full notebook cells\n",
       "var notebookContainer = gd.closest('#notebook-container');\n",
       "if (notebookContainer) {{\n",
       "    x.observe(notebookContainer, {childList: true});\n",
       "}}\n",
       "\n",
       "// Listen for the clearing of the current output cell\n",
       "var outputEl = gd.closest('.output');\n",
       "if (outputEl) {{\n",
       "    x.observe(outputEl, {childList: true});\n",
       "}}\n",
       "\n",
       "                        })                };                });            </script>        </div>"
      ]
     },
     "metadata": {},
     "output_type": "display_data"
    }
   ],
   "source": [
    "fig = px.sunburst(df, path=['day', 'time'], color='day',\n",
    "                  color_discrete_map={'(?)':'black', 'Lunch':'gold', 'Dinner':'darkblue'})\n",
    "fig.show()"
   ]
  },
  {
   "cell_type": "markdown",
   "id": "73a88620",
   "metadata": {
    "papermill": {
     "duration": 0.070028,
     "end_time": "2022-04-05T04:58:38.563880",
     "exception": false,
     "start_time": "2022-04-05T04:58:38.493852",
     "status": "completed"
    },
    "tags": []
   },
   "source": [
    "### *3. Treemap*\n",
    "- click on day to see magic"
   ]
  },
  {
   "cell_type": "code",
   "execution_count": 22,
   "id": "fd55245a",
   "metadata": {
    "execution": {
     "iopub.execute_input": "2022-04-05T04:58:38.710562Z",
     "iopub.status.busy": "2022-04-05T04:58:38.709920Z",
     "iopub.status.idle": "2022-04-05T04:58:38.841372Z",
     "shell.execute_reply": "2022-04-05T04:58:38.840708Z",
     "shell.execute_reply.started": "2022-04-05T04:36:56.009573Z"
    },
    "papermill": {
     "duration": 0.205796,
     "end_time": "2022-04-05T04:58:38.841514",
     "exception": false,
     "start_time": "2022-04-05T04:58:38.635718",
     "status": "completed"
    },
    "tags": []
   },
   "outputs": [
    {
     "data": {
      "text/html": [
       "<div>                            <div id=\"bf4976f5-0f41-44b1-a4fe-437e1a541ab0\" class=\"plotly-graph-div\" style=\"height:525px; width:100%;\"></div>            <script type=\"text/javascript\">                require([\"plotly\"], function(Plotly) {                    window.PLOTLYENV=window.PLOTLYENV || {};                                    if (document.getElementById(\"bf4976f5-0f41-44b1-a4fe-437e1a541ab0\")) {                    Plotly.newPlot(                        \"bf4976f5-0f41-44b1-a4fe-437e1a541ab0\",                        [{\"branchvalues\":\"total\",\"domain\":{\"x\":[0.0,1.0],\"y\":[0.0,1.0]},\"hovertemplate\":\"labels=%{label}<br>count=%{value}<br>parent=%{parent}<br>id=%{id}<extra></extra>\",\"ids\":[\"all/Fri/Female\",\"all/Sat/Female\",\"all/Sun/Female\",\"all/Thur/Female\",\"all/Fri/Male\",\"all/Sat/Male\",\"all/Sun/Male\",\"all/Thur/Male\",\"all/Fri\",\"all/Sat\",\"all/Sun\",\"all/Thur\",\"all\"],\"labels\":[\"Female\",\"Female\",\"Female\",\"Female\",\"Male\",\"Male\",\"Male\",\"Male\",\"Fri\",\"Sat\",\"Sun\",\"Thur\",\"all\"],\"name\":\"\",\"parents\":[\"all/Fri\",\"all/Sat\",\"all/Sun\",\"all/Thur\",\"all/Fri\",\"all/Sat\",\"all/Sun\",\"all/Thur\",\"all\",\"all\",\"all\",\"all\",\"\"],\"values\":[9,28,18,32,10,59,58,30,19,87,76,62,244],\"type\":\"treemap\",\"root\":{\"color\":\"lightgrey\"}}],                        {\"template\":{\"data\":{\"bar\":[{\"error_x\":{\"color\":\"#2a3f5f\"},\"error_y\":{\"color\":\"#2a3f5f\"},\"marker\":{\"line\":{\"color\":\"#E5ECF6\",\"width\":0.5},\"pattern\":{\"fillmode\":\"overlay\",\"size\":10,\"solidity\":0.2}},\"type\":\"bar\"}],\"barpolar\":[{\"marker\":{\"line\":{\"color\":\"#E5ECF6\",\"width\":0.5},\"pattern\":{\"fillmode\":\"overlay\",\"size\":10,\"solidity\":0.2}},\"type\":\"barpolar\"}],\"carpet\":[{\"aaxis\":{\"endlinecolor\":\"#2a3f5f\",\"gridcolor\":\"white\",\"linecolor\":\"white\",\"minorgridcolor\":\"white\",\"startlinecolor\":\"#2a3f5f\"},\"baxis\":{\"endlinecolor\":\"#2a3f5f\",\"gridcolor\":\"white\",\"linecolor\":\"white\",\"minorgridcolor\":\"white\",\"startlinecolor\":\"#2a3f5f\"},\"type\":\"carpet\"}],\"choropleth\":[{\"colorbar\":{\"outlinewidth\":0,\"ticks\":\"\"},\"type\":\"choropleth\"}],\"contour\":[{\"colorbar\":{\"outlinewidth\":0,\"ticks\":\"\"},\"colorscale\":[[0.0,\"#0d0887\"],[0.1111111111111111,\"#46039f\"],[0.2222222222222222,\"#7201a8\"],[0.3333333333333333,\"#9c179e\"],[0.4444444444444444,\"#bd3786\"],[0.5555555555555556,\"#d8576b\"],[0.6666666666666666,\"#ed7953\"],[0.7777777777777778,\"#fb9f3a\"],[0.8888888888888888,\"#fdca26\"],[1.0,\"#f0f921\"]],\"type\":\"contour\"}],\"contourcarpet\":[{\"colorbar\":{\"outlinewidth\":0,\"ticks\":\"\"},\"type\":\"contourcarpet\"}],\"heatmap\":[{\"colorbar\":{\"outlinewidth\":0,\"ticks\":\"\"},\"colorscale\":[[0.0,\"#0d0887\"],[0.1111111111111111,\"#46039f\"],[0.2222222222222222,\"#7201a8\"],[0.3333333333333333,\"#9c179e\"],[0.4444444444444444,\"#bd3786\"],[0.5555555555555556,\"#d8576b\"],[0.6666666666666666,\"#ed7953\"],[0.7777777777777778,\"#fb9f3a\"],[0.8888888888888888,\"#fdca26\"],[1.0,\"#f0f921\"]],\"type\":\"heatmap\"}],\"heatmapgl\":[{\"colorbar\":{\"outlinewidth\":0,\"ticks\":\"\"},\"colorscale\":[[0.0,\"#0d0887\"],[0.1111111111111111,\"#46039f\"],[0.2222222222222222,\"#7201a8\"],[0.3333333333333333,\"#9c179e\"],[0.4444444444444444,\"#bd3786\"],[0.5555555555555556,\"#d8576b\"],[0.6666666666666666,\"#ed7953\"],[0.7777777777777778,\"#fb9f3a\"],[0.8888888888888888,\"#fdca26\"],[1.0,\"#f0f921\"]],\"type\":\"heatmapgl\"}],\"histogram\":[{\"marker\":{\"pattern\":{\"fillmode\":\"overlay\",\"size\":10,\"solidity\":0.2}},\"type\":\"histogram\"}],\"histogram2d\":[{\"colorbar\":{\"outlinewidth\":0,\"ticks\":\"\"},\"colorscale\":[[0.0,\"#0d0887\"],[0.1111111111111111,\"#46039f\"],[0.2222222222222222,\"#7201a8\"],[0.3333333333333333,\"#9c179e\"],[0.4444444444444444,\"#bd3786\"],[0.5555555555555556,\"#d8576b\"],[0.6666666666666666,\"#ed7953\"],[0.7777777777777778,\"#fb9f3a\"],[0.8888888888888888,\"#fdca26\"],[1.0,\"#f0f921\"]],\"type\":\"histogram2d\"}],\"histogram2dcontour\":[{\"colorbar\":{\"outlinewidth\":0,\"ticks\":\"\"},\"colorscale\":[[0.0,\"#0d0887\"],[0.1111111111111111,\"#46039f\"],[0.2222222222222222,\"#7201a8\"],[0.3333333333333333,\"#9c179e\"],[0.4444444444444444,\"#bd3786\"],[0.5555555555555556,\"#d8576b\"],[0.6666666666666666,\"#ed7953\"],[0.7777777777777778,\"#fb9f3a\"],[0.8888888888888888,\"#fdca26\"],[1.0,\"#f0f921\"]],\"type\":\"histogram2dcontour\"}],\"mesh3d\":[{\"colorbar\":{\"outlinewidth\":0,\"ticks\":\"\"},\"type\":\"mesh3d\"}],\"parcoords\":[{\"line\":{\"colorbar\":{\"outlinewidth\":0,\"ticks\":\"\"}},\"type\":\"parcoords\"}],\"pie\":[{\"automargin\":true,\"type\":\"pie\"}],\"scatter\":[{\"marker\":{\"colorbar\":{\"outlinewidth\":0,\"ticks\":\"\"}},\"type\":\"scatter\"}],\"scatter3d\":[{\"line\":{\"colorbar\":{\"outlinewidth\":0,\"ticks\":\"\"}},\"marker\":{\"colorbar\":{\"outlinewidth\":0,\"ticks\":\"\"}},\"type\":\"scatter3d\"}],\"scattercarpet\":[{\"marker\":{\"colorbar\":{\"outlinewidth\":0,\"ticks\":\"\"}},\"type\":\"scattercarpet\"}],\"scattergeo\":[{\"marker\":{\"colorbar\":{\"outlinewidth\":0,\"ticks\":\"\"}},\"type\":\"scattergeo\"}],\"scattergl\":[{\"marker\":{\"colorbar\":{\"outlinewidth\":0,\"ticks\":\"\"}},\"type\":\"scattergl\"}],\"scattermapbox\":[{\"marker\":{\"colorbar\":{\"outlinewidth\":0,\"ticks\":\"\"}},\"type\":\"scattermapbox\"}],\"scatterpolar\":[{\"marker\":{\"colorbar\":{\"outlinewidth\":0,\"ticks\":\"\"}},\"type\":\"scatterpolar\"}],\"scatterpolargl\":[{\"marker\":{\"colorbar\":{\"outlinewidth\":0,\"ticks\":\"\"}},\"type\":\"scatterpolargl\"}],\"scatterternary\":[{\"marker\":{\"colorbar\":{\"outlinewidth\":0,\"ticks\":\"\"}},\"type\":\"scatterternary\"}],\"surface\":[{\"colorbar\":{\"outlinewidth\":0,\"ticks\":\"\"},\"colorscale\":[[0.0,\"#0d0887\"],[0.1111111111111111,\"#46039f\"],[0.2222222222222222,\"#7201a8\"],[0.3333333333333333,\"#9c179e\"],[0.4444444444444444,\"#bd3786\"],[0.5555555555555556,\"#d8576b\"],[0.6666666666666666,\"#ed7953\"],[0.7777777777777778,\"#fb9f3a\"],[0.8888888888888888,\"#fdca26\"],[1.0,\"#f0f921\"]],\"type\":\"surface\"}],\"table\":[{\"cells\":{\"fill\":{\"color\":\"#EBF0F8\"},\"line\":{\"color\":\"white\"}},\"header\":{\"fill\":{\"color\":\"#C8D4E3\"},\"line\":{\"color\":\"white\"}},\"type\":\"table\"}]},\"layout\":{\"annotationdefaults\":{\"arrowcolor\":\"#2a3f5f\",\"arrowhead\":0,\"arrowwidth\":1},\"autotypenumbers\":\"strict\",\"coloraxis\":{\"colorbar\":{\"outlinewidth\":0,\"ticks\":\"\"}},\"colorscale\":{\"diverging\":[[0,\"#8e0152\"],[0.1,\"#c51b7d\"],[0.2,\"#de77ae\"],[0.3,\"#f1b6da\"],[0.4,\"#fde0ef\"],[0.5,\"#f7f7f7\"],[0.6,\"#e6f5d0\"],[0.7,\"#b8e186\"],[0.8,\"#7fbc41\"],[0.9,\"#4d9221\"],[1,\"#276419\"]],\"sequential\":[[0.0,\"#0d0887\"],[0.1111111111111111,\"#46039f\"],[0.2222222222222222,\"#7201a8\"],[0.3333333333333333,\"#9c179e\"],[0.4444444444444444,\"#bd3786\"],[0.5555555555555556,\"#d8576b\"],[0.6666666666666666,\"#ed7953\"],[0.7777777777777778,\"#fb9f3a\"],[0.8888888888888888,\"#fdca26\"],[1.0,\"#f0f921\"]],\"sequentialminus\":[[0.0,\"#0d0887\"],[0.1111111111111111,\"#46039f\"],[0.2222222222222222,\"#7201a8\"],[0.3333333333333333,\"#9c179e\"],[0.4444444444444444,\"#bd3786\"],[0.5555555555555556,\"#d8576b\"],[0.6666666666666666,\"#ed7953\"],[0.7777777777777778,\"#fb9f3a\"],[0.8888888888888888,\"#fdca26\"],[1.0,\"#f0f921\"]]},\"colorway\":[\"#636efa\",\"#EF553B\",\"#00cc96\",\"#ab63fa\",\"#FFA15A\",\"#19d3f3\",\"#FF6692\",\"#B6E880\",\"#FF97FF\",\"#FECB52\"],\"font\":{\"color\":\"#2a3f5f\"},\"geo\":{\"bgcolor\":\"white\",\"lakecolor\":\"white\",\"landcolor\":\"#E5ECF6\",\"showlakes\":true,\"showland\":true,\"subunitcolor\":\"white\"},\"hoverlabel\":{\"align\":\"left\"},\"hovermode\":\"closest\",\"mapbox\":{\"style\":\"light\"},\"paper_bgcolor\":\"white\",\"plot_bgcolor\":\"#E5ECF6\",\"polar\":{\"angularaxis\":{\"gridcolor\":\"white\",\"linecolor\":\"white\",\"ticks\":\"\"},\"bgcolor\":\"#E5ECF6\",\"radialaxis\":{\"gridcolor\":\"white\",\"linecolor\":\"white\",\"ticks\":\"\"}},\"scene\":{\"xaxis\":{\"backgroundcolor\":\"#E5ECF6\",\"gridcolor\":\"white\",\"gridwidth\":2,\"linecolor\":\"white\",\"showbackground\":true,\"ticks\":\"\",\"zerolinecolor\":\"white\"},\"yaxis\":{\"backgroundcolor\":\"#E5ECF6\",\"gridcolor\":\"white\",\"gridwidth\":2,\"linecolor\":\"white\",\"showbackground\":true,\"ticks\":\"\",\"zerolinecolor\":\"white\"},\"zaxis\":{\"backgroundcolor\":\"#E5ECF6\",\"gridcolor\":\"white\",\"gridwidth\":2,\"linecolor\":\"white\",\"showbackground\":true,\"ticks\":\"\",\"zerolinecolor\":\"white\"}},\"shapedefaults\":{\"line\":{\"color\":\"#2a3f5f\"}},\"ternary\":{\"aaxis\":{\"gridcolor\":\"white\",\"linecolor\":\"white\",\"ticks\":\"\"},\"baxis\":{\"gridcolor\":\"white\",\"linecolor\":\"white\",\"ticks\":\"\"},\"bgcolor\":\"#E5ECF6\",\"caxis\":{\"gridcolor\":\"white\",\"linecolor\":\"white\",\"ticks\":\"\"}},\"title\":{\"x\":0.05},\"xaxis\":{\"automargin\":true,\"gridcolor\":\"white\",\"linecolor\":\"white\",\"ticks\":\"\",\"title\":{\"standoff\":15},\"zerolinecolor\":\"white\",\"zerolinewidth\":2},\"yaxis\":{\"automargin\":true,\"gridcolor\":\"white\",\"linecolor\":\"white\",\"ticks\":\"\",\"title\":{\"standoff\":15},\"zerolinecolor\":\"white\",\"zerolinewidth\":2}}},\"legend\":{\"tracegroupgap\":0},\"margin\":{\"t\":50,\"l\":25,\"r\":25,\"b\":25}},                        {\"responsive\": true}                    ).then(function(){\n",
       "                            \n",
       "var gd = document.getElementById('bf4976f5-0f41-44b1-a4fe-437e1a541ab0');\n",
       "var x = new MutationObserver(function (mutations, observer) {{\n",
       "        var display = window.getComputedStyle(gd).display;\n",
       "        if (!display || display === 'none') {{\n",
       "            console.log([gd, 'removed!']);\n",
       "            Plotly.purge(gd);\n",
       "            observer.disconnect();\n",
       "        }}\n",
       "}});\n",
       "\n",
       "// Listen for the removal of the full notebook cells\n",
       "var notebookContainer = gd.closest('#notebook-container');\n",
       "if (notebookContainer) {{\n",
       "    x.observe(notebookContainer, {childList: true});\n",
       "}}\n",
       "\n",
       "// Listen for the clearing of the current output cell\n",
       "var outputEl = gd.closest('.output');\n",
       "if (outputEl) {{\n",
       "    x.observe(outputEl, {childList: true});\n",
       "}}\n",
       "\n",
       "                        })                };                });            </script>        </div>"
      ]
     },
     "metadata": {},
     "output_type": "display_data"
    }
   ],
   "source": [
    "fig = px.treemap(df, path=[px.Constant(\"all\"), 'day', 'sex'])\n",
    "fig.update_traces(root_color=\"lightgrey\")\n",
    "fig.update_layout(margin = dict(t=50, l=25, r=25, b=25))\n",
    "fig.show()"
   ]
  },
  {
   "cell_type": "markdown",
   "id": "217043ca",
   "metadata": {
    "papermill": {
     "duration": 0.070769,
     "end_time": "2022-04-05T04:58:38.983602",
     "exception": false,
     "start_time": "2022-04-05T04:58:38.912833",
     "status": "completed"
    },
    "tags": []
   },
   "source": [
    "### 4. Cluster Map"
   ]
  },
  {
   "cell_type": "code",
   "execution_count": 23,
   "id": "c8ea6777",
   "metadata": {
    "execution": {
     "iopub.execute_input": "2022-04-05T04:58:39.132050Z",
     "iopub.status.busy": "2022-04-05T04:58:39.131296Z",
     "iopub.status.idle": "2022-04-05T04:58:39.556717Z",
     "shell.execute_reply": "2022-04-05T04:58:39.555981Z",
     "shell.execute_reply.started": "2022-04-05T04:36:56.114717Z"
    },
    "papermill": {
     "duration": 0.499921,
     "end_time": "2022-04-05T04:58:39.556868",
     "exception": false,
     "start_time": "2022-04-05T04:58:39.056947",
     "status": "completed"
    },
    "tags": []
   },
   "outputs": [
    {
     "data": {
      "text/plain": [
       "<seaborn.matrix.ClusterGrid at 0x7f573511a950>"
      ]
     },
     "execution_count": 23,
     "metadata": {},
     "output_type": "execute_result"
    },
    {
     "data": {
      "image/png": "[encoded data removed]",
      "text/plain": [
       "<Figure size 720x720 with 4 Axes>"
      ]
     },
     "metadata": {
      "needs_background": "light"
     },
     "output_type": "display_data"
    }
   ],
   "source": [
    "sns.clustermap(pd.crosstab(df['day'],df['time']))"
   ]
  },
  {
   "cell_type": "markdown",
   "id": "958ec889",
   "metadata": {
    "papermill": {
     "duration": 0.071959,
     "end_time": "2022-04-05T04:58:39.701709",
     "exception": false,
     "start_time": "2022-04-05T04:58:39.629750",
     "status": "completed"
    },
    "tags": []
   },
   "source": [
    "## <span style='background:YELLOW'> ii. Numerical-Numerical columns/variable  </span>"
   ]
  },
  {
   "cell_type": "markdown",
   "id": "dad429c2",
   "metadata": {
    "papermill": {
     "duration": 0.071899,
     "end_time": "2022-04-05T04:58:39.846753",
     "exception": false,
     "start_time": "2022-04-05T04:58:39.774854",
     "status": "completed"
    },
    "tags": []
   },
   "source": [
    "### *1. Scatterplot*"
   ]
  },
  {
   "cell_type": "code",
   "execution_count": 24,
   "id": "d1cad039",
   "metadata": {
    "execution": {
     "iopub.execute_input": "2022-04-05T04:58:39.994625Z",
     "iopub.status.busy": "2022-04-05T04:58:39.993462Z",
     "iopub.status.idle": "2022-04-05T04:58:40.207878Z",
     "shell.execute_reply": "2022-04-05T04:58:40.208465Z",
     "shell.execute_reply.started": "2022-04-05T04:36:57.522069Z"
    },
    "papermill": {
     "duration": 0.290342,
     "end_time": "2022-04-05T04:58:40.208668",
     "exception": false,
     "start_time": "2022-04-05T04:58:39.918326",
     "status": "completed"
    },
    "tags": []
   },
   "outputs": [
    {
     "data": {
      "text/plain": [
       "<AxesSubplot:xlabel='total_bill', ylabel='tip'>"
      ]
     },
     "execution_count": 24,
     "metadata": {},
     "output_type": "execute_result"
    },
    {
     "data": {
      "image/png": "[encoded data removed]",
      "text/plain": [
       "<Figure size 432x288 with 1 Axes>"
      ]
     },
     "metadata": {
      "needs_background": "light"
     },
     "output_type": "display_data"
    }
   ],
   "source": [
    "sns.scatterplot(df['total_bill'],df['tip'])"
   ]
  },
  {
   "cell_type": "markdown",
   "id": "52e8afbe",
   "metadata": {
    "papermill": {
     "duration": 0.07377,
     "end_time": "2022-04-05T04:58:40.356445",
     "exception": false,
     "start_time": "2022-04-05T04:58:40.282675",
     "status": "completed"
    },
    "tags": []
   },
   "source": [
    "### *2. Line Plot*"
   ]
  },
  {
   "cell_type": "code",
   "execution_count": 25,
   "id": "996ad331",
   "metadata": {
    "execution": {
     "iopub.execute_input": "2022-04-05T04:58:40.509316Z",
     "iopub.status.busy": "2022-04-05T04:58:40.508586Z",
     "iopub.status.idle": "2022-04-05T04:58:41.155870Z",
     "shell.execute_reply": "2022-04-05T04:58:41.156458Z",
     "shell.execute_reply.started": "2022-04-05T04:39:03.443351Z"
    },
    "papermill": {
     "duration": 0.725532,
     "end_time": "2022-04-05T04:58:41.156657",
     "exception": false,
     "start_time": "2022-04-05T04:58:40.431125",
     "status": "completed"
    },
    "tags": []
   },
   "outputs": [
    {
     "data": {
      "text/plain": [
       "<AxesSubplot:xlabel='total_bill', ylabel='tip'>"
      ]
     },
     "execution_count": 25,
     "metadata": {},
     "output_type": "execute_result"
    },
    {
     "data": {
      "image/png": "[encoded data removed]",
      "text/plain": [
       "<Figure size 432x288 with 1 Axes>"
      ]
     },
     "metadata": {
      "needs_background": "light"
     },
     "output_type": "display_data"
    }
   ],
   "source": [
    "sns.lineplot(df['total_bill'],df['tip'])"
   ]
  },
  {
   "cell_type": "markdown",
   "id": "cd156e6e",
   "metadata": {
    "papermill": {
     "duration": 0.076566,
     "end_time": "2022-04-05T04:58:41.308921",
     "exception": false,
     "start_time": "2022-04-05T04:58:41.232355",
     "status": "completed"
    },
    "tags": []
   },
   "source": [
    "### *3. Correlation using heatmap*"
   ]
  },
  {
   "cell_type": "code",
   "execution_count": 26,
   "id": "667d7a1a",
   "metadata": {
    "execution": {
     "iopub.execute_input": "2022-04-05T04:58:41.463628Z",
     "iopub.status.busy": "2022-04-05T04:58:41.462924Z",
     "iopub.status.idle": "2022-04-05T04:58:41.691292Z",
     "shell.execute_reply": "2022-04-05T04:58:41.691824Z",
     "shell.execute_reply.started": "2022-04-05T04:42:56.238398Z"
    },
    "papermill": {
     "duration": 0.307584,
     "end_time": "2022-04-05T04:58:41.691999",
     "exception": false,
     "start_time": "2022-04-05T04:58:41.384415",
     "status": "completed"
    },
    "tags": []
   },
   "outputs": [
    {
     "data": {
      "text/plain": [
       "<AxesSubplot:>"
      ]
     },
     "execution_count": 26,
     "metadata": {},
     "output_type": "execute_result"
    },
    {
     "data": {
      "image/png": "[encoded data removed]",
      "text/plain": [
       "<Figure size 432x288 with 2 Axes>"
      ]
     },
     "metadata": {
      "needs_background": "light"
     },
     "output_type": "display_data"
    }
   ],
   "source": [
    "sns.heatmap(df[['total_bill','tip']].corr())"
   ]
  },
  {
   "cell_type": "markdown",
   "id": "aab3b397",
   "metadata": {
    "papermill": {
     "duration": 0.076785,
     "end_time": "2022-04-05T04:58:41.845456",
     "exception": false,
     "start_time": "2022-04-05T04:58:41.768671",
     "status": "completed"
    },
    "tags": []
   },
   "source": [
    "## <span style='background:YELLOW'> iii. Numerical-Categorical columns/variable  </span>"
   ]
  },
  {
   "cell_type": "markdown",
   "id": "7dba9ab5",
   "metadata": {
    "papermill": {
     "duration": 0.07908,
     "end_time": "2022-04-05T04:58:42.001037",
     "exception": false,
     "start_time": "2022-04-05T04:58:41.921957",
     "status": "completed"
    },
    "tags": []
   },
   "source": [
    "### *1. Barplot*"
   ]
  },
  {
   "cell_type": "code",
   "execution_count": 27,
   "id": "73f58751",
   "metadata": {
    "execution": {
     "iopub.execute_input": "2022-04-05T04:58:42.159134Z",
     "iopub.status.busy": "2022-04-05T04:58:42.158454Z",
     "iopub.status.idle": "2022-04-05T04:58:42.474022Z",
     "shell.execute_reply": "2022-04-05T04:58:42.474550Z",
     "shell.execute_reply.started": "2022-04-05T04:46:26.463655Z"
    },
    "papermill": {
     "duration": 0.395502,
     "end_time": "2022-04-05T04:58:42.474720",
     "exception": false,
     "start_time": "2022-04-05T04:58:42.079218",
     "status": "completed"
    },
    "tags": []
   },
   "outputs": [
    {
     "data": {
      "text/plain": [
       "<AxesSubplot:xlabel='day', ylabel='total_bill'>"
      ]
     },
     "execution_count": 27,
     "metadata": {},
     "output_type": "execute_result"
    },
    {
     "data": {
      "image/png": "[encoded data removed]",
      "text/plain": [
       "<Figure size 432x288 with 1 Axes>"
      ]
     },
     "metadata": {
      "needs_background": "light"
     },
     "output_type": "display_data"
    }
   ],
   "source": [
    "sns.barplot(df['day'],df['total_bill'])"
   ]
  },
  {
   "cell_type": "code",
   "execution_count": 28,
   "id": "bbd7728b",
   "metadata": {
    "execution": {
     "iopub.execute_input": "2022-04-05T04:58:42.632690Z",
     "iopub.status.busy": "2022-04-05T04:58:42.632040Z",
     "iopub.status.idle": "2022-04-05T04:58:43.422095Z",
     "shell.execute_reply": "2022-04-05T04:58:43.421590Z",
     "shell.execute_reply.started": "2022-04-05T04:48:08.433355Z"
    },
    "papermill": {
     "duration": 0.870007,
     "end_time": "2022-04-05T04:58:43.422243",
     "exception": false,
     "start_time": "2022-04-05T04:58:42.552236",
     "status": "completed"
    },
    "tags": []
   },
   "outputs": [
    {
     "data": {
      "text/plain": [
       "<BarContainer object of 244 artists>"
      ]
     },
     "execution_count": 28,
     "metadata": {},
     "output_type": "execute_result"
    },
    {
     "data": {
      "image/png": "[encoded data removed]",
      "text/plain": [
       "<Figure size 432x288 with 1 Axes>"
      ]
     },
     "metadata": {
      "needs_background": "light"
     },
     "output_type": "display_data"
    }
   ],
   "source": [
    "plt.bar(df['day'],df['total_bill'])"
   ]
  },
  {
   "cell_type": "markdown",
   "id": "aae50191",
   "metadata": {
    "papermill": {
     "duration": 0.077722,
     "end_time": "2022-04-05T04:58:43.578400",
     "exception": false,
     "start_time": "2022-04-05T04:58:43.500678",
     "status": "completed"
    },
    "tags": []
   },
   "source": [
    "### *2. Box Plot*"
   ]
  },
  {
   "cell_type": "code",
   "execution_count": 29,
   "id": "8c6255e8",
   "metadata": {
    "execution": {
     "iopub.execute_input": "2022-04-05T04:58:43.744035Z",
     "iopub.status.busy": "2022-04-05T04:58:43.743356Z",
     "iopub.status.idle": "2022-04-05T04:58:43.929915Z",
     "shell.execute_reply": "2022-04-05T04:58:43.929250Z",
     "shell.execute_reply.started": "2022-04-05T04:50:58.627967Z"
    },
    "papermill": {
     "duration": 0.273667,
     "end_time": "2022-04-05T04:58:43.930062",
     "exception": false,
     "start_time": "2022-04-05T04:58:43.656395",
     "status": "completed"
    },
    "tags": []
   },
   "outputs": [
    {
     "data": {
      "text/plain": [
       "<AxesSubplot:xlabel='sex', ylabel='total_bill'>"
      ]
     },
     "execution_count": 29,
     "metadata": {},
     "output_type": "execute_result"
    },
    {
     "data": {
      "image/png": "[encoded data removed]",
      "text/plain": [
       "<Figure size 432x288 with 1 Axes>"
      ]
     },
     "metadata": {
      "needs_background": "light"
     },
     "output_type": "display_data"
    }
   ],
   "source": [
    "sns.boxplot(df['sex'],df['total_bill'])"
   ]
  },
  {
   "cell_type": "code",
   "execution_count": 30,
   "id": "00d22ed7",
   "metadata": {
    "execution": {
     "iopub.execute_input": "2022-04-05T04:58:44.096370Z",
     "iopub.status.busy": "2022-04-05T04:58:44.095692Z",
     "iopub.status.idle": "2022-04-05T04:58:44.185573Z",
     "shell.execute_reply": "2022-04-05T04:58:44.185007Z",
     "shell.execute_reply.started": "2022-04-05T04:52:36.231088Z"
    },
    "papermill": {
     "duration": 0.175934,
     "end_time": "2022-04-05T04:58:44.185712",
     "exception": false,
     "start_time": "2022-04-05T04:58:44.009778",
     "status": "completed"
    },
    "tags": []
   },
   "outputs": [
    {
     "data": {
      "text/html": [
       "<div>                            <div id=\"d204677e-4f6f-44bd-afb2-e97ff7dcced0\" class=\"plotly-graph-div\" style=\"height:525px; width:100%;\"></div>            <script type=\"text/javascript\">                require([\"plotly\"], function(Plotly) {                    window.PLOTLYENV=window.PLOTLYENV || {};                                    if (document.getElementById(\"d204677e-4f6f-44bd-afb2-e97ff7dcced0\")) {                    Plotly.newPlot(                        \"d204677e-4f6f-44bd-afb2-e97ff7dcced0\",                        [{\"alignmentgroup\":\"True\",\"boxpoints\":\"all\",\"hovertemplate\":\"time=%{x}<br>total_bill=%{y}<extra></extra>\",\"legendgroup\":\"\",\"marker\":{\"color\":\"#636efa\"},\"name\":\"\",\"notched\":false,\"offsetgroup\":\"\",\"orientation\":\"v\",\"showlegend\":false,\"x\":[\"Dinner\",\"Dinner\",\"Dinner\",\"Dinner\",\"Dinner\",\"Dinner\",\"Dinner\",\"Dinner\",\"Dinner\",\"Dinner\",\"Dinner\",\"Dinner\",\"Dinner\",\"Dinner\",\"Dinner\",\"Dinner\",\"Dinner\",\"Dinner\",\"Dinner\",\"Dinner\",\"Dinner\",\"Dinner\",\"Dinner\",\"Dinner\",\"Dinner\",\"Dinner\",\"Dinner\",\"Dinner\",\"Dinner\",\"Dinner\",\"Dinner\",\"Dinner\",\"Dinner\",\"Dinner\",\"Dinner\",\"Dinner\",\"Dinner\",\"Dinner\",\"Dinner\",\"Dinner\",\"Dinner\",\"Dinner\",\"Dinner\",\"Dinner\",\"Dinner\",\"Dinner\",\"Dinner\",\"Dinner\",\"Dinner\",\"Dinner\",\"Dinner\",\"Dinner\",\"Dinner\",\"Dinner\",\"Dinner\",\"Dinner\",\"Dinner\",\"Dinner\",\"Dinner\",\"Dinner\",\"Dinner\",\"Dinner\",\"Dinner\",\"Dinner\",\"Dinner\",\"Dinner\",\"Dinner\",\"Dinner\",\"Dinner\",\"Dinner\",\"Dinner\",\"Dinner\",\"Dinner\",\"Dinner\",\"Dinner\",\"Dinner\",\"Dinner\",\"Lunch\",\"Lunch\",\"Lunch\",\"Lunch\",\"Lunch\",\"Lunch\",\"Lunch\",\"Lunch\",\"Lunch\",\"Lunch\",\"Lunch\",\"Lunch\",\"Lunch\",\"Dinner\",\"Dinner\",\"Dinner\",\"Dinner\",\"Dinner\",\"Dinner\",\"Dinner\",\"Dinner\",\"Dinner\",\"Dinner\",\"Dinner\",\"Dinner\",\"Dinner\",\"Dinner\",\"Dinner\",\"Dinner\",\"Dinner\",\"Dinner\",\"Dinner\",\"Dinner\",\"Dinner\",\"Dinner\",\"Dinner\",\"Dinner\",\"Dinner\",\"Dinner\",\"Dinner\",\"Lunch\",\"Lunch\",\"Lunch\",\"Lunch\",\"Lunch\",\"Lunch\",\"Lunch\",\"Lunch\",\"Lunch\",\"Lunch\",\"Lunch\",\"Lunch\",\"Lunch\",\"Lunch\",\"Lunch\",\"Lunch\",\"Lunch\",\"Lunch\",\"Lunch\",\"Lunch\",\"Lunch\",\"Lunch\",\"Lunch\",\"Lunch\",\"Lunch\",\"Lunch\",\"Lunch\",\"Lunch\",\"Lunch\",\"Lunch\",\"Lunch\",\"Lunch\",\"Lunch\",\"Dinner\",\"Dinner\",\"Dinner\",\"Dinner\",\"Dinner\",\"Dinner\",\"Dinner\",\"Dinner\",\"Dinner\",\"Dinner\",\"Dinner\",\"Dinner\",\"Dinner\",\"Dinner\",\"Dinner\",\"Dinner\",\"Dinner\",\"Dinner\",\"Dinner\",\"Dinner\",\"Dinner\",\"Dinner\",\"Dinner\",\"Dinner\",\"Dinner\",\"Dinner\",\"Dinner\",\"Dinner\",\"Dinner\",\"Dinner\",\"Dinner\",\"Dinner\",\"Dinner\",\"Dinner\",\"Dinner\",\"Dinner\",\"Dinner\",\"Dinner\",\"Dinner\",\"Dinner\",\"Dinner\",\"Lunch\",\"Lunch\",\"Lunch\",\"Lunch\",\"Lunch\",\"Lunch\",\"Lunch\",\"Lunch\",\"Lunch\",\"Lunch\",\"Lunch\",\"Lunch\",\"Lunch\",\"Lunch\",\"Lunch\",\"Dinner\",\"Dinner\",\"Dinner\",\"Dinner\",\"Dinner\",\"Dinner\",\"Dinner\",\"Dinner\",\"Dinner\",\"Dinner\",\"Dinner\",\"Dinner\",\"Dinner\",\"Dinner\",\"Lunch\",\"Lunch\",\"Lunch\",\"Lunch\",\"Lunch\",\"Lunch\",\"Lunch\",\"Dinner\",\"Dinner\",\"Dinner\",\"Dinner\",\"Dinner\",\"Dinner\",\"Dinner\",\"Dinner\",\"Dinner\",\"Dinner\",\"Dinner\",\"Dinner\",\"Dinner\",\"Dinner\",\"Dinner\",\"Dinner\",\"Dinner\"],\"x0\":\" \",\"xaxis\":\"x\",\"y\":[16.99,10.34,21.01,23.68,24.59,25.29,8.77,26.88,15.04,14.78,10.27,35.26,15.42,18.43,14.83,21.58,10.33,16.29,16.97,20.65,17.92,20.29,15.77,39.42,19.82,17.81,13.37,12.69,21.7,19.65,9.55,18.35,15.06,20.69,17.78,24.06,16.31,16.93,18.69,31.27,16.04,17.46,13.94,9.68,30.4,18.29,22.23,32.4,28.55,18.04,12.54,10.29,34.81,9.94,25.56,19.49,38.01,26.41,11.24,48.27,20.29,13.81,11.02,18.29,17.59,20.08,16.45,3.07,20.23,15.01,12.02,17.07,26.86,25.28,14.73,10.51,17.92,27.2,22.76,17.29,19.44,16.66,10.07,32.68,15.98,34.83,13.03,18.28,24.71,21.16,28.97,22.49,5.75,16.32,22.75,40.17,27.28,12.03,21.01,12.46,11.35,15.38,44.3,22.42,20.92,15.36,20.49,25.21,18.24,14.31,14.0,7.25,38.07,23.95,25.71,17.31,29.93,10.65,12.43,24.08,11.69,13.42,14.26,15.95,12.48,29.8,8.52,14.52,11.38,22.82,19.08,20.27,11.17,12.26,18.26,8.51,10.33,14.15,16.0,13.16,17.47,34.3,41.19,27.05,16.43,8.35,18.64,11.87,9.78,7.51,14.07,13.13,17.26,24.55,19.77,29.85,48.17,25.0,13.39,16.49,21.5,12.66,16.21,13.81,17.51,24.52,20.76,31.71,10.59,10.63,50.81,15.81,7.25,31.85,16.82,32.9,17.89,14.48,9.6,34.63,34.65,23.33,45.35,23.17,40.55,20.69,20.9,30.46,18.15,23.1,15.69,19.81,28.44,15.48,16.58,7.56,10.34,43.11,13.0,13.51,18.71,12.74,13.0,16.4,20.53,16.47,26.59,38.73,24.27,12.76,30.06,25.89,48.33,13.27,28.17,12.9,28.15,11.59,7.74,30.14,12.16,13.42,8.58,15.98,13.42,16.27,10.09,20.45,13.28,22.12,24.01,15.69,11.61,10.77,15.53,10.07,12.6,32.83,35.83,29.03,27.18,22.67,17.82,18.78],\"y0\":\" \",\"yaxis\":\"y\",\"type\":\"box\"}],                        {\"template\":{\"data\":{\"bar\":[{\"error_x\":{\"color\":\"#2a3f5f\"},\"error_y\":{\"color\":\"#2a3f5f\"},\"marker\":{\"line\":{\"color\":\"#E5ECF6\",\"width\":0.5},\"pattern\":{\"fillmode\":\"overlay\",\"size\":10,\"solidity\":0.2}},\"type\":\"bar\"}],\"barpolar\":[{\"marker\":{\"line\":{\"color\":\"#E5ECF6\",\"width\":0.5},\"pattern\":{\"fillmode\":\"overlay\",\"size\":10,\"solidity\":0.2}},\"type\":\"barpolar\"}],\"carpet\":[{\"aaxis\":{\"endlinecolor\":\"#2a3f5f\",\"gridcolor\":\"white\",\"linecolor\":\"white\",\"minorgridcolor\":\"white\",\"startlinecolor\":\"#2a3f5f\"},\"baxis\":{\"endlinecolor\":\"#2a3f5f\",\"gridcolor\":\"white\",\"linecolor\":\"white\",\"minorgridcolor\":\"white\",\"startlinecolor\":\"#2a3f5f\"},\"type\":\"carpet\"}],\"choropleth\":[{\"colorbar\":{\"outlinewidth\":0,\"ticks\":\"\"},\"type\":\"choropleth\"}],\"contour\":[{\"colorbar\":{\"outlinewidth\":0,\"ticks\":\"\"},\"colorscale\":[[0.0,\"#0d0887\"],[0.1111111111111111,\"#46039f\"],[0.2222222222222222,\"#7201a8\"],[0.3333333333333333,\"#9c179e\"],[0.4444444444444444,\"#bd3786\"],[0.5555555555555556,\"#d8576b\"],[0.6666666666666666,\"#ed7953\"],[0.7777777777777778,\"#fb9f3a\"],[0.8888888888888888,\"#fdca26\"],[1.0,\"#f0f921\"]],\"type\":\"contour\"}],\"contourcarpet\":[{\"colorbar\":{\"outlinewidth\":0,\"ticks\":\"\"},\"type\":\"contourcarpet\"}],\"heatmap\":[{\"colorbar\":{\"outlinewidth\":0,\"ticks\":\"\"},\"colorscale\":[[0.0,\"#0d0887\"],[0.1111111111111111,\"#46039f\"],[0.2222222222222222,\"#7201a8\"],[0.3333333333333333,\"#9c179e\"],[0.4444444444444444,\"#bd3786\"],[0.5555555555555556,\"#d8576b\"],[0.6666666666666666,\"#ed7953\"],[0.7777777777777778,\"#fb9f3a\"],[0.8888888888888888,\"#fdca26\"],[1.0,\"#f0f921\"]],\"type\":\"heatmap\"}],\"heatmapgl\":[{\"colorbar\":{\"outlinewidth\":0,\"ticks\":\"\"},\"colorscale\":[[0.0,\"#0d0887\"],[0.1111111111111111,\"#46039f\"],[0.2222222222222222,\"#7201a8\"],[0.3333333333333333,\"#9c179e\"],[0.4444444444444444,\"#bd3786\"],[0.5555555555555556,\"#d8576b\"],[0.6666666666666666,\"#ed7953\"],[0.7777777777777778,\"#fb9f3a\"],[0.8888888888888888,\"#fdca26\"],[1.0,\"#f0f921\"]],\"type\":\"heatmapgl\"}],\"histogram\":[{\"marker\":{\"pattern\":{\"fillmode\":\"overlay\",\"size\":10,\"solidity\":0.2}},\"type\":\"histogram\"}],\"histogram2d\":[{\"colorbar\":{\"outlinewidth\":0,\"ticks\":\"\"},\"colorscale\":[[0.0,\"#0d0887\"],[0.1111111111111111,\"#46039f\"],[0.2222222222222222,\"#7201a8\"],[0.3333333333333333,\"#9c179e\"],[0.4444444444444444,\"#bd3786\"],[0.5555555555555556,\"#d8576b\"],[0.6666666666666666,\"#ed7953\"],[0.7777777777777778,\"#fb9f3a\"],[0.8888888888888888,\"#fdca26\"],[1.0,\"#f0f921\"]],\"type\":\"histogram2d\"}],\"histogram2dcontour\":[{\"colorbar\":{\"outlinewidth\":0,\"ticks\":\"\"},\"colorscale\":[[0.0,\"#0d0887\"],[0.1111111111111111,\"#46039f\"],[0.2222222222222222,\"#7201a8\"],[0.3333333333333333,\"#9c179e\"],[0.4444444444444444,\"#bd3786\"],[0.5555555555555556,\"#d8576b\"],[0.6666666666666666,\"#ed7953\"],[0.7777777777777778,\"#fb9f3a\"],[0.8888888888888888,\"#fdca26\"],[1.0,\"#f0f921\"]],\"type\":\"histogram2dcontour\"}],\"mesh3d\":[{\"colorbar\":{\"outlinewidth\":0,\"ticks\":\"\"},\"type\":\"mesh3d\"}],\"parcoords\":[{\"line\":{\"colorbar\":{\"outlinewidth\":0,\"ticks\":\"\"}},\"type\":\"parcoords\"}],\"pie\":[{\"automargin\":true,\"type\":\"pie\"}],\"scatter\":[{\"marker\":{\"colorbar\":{\"outlinewidth\":0,\"ticks\":\"\"}},\"type\":\"scatter\"}],\"scatter3d\":[{\"line\":{\"colorbar\":{\"outlinewidth\":0,\"ticks\":\"\"}},\"marker\":{\"colorbar\":{\"outlinewidth\":0,\"ticks\":\"\"}},\"type\":\"scatter3d\"}],\"scattercarpet\":[{\"marker\":{\"colorbar\":{\"outlinewidth\":0,\"ticks\":\"\"}},\"type\":\"scattercarpet\"}],\"scattergeo\":[{\"marker\":{\"colorbar\":{\"outlinewidth\":0,\"ticks\":\"\"}},\"type\":\"scattergeo\"}],\"scattergl\":[{\"marker\":{\"colorbar\":{\"outlinewidth\":0,\"ticks\":\"\"}},\"type\":\"scattergl\"}],\"scattermapbox\":[{\"marker\":{\"colorbar\":{\"outlinewidth\":0,\"ticks\":\"\"}},\"type\":\"scattermapbox\"}],\"scatterpolar\":[{\"marker\":{\"colorbar\":{\"outlinewidth\":0,\"ticks\":\"\"}},\"type\":\"scatterpolar\"}],\"scatterpolargl\":[{\"marker\":{\"colorbar\":{\"outlinewidth\":0,\"ticks\":\"\"}},\"type\":\"scatterpolargl\"}],\"scatterternary\":[{\"marker\":{\"colorbar\":{\"outlinewidth\":0,\"ticks\":\"\"}},\"type\":\"scatterternary\"}],\"surface\":[{\"colorbar\":{\"outlinewidth\":0,\"ticks\":\"\"},\"colorscale\":[[0.0,\"#0d0887\"],[0.1111111111111111,\"#46039f\"],[0.2222222222222222,\"#7201a8\"],[0.3333333333333333,\"#9c179e\"],[0.4444444444444444,\"#bd3786\"],[0.5555555555555556,\"#d8576b\"],[0.6666666666666666,\"#ed7953\"],[0.7777777777777778,\"#fb9f3a\"],[0.8888888888888888,\"#fdca26\"],[1.0,\"#f0f921\"]],\"type\":\"surface\"}],\"table\":[{\"cells\":{\"fill\":{\"color\":\"#EBF0F8\"},\"line\":{\"color\":\"white\"}},\"header\":{\"fill\":{\"color\":\"#C8D4E3\"},\"line\":{\"color\":\"white\"}},\"type\":\"table\"}]},\"layout\":{\"annotationdefaults\":{\"arrowcolor\":\"#2a3f5f\",\"arrowhead\":0,\"arrowwidth\":1},\"autotypenumbers\":\"strict\",\"coloraxis\":{\"colorbar\":{\"outlinewidth\":0,\"ticks\":\"\"}},\"colorscale\":{\"diverging\":[[0,\"#8e0152\"],[0.1,\"#c51b7d\"],[0.2,\"#de77ae\"],[0.3,\"#f1b6da\"],[0.4,\"#fde0ef\"],[0.5,\"#f7f7f7\"],[0.6,\"#e6f5d0\"],[0.7,\"#b8e186\"],[0.8,\"#7fbc41\"],[0.9,\"#4d9221\"],[1,\"#276419\"]],\"sequential\":[[0.0,\"#0d0887\"],[0.1111111111111111,\"#46039f\"],[0.2222222222222222,\"#7201a8\"],[0.3333333333333333,\"#9c179e\"],[0.4444444444444444,\"#bd3786\"],[0.5555555555555556,\"#d8576b\"],[0.6666666666666666,\"#ed7953\"],[0.7777777777777778,\"#fb9f3a\"],[0.8888888888888888,\"#fdca26\"],[1.0,\"#f0f921\"]],\"sequentialminus\":[[0.0,\"#0d0887\"],[0.1111111111111111,\"#46039f\"],[0.2222222222222222,\"#7201a8\"],[0.3333333333333333,\"#9c179e\"],[0.4444444444444444,\"#bd3786\"],[0.5555555555555556,\"#d8576b\"],[0.6666666666666666,\"#ed7953\"],[0.7777777777777778,\"#fb9f3a\"],[0.8888888888888888,\"#fdca26\"],[1.0,\"#f0f921\"]]},\"colorway\":[\"#636efa\",\"#EF553B\",\"#00cc96\",\"#ab63fa\",\"#FFA15A\",\"#19d3f3\",\"#FF6692\",\"#B6E880\",\"#FF97FF\",\"#FECB52\"],\"font\":{\"color\":\"#2a3f5f\"},\"geo\":{\"bgcolor\":\"white\",\"lakecolor\":\"white\",\"landcolor\":\"#E5ECF6\",\"showlakes\":true,\"showland\":true,\"subunitcolor\":\"white\"},\"hoverlabel\":{\"align\":\"left\"},\"hovermode\":\"closest\",\"mapbox\":{\"style\":\"light\"},\"paper_bgcolor\":\"white\",\"plot_bgcolor\":\"#E5ECF6\",\"polar\":{\"angularaxis\":{\"gridcolor\":\"white\",\"linecolor\":\"white\",\"ticks\":\"\"},\"bgcolor\":\"#E5ECF6\",\"radialaxis\":{\"gridcolor\":\"white\",\"linecolor\":\"white\",\"ticks\":\"\"}},\"scene\":{\"xaxis\":{\"backgroundcolor\":\"#E5ECF6\",\"gridcolor\":\"white\",\"gridwidth\":2,\"linecolor\":\"white\",\"showbackground\":true,\"ticks\":\"\",\"zerolinecolor\":\"white\"},\"yaxis\":{\"backgroundcolor\":\"#E5ECF6\",\"gridcolor\":\"white\",\"gridwidth\":2,\"linecolor\":\"white\",\"showbackground\":true,\"ticks\":\"\",\"zerolinecolor\":\"white\"},\"zaxis\":{\"backgroundcolor\":\"#E5ECF6\",\"gridcolor\":\"white\",\"gridwidth\":2,\"linecolor\":\"white\",\"showbackground\":true,\"ticks\":\"\",\"zerolinecolor\":\"white\"}},\"shapedefaults\":{\"line\":{\"color\":\"#2a3f5f\"}},\"ternary\":{\"aaxis\":{\"gridcolor\":\"white\",\"linecolor\":\"white\",\"ticks\":\"\"},\"baxis\":{\"gridcolor\":\"white\",\"linecolor\":\"white\",\"ticks\":\"\"},\"bgcolor\":\"#E5ECF6\",\"caxis\":{\"gridcolor\":\"white\",\"linecolor\":\"white\",\"ticks\":\"\"}},\"title\":{\"x\":0.05},\"xaxis\":{\"automargin\":true,\"gridcolor\":\"white\",\"linecolor\":\"white\",\"ticks\":\"\",\"title\":{\"standoff\":15},\"zerolinecolor\":\"white\",\"zerolinewidth\":2},\"yaxis\":{\"automargin\":true,\"gridcolor\":\"white\",\"linecolor\":\"white\",\"ticks\":\"\",\"title\":{\"standoff\":15},\"zerolinecolor\":\"white\",\"zerolinewidth\":2}}},\"xaxis\":{\"anchor\":\"y\",\"domain\":[0.0,1.0],\"title\":{\"text\":\"time\"}},\"yaxis\":{\"anchor\":\"x\",\"domain\":[0.0,1.0],\"title\":{\"text\":\"total_bill\"}},\"legend\":{\"tracegroupgap\":0},\"margin\":{\"t\":60},\"boxmode\":\"group\"},                        {\"responsive\": true}                    ).then(function(){\n",
       "                            \n",
       "var gd = document.getElementById('d204677e-4f6f-44bd-afb2-e97ff7dcced0');\n",
       "var x = new MutationObserver(function (mutations, observer) {{\n",
       "        var display = window.getComputedStyle(gd).display;\n",
       "        if (!display || display === 'none') {{\n",
       "            console.log([gd, 'removed!']);\n",
       "            Plotly.purge(gd);\n",
       "            observer.disconnect();\n",
       "        }}\n",
       "}});\n",
       "\n",
       "// Listen for the removal of the full notebook cells\n",
       "var notebookContainer = gd.closest('#notebook-container');\n",
       "if (notebookContainer) {{\n",
       "    x.observe(notebookContainer, {childList: true});\n",
       "}}\n",
       "\n",
       "// Listen for the clearing of the current output cell\n",
       "var outputEl = gd.closest('.output');\n",
       "if (outputEl) {{\n",
       "    x.observe(outputEl, {childList: true});\n",
       "}}\n",
       "\n",
       "                        })                };                });            </script>        </div>"
      ]
     },
     "metadata": {},
     "output_type": "display_data"
    }
   ],
   "source": [
    "fig = px.box(df, x=\"time\", y=\"total_bill\", points=\"all\")\n",
    "fig.show()\n"
   ]
  },
  {
   "cell_type": "markdown",
   "id": "73cb62fe",
   "metadata": {
    "papermill": {
     "duration": 0.080121,
     "end_time": "2022-04-05T04:58:44.346428",
     "exception": false,
     "start_time": "2022-04-05T04:58:44.266307",
     "status": "completed"
    },
    "tags": []
   },
   "source": [
    "### *3. Distplot*"
   ]
  },
  {
   "cell_type": "code",
   "execution_count": 31,
   "id": "f4207eb5",
   "metadata": {
    "execution": {
     "iopub.execute_input": "2022-04-05T04:58:44.512604Z",
     "iopub.status.busy": "2022-04-05T04:58:44.511593Z",
     "iopub.status.idle": "2022-04-05T04:58:44.818835Z",
     "shell.execute_reply": "2022-04-05T04:58:44.819333Z",
     "shell.execute_reply.started": "2022-04-05T04:56:14.316053Z"
    },
    "papermill": {
     "duration": 0.39122,
     "end_time": "2022-04-05T04:58:44.819501",
     "exception": false,
     "start_time": "2022-04-05T04:58:44.428281",
     "status": "completed"
    },
    "tags": []
   },
   "outputs": [
    {
     "data": {
      "text/plain": [
       "<matplotlib.legend.Legend at 0x7f5733bf7d50>"
      ]
     },
     "execution_count": 31,
     "metadata": {},
     "output_type": "execute_result"
    },
    {
     "data": {
      "image/png": "[encoded data removed]",
      "text/plain": [
       "<Figure size 432x288 with 1 Axes>"
      ]
     },
     "metadata": {
      "needs_background": "light"
     },
     "output_type": "display_data"
    }
   ],
   "source": [
    "sns.distplot(df[df['sex']=='Male']['total_bill'],color='r',label='Male')\n",
    "sns.distplot(df[df['sex']=='Female']['total_bill'],color='g',label='Female')\n",
    "plt.legend()"
   ]
  },
  {
   "cell_type": "markdown",
   "id": "5e530a56",
   "metadata": {
    "papermill": {
     "duration": 0.08168,
     "end_time": "2022-04-05T04:58:44.983350",
     "exception": false,
     "start_time": "2022-04-05T04:58:44.901670",
     "status": "completed"
    },
    "tags": []
   },
   "source": [
    "\n",
    "# ....Multivariate will continue in next update\n",
    "\n",
    "## <span style='background :orange' >Thanks!! </span>\n",
    "    - Pls share your reviews\n",
    "    - Feel free to ask your doubts in comments"
   ]
  },
  {
   "cell_type": "code",
   "execution_count": null,
   "id": "5bf2458c",
   "metadata": {
    "papermill": {
     "duration": 0.081362,
     "end_time": "2022-04-05T04:58:45.150521",
     "exception": false,
     "start_time": "2022-04-05T04:58:45.069159",
     "status": "completed"
    },
    "tags": []
   },
   "outputs": [],
   "source": []
  },
  {
   "cell_type": "markdown",
   "id": "a06fad89",
   "metadata": {
    "papermill": {
     "duration": 0.081246,
     "end_time": "2022-04-05T04:58:45.313171",
     "exception": false,
     "start_time": "2022-04-05T04:58:45.231925",
     "status": "completed"
    },
    "tags": []
   },
   "source": [
    "# References:\n",
    "1. [https://www.analyticsvidhya.com/blog/2021/05/exploratory-data-analysis-eda-a-step-by-step-guide/#:~:text=Exploratory%20Data%20Analysis%2C%20or%20EDA,our%20understanding%20of%20the%20dataset](http://)\n",
    "2. [https://en.wikipedia.org/wiki/Univariate_(statistics)](http://)\n"
   ]
  }
 ],
 "metadata": {
  "kernelspec": {
   "display_name": "Python 3",
   "language": "python",
   "name": "python3"
  },
  "language_info": {
   "codemirror_mode": {
    "name": "ipython",
    "version": 3
   },
   "file_extension": ".py",
   "mimetype": "text/x-python",
   "name": "python",
   "nbconvert_exporter": "python",
   "pygments_lexer": "ipython3",
   "version": "3.7.12"
  },
  "papermill": {
   "default_parameters": {},
   "duration": 28.584751,
   "end_time": "2022-04-05T04:58:46.305824",
   "environment_variables": {},
   "exception": null,
   "input_path": "__notebook__.ipynb",
   "output_path": "__notebook__.ipynb",
   "parameters": {},
   "start_time": "2022-04-05T04:58:17.721073",
   "version": "2.3.3"
  }
 },
 "nbformat": 4,
 "nbformat_minor": 5
}

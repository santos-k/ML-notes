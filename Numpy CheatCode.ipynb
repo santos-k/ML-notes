{
 "cells": [
  {
   "cell_type": "markdown",
   "id": "1e8d359c",
   "metadata": {},
   "source": [
    "# Application of Numpy\n",
    "1. Homogenous\n",
    "2. Only be numbers(Number, Float, Complex\n",
    "3. Fixed item size\n",
    "- note: it can hold strings but we never user numpy that way\n",
    "\n",
    "\n",
    "- np.array() # () means its a function\n",
    "- a.shape # without () means its a attribute"
   ]
  },
  {
   "cell_type": "markdown",
   "id": "5453c6f6",
   "metadata": {},
   "source": [
    "# Creating Numpy Arrays\n",
    "- using np.array()//1-D and 2-D\n",
    "- USing np.zeros/one/empty/random()\n",
    "- using np.arrange()\n",
    "- using np.linspace()\n",
    "- using copy()\n",
    "- using identity()"
   ]
  },
  {
   "cell_type": "code",
   "execution_count": 1,
   "id": "c74b01a9",
   "metadata": {},
   "outputs": [],
   "source": [
    "import numpy as np"
   ]
  },
  {
   "cell_type": "code",
   "execution_count": 43,
   "id": "414d0a80",
   "metadata": {},
   "outputs": [
    {
     "data": {
      "text/plain": [
       "array([1, 2, 3, 4])"
      ]
     },
     "execution_count": 43,
     "metadata": {},
     "output_type": "execute_result"
    }
   ],
   "source": [
    "# vector\n",
    "a = np.array([1,2,3,4])\n",
    "a"
   ]
  },
  {
   "cell_type": "code",
   "execution_count": 3,
   "id": "4786cf52",
   "metadata": {},
   "outputs": [
    {
     "data": {
      "text/plain": [
       "array([[1, 2, 3, 4],\n",
       "       [1, 2, 3, 4]])"
      ]
     },
     "execution_count": 3,
     "metadata": {},
     "output_type": "execute_result"
    }
   ],
   "source": [
    "# matrix\n",
    "np.array([[1,2,3,4],[1,2,3,4]])"
   ]
  },
  {
   "cell_type": "code",
   "execution_count": 26,
   "id": "69207cc5",
   "metadata": {},
   "outputs": [
    {
     "data": {
      "text/plain": [
       "array([[1, 2, 3, 4],\n",
       "       [1, 2, 3, 4],\n",
       "       [1, 2, 3, 4]])"
      ]
     },
     "execution_count": 26,
     "metadata": {},
     "output_type": "execute_result"
    }
   ],
   "source": [
    "arr = np.array([[1,2,3,4],[1,2,3,4],[1,2,3,4]])\n",
    "arr"
   ]
  },
  {
   "cell_type": "code",
   "execution_count": 12,
   "id": "13b6ec77",
   "metadata": {},
   "outputs": [
    {
     "data": {
      "text/plain": [
       "array([[0., 0., 0., 0.],\n",
       "       [0., 0., 0., 0.],\n",
       "       [0., 0., 0., 0.]])"
      ]
     },
     "execution_count": 12,
     "metadata": {},
     "output_type": "execute_result"
    }
   ],
   "source": [
    "np.zeros((3,4))"
   ]
  },
  {
   "cell_type": "code",
   "execution_count": 13,
   "id": "c97944cf",
   "metadata": {},
   "outputs": [
    {
     "data": {
      "text/plain": [
       "array([[1., 1., 1., 1., 1., 1.],\n",
       "       [1., 1., 1., 1., 1., 1.],\n",
       "       [1., 1., 1., 1., 1., 1.],\n",
       "       [1., 1., 1., 1., 1., 1.],\n",
       "       [1., 1., 1., 1., 1., 1.]])"
      ]
     },
     "execution_count": 13,
     "metadata": {},
     "output_type": "execute_result"
    }
   ],
   "source": [
    "np.ones((5,6))"
   ]
  },
  {
   "cell_type": "code",
   "execution_count": 15,
   "id": "a16bb53b",
   "metadata": {},
   "outputs": [
    {
     "data": {
      "text/plain": [
       "array([[1., 0., 0., 0., 0.],\n",
       "       [0., 1., 0., 0., 0.],\n",
       "       [0., 0., 1., 0., 0.],\n",
       "       [0., 0., 0., 1., 0.],\n",
       "       [0., 0., 0., 0., 1.]])"
      ]
     },
     "execution_count": 15,
     "metadata": {},
     "output_type": "execute_result"
    }
   ],
   "source": [
    "np.identity(5)"
   ]
  },
  {
   "cell_type": "code",
   "execution_count": 16,
   "id": "f840e1bf",
   "metadata": {},
   "outputs": [
    {
     "data": {
      "text/plain": [
       "array([0, 1, 2, 3, 4, 5, 6, 7, 8, 9])"
      ]
     },
     "execution_count": 16,
     "metadata": {},
     "output_type": "execute_result"
    }
   ],
   "source": [
    "np.arange(10)"
   ]
  },
  {
   "cell_type": "code",
   "execution_count": 17,
   "id": "8bea417a",
   "metadata": {},
   "outputs": [
    {
     "data": {
      "text/plain": [
       "array([ 5,  6,  7,  8,  9, 10, 11, 12, 13, 14])"
      ]
     },
     "execution_count": 17,
     "metadata": {},
     "output_type": "execute_result"
    }
   ],
   "source": [
    "np.arange(5,15)"
   ]
  },
  {
   "cell_type": "code",
   "execution_count": 18,
   "id": "164ccf73",
   "metadata": {},
   "outputs": [
    {
     "data": {
      "text/plain": [
       "array([ 5,  7,  9, 11, 13])"
      ]
     },
     "execution_count": 18,
     "metadata": {},
     "output_type": "execute_result"
    }
   ],
   "source": [
    "# vector in given range with skip\n",
    "np.arange(5,15,2)"
   ]
  },
  {
   "cell_type": "code",
   "execution_count": 24,
   "id": "afd2f615",
   "metadata": {},
   "outputs": [
    {
     "data": {
      "text/plain": [
       "array([ 5.        ,  6.66666667,  8.33333333, 10.        , 11.66666667,\n",
       "       13.33333333, 15.        , 16.66666667, 18.33333333, 20.        ])"
      ]
     },
     "execution_count": 24,
     "metadata": {},
     "output_type": "execute_result"
    }
   ],
   "source": [
    "# creating some pints(10) in given range, (from,to,no_of_points)\n",
    "a2 = np.linspace(5,20,10)\n",
    "a2"
   ]
  },
  {
   "cell_type": "code",
   "execution_count": 23,
   "id": "c43b315a",
   "metadata": {},
   "outputs": [
    {
     "data": {
      "text/plain": [
       "array([ 5.        ,  6.66666667,  8.33333333, 10.        , 11.66666667,\n",
       "       13.33333333, 15.        , 16.66666667, 18.33333333, 20.        ])"
      ]
     },
     "execution_count": 23,
     "metadata": {},
     "output_type": "execute_result"
    }
   ],
   "source": [
    "a3 = a2.copy()\n",
    "a3"
   ]
  },
  {
   "cell_type": "markdown",
   "id": "656218d5",
   "metadata": {},
   "source": [
    "# Properities and attributes\n",
    "1. Shape\n",
    "2. nDim\n",
    "3. Size\n",
    "4. Intemsize\n",
    "5. Dtype\n",
    "6. astype()"
   ]
  },
  {
   "cell_type": "code",
   "execution_count": 25,
   "id": "c23a3750",
   "metadata": {},
   "outputs": [
    {
     "data": {
      "text/plain": [
       "(10,)"
      ]
     },
     "execution_count": 25,
     "metadata": {},
     "output_type": "execute_result"
    }
   ],
   "source": [
    "a3.shape"
   ]
  },
  {
   "cell_type": "code",
   "execution_count": 27,
   "id": "4c9d6992",
   "metadata": {},
   "outputs": [
    {
     "data": {
      "text/plain": [
       "(3, 4)"
      ]
     },
     "execution_count": 27,
     "metadata": {},
     "output_type": "execute_result"
    }
   ],
   "source": [
    "arr.shape"
   ]
  },
  {
   "cell_type": "code",
   "execution_count": 38,
   "id": "0506078d",
   "metadata": {},
   "outputs": [
    {
     "data": {
      "text/plain": [
       "array([[[1, 2],\n",
       "        [3, 4],\n",
       "        [7, 8]],\n",
       "\n",
       "       [[4, 5],\n",
       "        [6, 7],\n",
       "        [8, 9]]])"
      ]
     },
     "execution_count": 38,
     "metadata": {},
     "output_type": "execute_result"
    }
   ],
   "source": [
    "# 3d matrix\n",
    "arr4 = np.array([[[1,2],[3,4],[7,8]],[[4,5],[6,7],[8,9]]])\n",
    "arr4"
   ]
  },
  {
   "cell_type": "code",
   "execution_count": 37,
   "id": "fcacff39",
   "metadata": {},
   "outputs": [
    {
     "data": {
      "text/plain": [
       "(2, 3, 2)"
      ]
     },
     "execution_count": 37,
     "metadata": {},
     "output_type": "execute_result"
    }
   ],
   "source": [
    "arr4.shape"
   ]
  },
  {
   "cell_type": "code",
   "execution_count": 39,
   "id": "78fd221d",
   "metadata": {},
   "outputs": [
    {
     "data": {
      "text/plain": [
       "3"
      ]
     },
     "execution_count": 39,
     "metadata": {},
     "output_type": "execute_result"
    }
   ],
   "source": [
    "arr4.ndim"
   ]
  },
  {
   "cell_type": "code",
   "execution_count": 40,
   "id": "216ca440",
   "metadata": {},
   "outputs": [
    {
     "data": {
      "text/plain": [
       "12"
      ]
     },
     "execution_count": 40,
     "metadata": {},
     "output_type": "execute_result"
    }
   ],
   "source": [
    "arr4.size"
   ]
  },
  {
   "cell_type": "code",
   "execution_count": 44,
   "id": "ab0923d8",
   "metadata": {},
   "outputs": [
    {
     "data": {
      "text/plain": [
       "12"
      ]
     },
     "execution_count": 44,
     "metadata": {},
     "output_type": "execute_result"
    }
   ],
   "source": [
    "arr.size"
   ]
  },
  {
   "cell_type": "code",
   "execution_count": 45,
   "id": "10d9de26",
   "metadata": {},
   "outputs": [
    {
     "data": {
      "text/plain": [
       "4"
      ]
     },
     "execution_count": 45,
     "metadata": {},
     "output_type": "execute_result"
    }
   ],
   "source": [
    "a.size"
   ]
  },
  {
   "cell_type": "code",
   "execution_count": 46,
   "id": "ab82387a",
   "metadata": {},
   "outputs": [
    {
     "data": {
      "text/plain": [
       "4"
      ]
     },
     "execution_count": 46,
     "metadata": {},
     "output_type": "execute_result"
    }
   ],
   "source": [
    "a.itemsize"
   ]
  },
  {
   "cell_type": "code",
   "execution_count": 48,
   "id": "d7a69e42",
   "metadata": {},
   "outputs": [
    {
     "data": {
      "text/plain": [
       "4"
      ]
     },
     "execution_count": 48,
     "metadata": {},
     "output_type": "execute_result"
    }
   ],
   "source": [
    "arr.itemsize"
   ]
  },
  {
   "cell_type": "code",
   "execution_count": 49,
   "id": "b9f42040",
   "metadata": {},
   "outputs": [
    {
     "data": {
      "text/plain": [
       "dtype('int32')"
      ]
     },
     "execution_count": 49,
     "metadata": {},
     "output_type": "execute_result"
    }
   ],
   "source": [
    "arr.dtype"
   ]
  },
  {
   "cell_type": "code",
   "execution_count": 50,
   "id": "defe65b2",
   "metadata": {},
   "outputs": [
    {
     "data": {
      "text/plain": [
       "dtype('float64')"
      ]
     },
     "execution_count": 50,
     "metadata": {},
     "output_type": "execute_result"
    }
   ],
   "source": [
    "a2.dtype"
   ]
  },
  {
   "cell_type": "code",
   "execution_count": 52,
   "id": "f755bdbb",
   "metadata": {},
   "outputs": [
    {
     "data": {
      "text/plain": [
       "array([[1., 2., 3., 4.],\n",
       "       [1., 2., 3., 4.],\n",
       "       [1., 2., 3., 4.]])"
      ]
     },
     "execution_count": 52,
     "metadata": {},
     "output_type": "execute_result"
    }
   ],
   "source": [
    "arr.astype('float')"
   ]
  },
  {
   "cell_type": "markdown",
   "id": "7fb89ad9",
   "metadata": {},
   "source": [
    "# Numpy  Arrays vs Python Arrays\n",
    "- faster\n",
    "- convinient\n",
    "- Less memory"
   ]
  },
  {
   "cell_type": "code",
   "execution_count": 63,
   "id": "a05fd835",
   "metadata": {},
   "outputs": [
    {
     "data": {
      "text/plain": [
       "range(0, 100)"
      ]
     },
     "execution_count": 63,
     "metadata": {},
     "output_type": "execute_result"
    }
   ],
   "source": [
    "list1 = range(100)\n",
    "list1"
   ]
  },
  {
   "cell_type": "code",
   "execution_count": 59,
   "id": "02e627f3",
   "metadata": {},
   "outputs": [
    {
     "data": {
      "text/plain": [
       "array([ 0,  1,  2,  3,  4,  5,  6,  7,  8,  9, 10, 11, 12, 13, 14, 15, 16,\n",
       "       17, 18, 19, 20, 21, 22, 23, 24, 25, 26, 27, 28, 29, 30, 31, 32, 33,\n",
       "       34, 35, 36, 37, 38, 39, 40, 41, 42, 43, 44, 45, 46, 47, 48, 49, 50,\n",
       "       51, 52, 53, 54, 55, 56, 57, 58, 59, 60, 61, 62, 63, 64, 65, 66, 67,\n",
       "       68, 69, 70, 71, 72, 73, 74, 75, 76, 77, 78, 79, 80, 81, 82, 83, 84,\n",
       "       85, 86, 87, 88, 89, 90, 91, 92, 93, 94, 95, 96, 97, 98, 99])"
      ]
     },
     "execution_count": 59,
     "metadata": {},
     "output_type": "execute_result"
    }
   ],
   "source": [
    "ar1 = np.arange(100)\n",
    "ar1"
   ]
  },
  {
   "cell_type": "code",
   "execution_count": 60,
   "id": "23646339",
   "metadata": {},
   "outputs": [],
   "source": [
    "import sys"
   ]
  },
  {
   "cell_type": "code",
   "execution_count": 61,
   "id": "dea1813f",
   "metadata": {},
   "outputs": [
    {
     "name": "stdout",
     "output_type": "stream",
     "text": [
      "2800\n"
     ]
    }
   ],
   "source": [
    "# size accupied by 87 in list\n",
    "print(sys.getsizeof(87)*len(list1))"
   ]
  },
  {
   "cell_type": "code",
   "execution_count": 64,
   "id": "b0690719",
   "metadata": {},
   "outputs": [
    {
     "name": "stdout",
     "output_type": "stream",
     "text": [
      "400\n"
     ]
    }
   ],
   "source": [
    "print(ar1.itemsize*ar1.size)"
   ]
  },
  {
   "cell_type": "code",
   "execution_count": 65,
   "id": "e59c302a",
   "metadata": {},
   "outputs": [],
   "source": [
    "import time"
   ]
  },
  {
   "cell_type": "code",
   "execution_count": 107,
   "id": "6c06d9d8",
   "metadata": {},
   "outputs": [
    {
     "name": "stdout",
     "output_type": "stream",
     "text": [
      "0.0\n"
     ]
    }
   ],
   "source": [
    "x = range(1000000)\n",
    "y = range(1000000,200000)\n",
    "start_time = time.time()\n",
    "c = [(x,y) for x,y in zip(x,y)]\n",
    "print(time.time()-start_time)"
   ]
  },
  {
   "cell_type": "code",
   "execution_count": 90,
   "id": "57582c5b",
   "metadata": {},
   "outputs": [
    {
     "name": "stdout",
     "output_type": "stream",
     "text": [
      "0.001001119613647461\n"
     ]
    }
   ],
   "source": [
    "a = np.arange(100000)\n",
    "b = np.arange(100000,200000)\n",
    "start_time = time.time()\n",
    "c = a+b\n",
    "print(time.time()-start_time)"
   ]
  },
  {
   "cell_type": "code",
   "execution_count": 108,
   "id": "27f7f709",
   "metadata": {},
   "outputs": [
    {
     "name": "stdout",
     "output_type": "stream",
     "text": [
      "0.015003204345703125\n"
     ]
    }
   ],
   "source": [
    "a = np.arange(10000000)\n",
    "b = np.arange(10000000,20000000)\n",
    "start_time = time.time()\n",
    "c = a+b\n",
    "print(time.time()-start_time)"
   ]
  },
  {
   "cell_type": "markdown",
   "id": "d6f9cee0",
   "metadata": {},
   "source": [
    "# Indexing, Slicing and Iteration\n",
    "- extracing one column is indexing\n",
    "- extracting multiple column is slicing\n",
    "\n",
    "- a5[:,:] means- all rows, all columns\n",
    "- a5[:,3:5] - all rows, col 3 to 5(5 exclude)\n"
   ]
  },
  {
   "cell_type": "code",
   "execution_count": 110,
   "id": "7083d385",
   "metadata": {},
   "outputs": [
    {
     "data": {
      "text/plain": [
       "array([ 0,  1,  2,  3,  4,  5,  6,  7,  8,  9, 10, 11, 12, 13, 14, 15, 16,\n",
       "       17, 18, 19, 20, 21, 22, 23])"
      ]
     },
     "execution_count": 110,
     "metadata": {},
     "output_type": "execute_result"
    }
   ],
   "source": [
    "ar3 = np.arange(24)\n",
    "ar3"
   ]
  },
  {
   "cell_type": "code",
   "execution_count": 111,
   "id": "3ada82f9",
   "metadata": {},
   "outputs": [
    {
     "data": {
      "text/plain": [
       "array([[ 0,  1],\n",
       "       [ 2,  3],\n",
       "       [ 4,  5],\n",
       "       [ 6,  7],\n",
       "       [ 8,  9],\n",
       "       [10, 11],\n",
       "       [12, 13],\n",
       "       [14, 15],\n",
       "       [16, 17],\n",
       "       [18, 19],\n",
       "       [20, 21],\n",
       "       [22, 23]])"
      ]
     },
     "execution_count": 111,
     "metadata": {},
     "output_type": "execute_result"
    }
   ],
   "source": [
    "ar3.reshape(12,2)"
   ]
  },
  {
   "cell_type": "code",
   "execution_count": 112,
   "id": "00c7ccd2",
   "metadata": {},
   "outputs": [
    {
     "data": {
      "text/plain": [
       "array([[ 0,  1,  2,  3,  4,  5,  6,  7,  8,  9, 10, 11],\n",
       "       [12, 13, 14, 15, 16, 17, 18, 19, 20, 21, 22, 23]])"
      ]
     },
     "execution_count": 112,
     "metadata": {},
     "output_type": "execute_result"
    }
   ],
   "source": [
    "ar3.reshape(2,12)"
   ]
  },
  {
   "cell_type": "code",
   "execution_count": 113,
   "id": "2e122465",
   "metadata": {},
   "outputs": [
    {
     "data": {
      "text/plain": [
       "array([[ 0,  1,  2],\n",
       "       [ 3,  4,  5],\n",
       "       [ 6,  7,  8],\n",
       "       [ 9, 10, 11],\n",
       "       [12, 13, 14],\n",
       "       [15, 16, 17],\n",
       "       [18, 19, 20],\n",
       "       [21, 22, 23]])"
      ]
     },
     "execution_count": 113,
     "metadata": {},
     "output_type": "execute_result"
    }
   ],
   "source": [
    "ar3.reshape(8,3)"
   ]
  },
  {
   "cell_type": "code",
   "execution_count": 114,
   "id": "12e214ac",
   "metadata": {},
   "outputs": [
    {
     "data": {
      "text/plain": [
       "array([[ 0,  1,  2,  3,  4,  5,  6,  7],\n",
       "       [ 8,  9, 10, 11, 12, 13, 14, 15],\n",
       "       [16, 17, 18, 19, 20, 21, 22, 23]])"
      ]
     },
     "execution_count": 114,
     "metadata": {},
     "output_type": "execute_result"
    }
   ],
   "source": [
    "ar3.reshape(3,8)"
   ]
  },
  {
   "cell_type": "code",
   "execution_count": 115,
   "id": "e2a8f158",
   "metadata": {},
   "outputs": [
    {
     "data": {
      "text/plain": [
       "array([[ 0,  1,  2,  3],\n",
       "       [ 4,  5,  6,  7],\n",
       "       [ 8,  9, 10, 11],\n",
       "       [12, 13, 14, 15],\n",
       "       [16, 17, 18, 19],\n",
       "       [20, 21, 22, 23]])"
      ]
     },
     "execution_count": 115,
     "metadata": {},
     "output_type": "execute_result"
    }
   ],
   "source": [
    "ar3.reshape(6,4)"
   ]
  },
  {
   "cell_type": "code",
   "execution_count": 122,
   "id": "3e7a9305",
   "metadata": {},
   "outputs": [
    {
     "data": {
      "text/plain": [
       "array([10, 11, 12, 13, 14, 15, 16, 17, 18, 19])"
      ]
     },
     "execution_count": 122,
     "metadata": {},
     "output_type": "execute_result"
    }
   ],
   "source": [
    "ar4 = np.arange(10,20)\n",
    "ar4"
   ]
  },
  {
   "cell_type": "code",
   "execution_count": 126,
   "id": "09eb88c2",
   "metadata": {},
   "outputs": [
    {
     "data": {
      "text/plain": [
       "10"
      ]
     },
     "execution_count": 126,
     "metadata": {},
     "output_type": "execute_result"
    }
   ],
   "source": [
    "ar4[0]"
   ]
  },
  {
   "cell_type": "code",
   "execution_count": 129,
   "id": "dfffbd17",
   "metadata": {},
   "outputs": [
    {
     "data": {
      "text/plain": [
       "(array([13, 14, 15, 16]),)"
      ]
     },
     "execution_count": 129,
     "metadata": {},
     "output_type": "execute_result"
    }
   ],
   "source": [
    "ar4[3:7],"
   ]
  },
  {
   "cell_type": "code",
   "execution_count": 130,
   "id": "cd6f71c1",
   "metadata": {},
   "outputs": [
    {
     "data": {
      "text/plain": [
       "19"
      ]
     },
     "execution_count": 130,
     "metadata": {},
     "output_type": "execute_result"
    }
   ],
   "source": [
    "ar4[-1]"
   ]
  },
  {
   "cell_type": "code",
   "execution_count": 131,
   "id": "3313a3bd",
   "metadata": {},
   "outputs": [],
   "source": [
    "a5 = ar3.reshape(6,4)"
   ]
  },
  {
   "cell_type": "code",
   "execution_count": 132,
   "id": "fbdd6182",
   "metadata": {},
   "outputs": [
    {
     "data": {
      "text/plain": [
       "array([[ 0,  1,  2,  3],\n",
       "       [ 4,  5,  6,  7],\n",
       "       [ 8,  9, 10, 11],\n",
       "       [12, 13, 14, 15],\n",
       "       [16, 17, 18, 19],\n",
       "       [20, 21, 22, 23]])"
      ]
     },
     "execution_count": 132,
     "metadata": {},
     "output_type": "execute_result"
    }
   ],
   "source": [
    "a5"
   ]
  },
  {
   "cell_type": "code",
   "execution_count": 133,
   "id": "042314ea",
   "metadata": {},
   "outputs": [
    {
     "data": {
      "text/plain": [
       "array([ 8,  9, 10, 11])"
      ]
     },
     "execution_count": 133,
     "metadata": {},
     "output_type": "execute_result"
    }
   ],
   "source": [
    "a5[2]"
   ]
  },
  {
   "cell_type": "code",
   "execution_count": 134,
   "id": "44ddcbfb",
   "metadata": {},
   "outputs": [
    {
     "data": {
      "text/plain": [
       "array([[ 8,  9, 10, 11],\n",
       "       [12, 13, 14, 15],\n",
       "       [16, 17, 18, 19]])"
      ]
     },
     "execution_count": 134,
     "metadata": {},
     "output_type": "execute_result"
    }
   ],
   "source": [
    "a5[2:5]"
   ]
  },
  {
   "cell_type": "code",
   "execution_count": 135,
   "id": "0733d56f",
   "metadata": {},
   "outputs": [
    {
     "data": {
      "text/plain": [
       "array([ 2,  6, 10, 14, 18, 22])"
      ]
     },
     "execution_count": 135,
     "metadata": {},
     "output_type": "execute_result"
    }
   ],
   "source": [
    "a5[:,2]"
   ]
  },
  {
   "cell_type": "code",
   "execution_count": 136,
   "id": "9bc16dc4",
   "metadata": {},
   "outputs": [
    {
     "data": {
      "text/plain": [
       "array([[ 2,  3],\n",
       "       [ 6,  7],\n",
       "       [10, 11],\n",
       "       [14, 15],\n",
       "       [18, 19],\n",
       "       [22, 23]])"
      ]
     },
     "execution_count": 136,
     "metadata": {},
     "output_type": "execute_result"
    }
   ],
   "source": [
    "a5[:,2:4]"
   ]
  },
  {
   "cell_type": "code",
   "execution_count": 140,
   "id": "14c9411f",
   "metadata": {},
   "outputs": [
    {
     "data": {
      "text/plain": [
       "array([[ 9, 10],\n",
       "       [13, 14],\n",
       "       [17, 18]])"
      ]
     },
     "execution_count": 140,
     "metadata": {},
     "output_type": "execute_result"
    }
   ],
   "source": [
    "# synatx: [row_from:row_to,col_from:col_to]\n",
    "a5[2:5,1:3]"
   ]
  },
  {
   "cell_type": "code",
   "execution_count": 141,
   "id": "3873ddff",
   "metadata": {},
   "outputs": [
    {
     "data": {
      "text/plain": [
       "array([[ 0,  1,  2,  3],\n",
       "       [ 4,  5,  6,  7],\n",
       "       [ 8,  9, 10, 11],\n",
       "       [12, 13, 14, 15],\n",
       "       [16, 17, 18, 19],\n",
       "       [20, 21, 22, 23]])"
      ]
     },
     "execution_count": 141,
     "metadata": {},
     "output_type": "execute_result"
    }
   ],
   "source": [
    "a5[:,:]"
   ]
  },
  {
   "cell_type": "code",
   "execution_count": 142,
   "id": "afa0a2f3",
   "metadata": {},
   "outputs": [
    {
     "data": {
      "text/plain": [
       "array([[14, 15],\n",
       "       [18, 19],\n",
       "       [22, 23]])"
      ]
     },
     "execution_count": 142,
     "metadata": {},
     "output_type": "execute_result"
    }
   ],
   "source": [
    "a5[3:,2:]"
   ]
  },
  {
   "cell_type": "code",
   "execution_count": 143,
   "id": "ed4eb9fb",
   "metadata": {},
   "outputs": [
    {
     "name": "stdout",
     "output_type": "stream",
     "text": [
      "[0 1 2 3]\n",
      "[4 5 6 7]\n",
      "[ 8  9 10 11]\n",
      "[12 13 14 15]\n",
      "[16 17 18 19]\n",
      "[20 21 22 23]\n"
     ]
    }
   ],
   "source": [
    "for i in a5:\n",
    "    print(i)"
   ]
  },
  {
   "cell_type": "code",
   "execution_count": 145,
   "id": "0adc815f",
   "metadata": {},
   "outputs": [
    {
     "name": "stdout",
     "output_type": "stream",
     "text": [
      "0 1 2 3 4 5 6 7 8 9 10 11 12 13 14 15 16 17 18 19 20 21 22 23 "
     ]
    }
   ],
   "source": [
    "for i in np.nditer(a5):\n",
    "    print(i,end=\" \")"
   ]
  },
  {
   "cell_type": "markdown",
   "id": "f03e9258",
   "metadata": {},
   "source": [
    "# Numpy Array Operations\n",
    "1. Basic Operations\n",
    "   - +,-,*,<,>,/\n",
    "   \n",
    "2. Unary Operations\n",
    "    - min(),max(),sum()-------normal fn\n",
    "    \n",
    "3. Universal Functions\n",
    "    - np.sqrt(),np.exp(),np.sin() ---- oops fn\n",
    "    "
   ]
  },
  {
   "cell_type": "code",
   "execution_count": 150,
   "id": "8d80891e",
   "metadata": {},
   "outputs": [
    {
     "data": {
      "text/plain": [
       "array([[ 0,  1,  2,  3],\n",
       "       [ 4,  5,  6,  7],\n",
       "       [ 8,  9, 10, 11],\n",
       "       [12, 13, 14, 15],\n",
       "       [16, 17, 18, 19],\n",
       "       [20, 21, 22, 23]])"
      ]
     },
     "execution_count": 150,
     "metadata": {},
     "output_type": "execute_result"
    }
   ],
   "source": [
    "a5"
   ]
  },
  {
   "cell_type": "code",
   "execution_count": 165,
   "id": "509e50a5",
   "metadata": {},
   "outputs": [
    {
     "data": {
      "text/plain": [
       "array([[ 0,  4,  8, 12],\n",
       "       [16, 20, 24, 28],\n",
       "       [32, 36, 40, 44],\n",
       "       [48, 52, 56, 60],\n",
       "       [64, 68, 72, 76],\n",
       "       [80, 84, 88, 92]])"
      ]
     },
     "execution_count": 165,
     "metadata": {},
     "output_type": "execute_result"
    }
   ],
   "source": [
    "a6 = a5*4\n",
    "a6"
   ]
  },
  {
   "cell_type": "code",
   "execution_count": 168,
   "id": "9869385f",
   "metadata": {},
   "outputs": [
    {
     "data": {
      "text/plain": [
       "array([[  0,   5,  10,  15],\n",
       "       [ 20,  25,  30,  35],\n",
       "       [ 40,  45,  50,  55],\n",
       "       [ 60,  65,  70,  75],\n",
       "       [ 80,  85,  90,  95],\n",
       "       [100, 105, 110, 115]])"
      ]
     },
     "execution_count": 168,
     "metadata": {},
     "output_type": "execute_result"
    }
   ],
   "source": [
    "a5+a6"
   ]
  },
  {
   "cell_type": "code",
   "execution_count": 169,
   "id": "2c6bef6c",
   "metadata": {},
   "outputs": [
    {
     "data": {
      "text/plain": [
       "array([[ 0,  3,  6,  9],\n",
       "       [12, 15, 18, 21],\n",
       "       [24, 27, 30, 33],\n",
       "       [36, 39, 42, 45],\n",
       "       [48, 51, 54, 57],\n",
       "       [60, 63, 66, 69]])"
      ]
     },
     "execution_count": 169,
     "metadata": {},
     "output_type": "execute_result"
    }
   ],
   "source": [
    "a6-a5"
   ]
  },
  {
   "cell_type": "code",
   "execution_count": 170,
   "id": "fce91499",
   "metadata": {},
   "outputs": [
    {
     "data": {
      "text/plain": [
       "array([[  0,   8,  16,  24],\n",
       "       [ 32,  40,  48,  56],\n",
       "       [ 64,  72,  80,  88],\n",
       "       [ 96, 104, 112, 120],\n",
       "       [128, 136, 144, 152],\n",
       "       [160, 168, 176, 184]])"
      ]
     },
     "execution_count": 170,
     "metadata": {},
     "output_type": "execute_result"
    }
   ],
   "source": [
    "a6*2"
   ]
  },
  {
   "cell_type": "code",
   "execution_count": 171,
   "id": "34710882",
   "metadata": {},
   "outputs": [
    {
     "data": {
      "text/plain": [
       "array([[False,  True,  True,  True],\n",
       "       [ True,  True,  True,  True],\n",
       "       [ True,  True,  True,  True],\n",
       "       [ True,  True,  True,  True],\n",
       "       [ True,  True,  True,  True],\n",
       "       [ True,  True,  True,  True]])"
      ]
     },
     "execution_count": 171,
     "metadata": {},
     "output_type": "execute_result"
    }
   ],
   "source": [
    "a6>a5"
   ]
  },
  {
   "cell_type": "code",
   "execution_count": 194,
   "id": "5f9b025f",
   "metadata": {},
   "outputs": [
    {
     "data": {
      "text/plain": [
       "(array([[48, 52],\n",
       "        [64, 68],\n",
       "        [80, 84]]),\n",
       " array([[ 0,  4,  8],\n",
       "        [16, 20, 24]]))"
      ]
     },
     "execution_count": 194,
     "metadata": {},
     "output_type": "execute_result"
    }
   ],
   "source": [
    "a7 = a6[3:,0:2]\n",
    "a8 = a6[:2,:3]\n",
    "a7,a8"
   ]
  },
  {
   "cell_type": "code",
   "execution_count": 195,
   "id": "3f72cf45",
   "metadata": {},
   "outputs": [
    {
     "data": {
      "text/plain": [
       "array([[ 832, 1232, 1632],\n",
       "       [1088, 1616, 2144],\n",
       "       [1344, 2000, 2656]])"
      ]
     },
     "execution_count": 195,
     "metadata": {},
     "output_type": "execute_result"
    }
   ],
   "source": [
    "# dot matrix (3,2)x(2,3)\n",
    "a7.dot(a8)"
   ]
  },
  {
   "cell_type": "code",
   "execution_count": 197,
   "id": "48db06d3",
   "metadata": {},
   "outputs": [
    {
     "data": {
      "text/plain": [
       "84"
      ]
     },
     "execution_count": 197,
     "metadata": {},
     "output_type": "execute_result"
    }
   ],
   "source": [
    "a7.max()"
   ]
  },
  {
   "cell_type": "code",
   "execution_count": 198,
   "id": "7c1b277b",
   "metadata": {},
   "outputs": [
    {
     "data": {
      "text/plain": [
       "48"
      ]
     },
     "execution_count": 198,
     "metadata": {},
     "output_type": "execute_result"
    }
   ],
   "source": [
    "a7.min()"
   ]
  },
  {
   "cell_type": "code",
   "execution_count": 199,
   "id": "2c8e96c9",
   "metadata": {},
   "outputs": [
    {
     "data": {
      "text/plain": [
       "array([80, 84])"
      ]
     },
     "execution_count": 199,
     "metadata": {},
     "output_type": "execute_result"
    }
   ],
   "source": [
    "a7.max(axis=0)"
   ]
  },
  {
   "cell_type": "code",
   "execution_count": 200,
   "id": "0c2b27bb",
   "metadata": {},
   "outputs": [
    {
     "data": {
      "text/plain": [
       "array([48, 64, 80])"
      ]
     },
     "execution_count": 200,
     "metadata": {},
     "output_type": "execute_result"
    }
   ],
   "source": [
    "a7.min(axis=1)"
   ]
  },
  {
   "cell_type": "code",
   "execution_count": 202,
   "id": "b3edbcf5",
   "metadata": {},
   "outputs": [
    {
     "data": {
      "text/plain": [
       "396"
      ]
     },
     "execution_count": 202,
     "metadata": {},
     "output_type": "execute_result"
    }
   ],
   "source": [
    "# sum all values\n",
    "a7.sum()"
   ]
  },
  {
   "cell_type": "code",
   "execution_count": 203,
   "id": "751efb35",
   "metadata": {},
   "outputs": [
    {
     "data": {
      "text/plain": [
       "array([100, 132, 164])"
      ]
     },
     "execution_count": 203,
     "metadata": {},
     "output_type": "execute_result"
    }
   ],
   "source": [
    "# column wise sum\n",
    "a7.sum(axis=1)"
   ]
  },
  {
   "cell_type": "code",
   "execution_count": 204,
   "id": "e45d16e7",
   "metadata": {},
   "outputs": [
    {
     "data": {
      "text/plain": [
       "array([192, 204])"
      ]
     },
     "execution_count": 204,
     "metadata": {},
     "output_type": "execute_result"
    }
   ],
   "source": [
    "# row wise sum\n",
    "a7.sum(axis=0)"
   ]
  },
  {
   "cell_type": "code",
   "execution_count": 205,
   "id": "e31535f9",
   "metadata": {},
   "outputs": [
    {
     "data": {
      "text/plain": [
       "array([[48, 52],\n",
       "       [64, 68],\n",
       "       [80, 84]])"
      ]
     },
     "execution_count": 205,
     "metadata": {},
     "output_type": "execute_result"
    }
   ],
   "source": [
    "a7"
   ]
  },
  {
   "cell_type": "code",
   "execution_count": 207,
   "id": "4e382f4a",
   "metadata": {},
   "outputs": [
    {
     "data": {
      "text/plain": [
       "66.0"
      ]
     },
     "execution_count": 207,
     "metadata": {},
     "output_type": "execute_result"
    }
   ],
   "source": [
    "a7.mean()"
   ]
  },
  {
   "cell_type": "code",
   "execution_count": 208,
   "id": "7c123be2",
   "metadata": {},
   "outputs": [
    {
     "data": {
      "text/plain": [
       "13.21615173439934"
      ]
     },
     "execution_count": 208,
     "metadata": {},
     "output_type": "execute_result"
    }
   ],
   "source": [
    "a7.std()"
   ]
  },
  {
   "cell_type": "code",
   "execution_count": 209,
   "id": "5f32a1f9",
   "metadata": {},
   "outputs": [
    {
     "data": {
      "text/plain": [
       "array([[-0.76825466,  0.98662759],\n",
       "       [ 0.92002604, -0.89792768],\n",
       "       [-0.99388865,  0.73319032]])"
      ]
     },
     "execution_count": 209,
     "metadata": {},
     "output_type": "execute_result"
    }
   ],
   "source": [
    "np.sin(a7)"
   ]
  },
  {
   "cell_type": "code",
   "execution_count": 210,
   "id": "2ae9df68",
   "metadata": {},
   "outputs": [
    {
     "data": {
      "text/plain": [
       "66.0"
      ]
     },
     "execution_count": 210,
     "metadata": {},
     "output_type": "execute_result"
    }
   ],
   "source": [
    "np.median(a7)"
   ]
  },
  {
   "cell_type": "code",
   "execution_count": 211,
   "id": "4148a5e7",
   "metadata": {},
   "outputs": [
    {
     "data": {
      "text/plain": [
       "array([[7.01673591e+20, 3.83100800e+22],\n",
       "       [6.23514908e+27, 3.40427605e+29],\n",
       "       [5.54062238e+34, 3.02507732e+36]])"
      ]
     },
     "execution_count": 211,
     "metadata": {},
     "output_type": "execute_result"
    }
   ],
   "source": [
    "np.exp(a7)"
   ]
  },
  {
   "cell_type": "markdown",
   "id": "0d37095c",
   "metadata": {},
   "source": [
    "# Reshaping Numpy Array\n",
    "- Reval\n",
    "- Reshape\n",
    "- Transpose\n",
    "- Stacking\n",
    "- Splitting"
   ]
  },
  {
   "cell_type": "code",
   "execution_count": 212,
   "id": "dfa56780",
   "metadata": {},
   "outputs": [
    {
     "data": {
      "text/plain": [
       "array([[[1, 2],\n",
       "        [3, 4],\n",
       "        [7, 8]],\n",
       "\n",
       "       [[4, 5],\n",
       "        [6, 7],\n",
       "        [8, 9]]])"
      ]
     },
     "execution_count": 212,
     "metadata": {},
     "output_type": "execute_result"
    }
   ],
   "source": [
    "arr4"
   ]
  },
  {
   "cell_type": "code",
   "execution_count": 213,
   "id": "fa88d0c0",
   "metadata": {},
   "outputs": [
    {
     "data": {
      "text/plain": [
       "3"
      ]
     },
     "execution_count": 213,
     "metadata": {},
     "output_type": "execute_result"
    }
   ],
   "source": [
    "arr4.ndim"
   ]
  },
  {
   "cell_type": "code",
   "execution_count": 216,
   "id": "19b1e2a5",
   "metadata": {},
   "outputs": [
    {
     "data": {
      "text/plain": [
       "array([1, 2, 3, 4, 7, 8, 4, 5, 6, 7, 8, 9])"
      ]
     },
     "execution_count": 216,
     "metadata": {},
     "output_type": "execute_result"
    }
   ],
   "source": [
    "# conveting N-D to vector\n",
    "arr4.ravel()"
   ]
  },
  {
   "cell_type": "code",
   "execution_count": 218,
   "id": "452ed816",
   "metadata": {},
   "outputs": [
    {
     "name": "stdout",
     "output_type": "stream",
     "text": [
      "[[48 52]\n",
      " [64 68]\n",
      " [80 84]]\n"
     ]
    },
    {
     "data": {
      "text/plain": [
       "array([[48, 64, 80],\n",
       "       [52, 68, 84]])"
      ]
     },
     "execution_count": 218,
     "metadata": {},
     "output_type": "execute_result"
    }
   ],
   "source": [
    "print(a7)\n",
    "a7.transpose()"
   ]
  },
  {
   "cell_type": "code",
   "execution_count": 225,
   "id": "6996483d",
   "metadata": {},
   "outputs": [
    {
     "data": {
      "text/plain": [
       "array([[48, 52,  0, 16],\n",
       "       [64, 68,  4, 20],\n",
       "       [80, 84,  8, 24]])"
      ]
     },
     "execution_count": 225,
     "metadata": {},
     "output_type": "execute_result"
    }
   ],
   "source": [
    "# horizontally stcking: add two array column wise\n",
    "np.hstack((a7,a8.transpose()))"
   ]
  },
  {
   "cell_type": "code",
   "execution_count": 227,
   "id": "fad83793",
   "metadata": {},
   "outputs": [
    {
     "data": {
      "text/plain": [
       "array([[48, 52],\n",
       "       [64, 68],\n",
       "       [80, 84],\n",
       "       [ 0, 16],\n",
       "       [ 4, 20],\n",
       "       [ 8, 24]])"
      ]
     },
     "execution_count": 227,
     "metadata": {},
     "output_type": "execute_result"
    }
   ],
   "source": [
    "# vertically stcking: add two array row wise\n",
    "np.vstack((a7,a8.transpose()))"
   ]
  },
  {
   "cell_type": "code",
   "execution_count": 231,
   "id": "5210baf6",
   "metadata": {},
   "outputs": [
    {
     "data": {
      "text/plain": [
       "[array([[48, 52]]), array([[64, 68]]), array([[80, 84]])]"
      ]
     },
     "execution_count": 231,
     "metadata": {},
     "output_type": "execute_result"
    }
   ],
   "source": [
    "np.vsplit(a7,3)"
   ]
  },
  {
   "cell_type": "code",
   "execution_count": 229,
   "id": "2159bfd6",
   "metadata": {},
   "outputs": [
    {
     "data": {
      "text/plain": [
       "array([[48, 52],\n",
       "       [64, 68],\n",
       "       [80, 84]])"
      ]
     },
     "execution_count": 229,
     "metadata": {},
     "output_type": "execute_result"
    }
   ],
   "source": [
    "a7"
   ]
  },
  {
   "cell_type": "code",
   "execution_count": 232,
   "id": "9595a41f",
   "metadata": {},
   "outputs": [
    {
     "data": {
      "text/plain": [
       "[array([[48],\n",
       "        [64],\n",
       "        [80]]),\n",
       " array([[52],\n",
       "        [68],\n",
       "        [84]])]"
      ]
     },
     "execution_count": 232,
     "metadata": {},
     "output_type": "execute_result"
    }
   ],
   "source": [
    "np.hsplit(a7,2)"
   ]
  },
  {
   "cell_type": "markdown",
   "id": "2a1d3ef1",
   "metadata": {},
   "source": [
    "# Fancy Indexing"
   ]
  },
  {
   "cell_type": "code",
   "execution_count": 233,
   "id": "fd0a3ba1",
   "metadata": {},
   "outputs": [
    {
     "data": {
      "text/plain": [
       "array([[ 0,  4,  8, 12],\n",
       "       [16, 20, 24, 28],\n",
       "       [32, 36, 40, 44],\n",
       "       [48, 52, 56, 60],\n",
       "       [64, 68, 72, 76],\n",
       "       [80, 84, 88, 92]])"
      ]
     },
     "execution_count": 233,
     "metadata": {},
     "output_type": "execute_result"
    }
   ],
   "source": [
    "a6"
   ]
  },
  {
   "cell_type": "code",
   "execution_count": 234,
   "id": "2e1c92f7",
   "metadata": {},
   "outputs": [
    {
     "data": {
      "text/plain": [
       "array([[ 0,  4,  8, 12],\n",
       "       [32, 36, 40, 44],\n",
       "       [64, 68, 72, 76]])"
      ]
     },
     "execution_count": 234,
     "metadata": {},
     "output_type": "execute_result"
    }
   ],
   "source": [
    "a6[[0,2,4],:]"
   ]
  },
  {
   "cell_type": "code",
   "execution_count": 235,
   "id": "1693611b",
   "metadata": {},
   "outputs": [
    {
     "data": {
      "text/plain": [
       "array([[ 0,  4,  8, 12],\n",
       "       [32, 36, 40, 44],\n",
       "       [64, 68, 72, 76]])"
      ]
     },
     "execution_count": 235,
     "metadata": {},
     "output_type": "execute_result"
    }
   ],
   "source": [
    "a6[[0,2,4]]"
   ]
  },
  {
   "cell_type": "markdown",
   "id": "10b6a914",
   "metadata": {},
   "source": [
    "# Indexing with Bool array"
   ]
  },
  {
   "cell_type": "code",
   "execution_count": 238,
   "id": "70ef0acd",
   "metadata": {},
   "outputs": [],
   "source": [
    "arr = np.random.randint(low=1,high=100,size=20).reshape(4,5)"
   ]
  },
  {
   "cell_type": "code",
   "execution_count": 240,
   "id": "19213cdb",
   "metadata": {},
   "outputs": [
    {
     "data": {
      "text/plain": [
       "array([[64, 12, 43, 40, 43],\n",
       "       [23, 36, 86, 57,  3],\n",
       "       [43, 84, 36, 32, 54],\n",
       "       [69, 97, 25, 74, 66]])"
      ]
     },
     "execution_count": 240,
     "metadata": {},
     "output_type": "execute_result"
    }
   ],
   "source": [
    "arr"
   ]
  },
  {
   "cell_type": "code",
   "execution_count": 241,
   "id": "eaa16923",
   "metadata": {},
   "outputs": [
    {
     "data": {
      "text/plain": [
       "array([64, 12, 43, 40, 43])"
      ]
     },
     "execution_count": 241,
     "metadata": {},
     "output_type": "execute_result"
    }
   ],
   "source": [
    "arr[0]"
   ]
  },
  {
   "cell_type": "code",
   "execution_count": 244,
   "id": "893c7ebd",
   "metadata": {},
   "outputs": [
    {
     "data": {
      "text/plain": [
       "array([[ True, False, False, False, False],\n",
       "       [False, False,  True,  True, False],\n",
       "       [False,  True, False, False,  True],\n",
       "       [ True,  True, False,  True,  True]])"
      ]
     },
     "execution_count": 244,
     "metadata": {},
     "output_type": "execute_result"
    }
   ],
   "source": [
    "arr>50"
   ]
  },
  {
   "cell_type": "code",
   "execution_count": 245,
   "id": "f712249a",
   "metadata": {},
   "outputs": [
    {
     "data": {
      "text/plain": [
       "array([64, 86, 57, 84, 54, 69, 97, 74, 66])"
      ]
     },
     "execution_count": 245,
     "metadata": {},
     "output_type": "execute_result"
    }
   ],
   "source": [
    "arr[arr>50]"
   ]
  },
  {
   "cell_type": "code",
   "execution_count": 247,
   "id": "6f3f91ae",
   "metadata": {},
   "outputs": [
    {
     "data": {
      "text/plain": [
       "array([57, 69, 97])"
      ]
     },
     "execution_count": 247,
     "metadata": {},
     "output_type": "execute_result"
    }
   ],
   "source": [
    "# indexing using boolean array... extracting greater than 50 and number is odd\n",
    "arr[(arr>50) & (arr%2!=0)]"
   ]
  },
  {
   "cell_type": "code",
   "execution_count": 250,
   "id": "13f54055",
   "metadata": {},
   "outputs": [],
   "source": [
    "# replacing value with zero where condition true\n",
    "arr[(arr>50) & (arr%2!=0)]=0"
   ]
  },
  {
   "cell_type": "code",
   "execution_count": 251,
   "id": "dab8089c",
   "metadata": {},
   "outputs": [
    {
     "data": {
      "text/plain": [
       "array([[64, 12, 43, 40, 43],\n",
       "       [23, 36, 86,  0,  3],\n",
       "       [43, 84, 36, 32, 54],\n",
       "       [ 0,  0, 25, 74, 66]])"
      ]
     },
     "execution_count": 251,
     "metadata": {},
     "output_type": "execute_result"
    }
   ],
   "source": [
    "arr"
   ]
  },
  {
   "cell_type": "markdown",
   "id": "b6c53a25",
   "metadata": {},
   "source": [
    "# Ploting gragh "
   ]
  },
  {
   "cell_type": "code",
   "execution_count": 252,
   "id": "e8821f63",
   "metadata": {},
   "outputs": [],
   "source": [
    "x = np.linspace(-40,40,100)"
   ]
  },
  {
   "cell_type": "code",
   "execution_count": 254,
   "id": "027acc6f",
   "metadata": {},
   "outputs": [
    {
     "data": {
      "text/plain": [
       "(100,)"
      ]
     },
     "execution_count": 254,
     "metadata": {},
     "output_type": "execute_result"
    }
   ],
   "source": [
    "x.shape"
   ]
  },
  {
   "cell_type": "code",
   "execution_count": 255,
   "id": "9120b952",
   "metadata": {},
   "outputs": [],
   "source": [
    "y = np.sin(x)"
   ]
  },
  {
   "cell_type": "code",
   "execution_count": 256,
   "id": "bbc20949",
   "metadata": {},
   "outputs": [
    {
     "data": {
      "text/plain": [
       "(100,)"
      ]
     },
     "execution_count": 256,
     "metadata": {},
     "output_type": "execute_result"
    }
   ],
   "source": [
    "y.shape"
   ]
  },
  {
   "cell_type": "code",
   "execution_count": 258,
   "id": "31dd82c6",
   "metadata": {},
   "outputs": [],
   "source": [
    "import matplotlib.pyplot as plt\n",
    "%matplotlib inline"
   ]
  },
  {
   "cell_type": "code",
   "execution_count": 259,
   "id": "dbd391bb",
   "metadata": {},
   "outputs": [
    {
     "data": {
      "text/plain": [
       "[<matplotlib.lines.Line2D at 0x21bcd2e5c40>]"
      ]
     },
     "execution_count": 259,
     "metadata": {},
     "output_type": "execute_result"
    },
    {
     "data": {
      "image/png": "[encoded data removed]",
      "text/plain": [
       "<Figure size 432x288 with 1 Axes>"
      ]
     },
     "metadata": {
      "needs_background": "light"
     },
     "output_type": "display_data"
    }
   ],
   "source": [
    "plt.plot(x,y)"
   ]
  },
  {
   "cell_type": "code",
   "execution_count": 260,
   "id": "66e0fa96",
   "metadata": {},
   "outputs": [],
   "source": [
    "y = x*x+2*x+6"
   ]
  },
  {
   "cell_type": "code",
   "execution_count": 261,
   "id": "38e1cd9d",
   "metadata": {},
   "outputs": [
    {
     "data": {
      "text/plain": [
       "[<matplotlib.lines.Line2D at 0x21bcd3fb700>]"
      ]
     },
     "execution_count": 261,
     "metadata": {},
     "output_type": "execute_result"
    },
    {
     "data": {
      "image/png": "[encoded data removed]",
      "text/plain": [
       "<Figure size 432x288 with 1 Axes>"
      ]
     },
     "metadata": {
      "needs_background": "light"
     },
     "output_type": "display_data"
    }
   ],
   "source": [
    "plt.plot(x,y)"
   ]
  },
  {
   "cell_type": "markdown",
   "id": "afbb4ea4",
   "metadata": {},
   "source": [
    "# BroadCasting\n",
    "- row or column should be equal"
   ]
  },
  {
   "attachments": {
    "image-3.png": {
     "image/png": "[encoded data removed]"
    },
    "image.png": {
     "image/png": "[encoded data removed]"
    }
   },
   "cell_type": "markdown",
   "id": "196ce2e7",
   "metadata": {},
   "source": [
    "![image.png](attachment:image.png)\n",
    "![image-3.png](attachment:image-3.png)"
   ]
  },
  {
   "cell_type": "code",
   "execution_count": 264,
   "id": "8b4bcc3e",
   "metadata": {},
   "outputs": [
    {
     "data": {
      "text/plain": [
       "array([[0, 1, 2, 3],\n",
       "       [4, 5, 6, 7]])"
      ]
     },
     "execution_count": 264,
     "metadata": {},
     "output_type": "execute_result"
    }
   ],
   "source": [
    "# Rule for Broadcasting\n",
    "# if x=m and y=n,\n",
    "a1 = np.arange(8).reshape(2,4)\n",
    "a2 = np.arange(8,16).reshape(2,4)\n",
    "a1"
   ]
  },
  {
   "cell_type": "code",
   "execution_count": 265,
   "id": "7b1a2408",
   "metadata": {},
   "outputs": [
    {
     "data": {
      "text/plain": [
       "array([[ 8,  9, 10, 11],\n",
       "       [12, 13, 14, 15]])"
      ]
     },
     "execution_count": 265,
     "metadata": {},
     "output_type": "execute_result"
    }
   ],
   "source": [
    "a2"
   ]
  },
  {
   "cell_type": "code",
   "execution_count": 266,
   "id": "72ec8cea",
   "metadata": {},
   "outputs": [
    {
     "data": {
      "text/plain": [
       "array([[ 8, 10, 12, 14],\n",
       "       [16, 18, 20, 22]])"
      ]
     },
     "execution_count": 266,
     "metadata": {},
     "output_type": "execute_result"
    }
   ],
   "source": [
    "a1+a2"
   ]
  },
  {
   "cell_type": "code",
   "execution_count": 268,
   "id": "1e8b7c5c",
   "metadata": {},
   "outputs": [
    {
     "data": {
      "text/plain": [
       "array([[0, 1, 2]])"
      ]
     },
     "execution_count": 268,
     "metadata": {},
     "output_type": "execute_result"
    }
   ],
   "source": [
    "# if x=1 and y=n then also operantion will takee place(same dimension)\n",
    "a3 = np.arange(3).reshape(1,3)\n",
    "a4 = np.arange(12).reshape(4,3)\n",
    "a3"
   ]
  },
  {
   "cell_type": "code",
   "execution_count": 269,
   "id": "53188676",
   "metadata": {},
   "outputs": [
    {
     "data": {
      "text/plain": [
       "array([[ 0,  1,  2],\n",
       "       [ 3,  4,  5],\n",
       "       [ 6,  7,  8],\n",
       "       [ 9, 10, 11]])"
      ]
     },
     "execution_count": 269,
     "metadata": {},
     "output_type": "execute_result"
    }
   ],
   "source": [
    "a4"
   ]
  },
  {
   "cell_type": "code",
   "execution_count": 270,
   "id": "b5d343bd",
   "metadata": {},
   "outputs": [
    {
     "data": {
      "text/plain": [
       "array([[ 0,  2,  4],\n",
       "       [ 3,  5,  7],\n",
       "       [ 6,  8, 10],\n",
       "       [ 9, 11, 13]])"
      ]
     },
     "execution_count": 270,
     "metadata": {},
     "output_type": "execute_result"
    }
   ],
   "source": [
    "a3+a4"
   ]
  },
  {
   "cell_type": "code",
   "execution_count": 275,
   "id": "ac392789",
   "metadata": {},
   "outputs": [
    {
     "data": {
      "text/plain": [
       "array([[0, 1, 2]])"
      ]
     },
     "execution_count": 275,
     "metadata": {},
     "output_type": "execute_result"
    }
   ],
   "source": [
    "a3 = np.arange(3).reshape(1,3)\n",
    "a4 = np.arange(3).reshape(3,1)\n",
    "a3"
   ]
  },
  {
   "cell_type": "code",
   "execution_count": 276,
   "id": "e4d4c6fa",
   "metadata": {},
   "outputs": [
    {
     "data": {
      "text/plain": [
       "array([[0],\n",
       "       [1],\n",
       "       [2]])"
      ]
     },
     "execution_count": 276,
     "metadata": {},
     "output_type": "execute_result"
    }
   ],
   "source": [
    "a4"
   ]
  },
  {
   "cell_type": "code",
   "execution_count": 277,
   "id": "ad329172",
   "metadata": {},
   "outputs": [
    {
     "data": {
      "text/plain": [
       "array([[0, 1, 2],\n",
       "       [1, 2, 3],\n",
       "       [2, 3, 4]])"
      ]
     },
     "execution_count": 277,
     "metadata": {},
     "output_type": "execute_result"
    }
   ],
   "source": [
    "a3+a4"
   ]
  },
  {
   "cell_type": "code",
   "execution_count": 278,
   "id": "acbc8b78",
   "metadata": {},
   "outputs": [
    {
     "data": {
      "text/plain": [
       "array([[0, 1, 2]])"
      ]
     },
     "execution_count": 278,
     "metadata": {},
     "output_type": "execute_result"
    }
   ],
   "source": [
    "a3 = np.arange(3).reshape(1,3)\n",
    "a4 = np.arange(16).reshape(4,4)\n",
    "a3"
   ]
  },
  {
   "cell_type": "code",
   "execution_count": 279,
   "id": "2b66404f",
   "metadata": {},
   "outputs": [
    {
     "data": {
      "text/plain": [
       "array([[ 0,  1,  2,  3],\n",
       "       [ 4,  5,  6,  7],\n",
       "       [ 8,  9, 10, 11],\n",
       "       [12, 13, 14, 15]])"
      ]
     },
     "execution_count": 279,
     "metadata": {},
     "output_type": "execute_result"
    }
   ],
   "source": [
    "\n",
    "a4"
   ]
  },
  {
   "cell_type": "code",
   "execution_count": 280,
   "id": "1d63e4b4",
   "metadata": {},
   "outputs": [
    {
     "ename": "ValueError",
     "evalue": "operands could not be broadcast together with shapes (1,3) (4,4) ",
     "output_type": "error",
     "traceback": [
      "\u001b[1;31m---------------------------------------------------------------------------\u001b[0m",
      "\u001b[1;31mValueError\u001b[0m                                Traceback (most recent call last)",
      "\u001b[1;32m~\\AppData\\Local\\Temp/ipykernel_22576/2169720230.py\u001b[0m in \u001b[0;36m<module>\u001b[1;34m\u001b[0m\n\u001b[1;32m----> 1\u001b[1;33m \u001b[0ma3\u001b[0m\u001b[1;33m+\u001b[0m\u001b[0ma4\u001b[0m\u001b[1;33m\u001b[0m\u001b[1;33m\u001b[0m\u001b[0m\n\u001b[0m",
      "\u001b[1;31mValueError\u001b[0m: operands could not be broadcast together with shapes (1,3) (4,4) "
     ]
    }
   ],
   "source": [
    "# cannot add this\n",
    "a3+a4"
   ]
  },
  {
   "cell_type": "code",
   "execution_count": 281,
   "id": "76515025",
   "metadata": {},
   "outputs": [
    {
     "data": {
      "text/plain": [
       "array([0, 1, 2, 3])"
      ]
     },
     "execution_count": 281,
     "metadata": {},
     "output_type": "execute_result"
    }
   ],
   "source": [
    "a3 = np.arange(4)\n",
    "a4 = np.arange(20).reshape(5,4)\n",
    "a3"
   ]
  },
  {
   "cell_type": "code",
   "execution_count": 282,
   "id": "320c1661",
   "metadata": {},
   "outputs": [
    {
     "data": {
      "text/plain": [
       "array([[ 0,  1,  2,  3],\n",
       "       [ 4,  5,  6,  7],\n",
       "       [ 8,  9, 10, 11],\n",
       "       [12, 13, 14, 15],\n",
       "       [16, 17, 18, 19]])"
      ]
     },
     "execution_count": 282,
     "metadata": {},
     "output_type": "execute_result"
    }
   ],
   "source": [
    "a4"
   ]
  },
  {
   "cell_type": "code",
   "execution_count": 283,
   "id": "d52be0ea",
   "metadata": {},
   "outputs": [
    {
     "data": {
      "text/plain": [
       "array([[ 0,  2,  4,  6],\n",
       "       [ 4,  6,  8, 10],\n",
       "       [ 8, 10, 12, 14],\n",
       "       [12, 14, 16, 18],\n",
       "       [16, 18, 20, 22]])"
      ]
     },
     "execution_count": 283,
     "metadata": {},
     "output_type": "execute_result"
    }
   ],
   "source": [
    "a3+a4"
   ]
  },
  {
   "cell_type": "markdown",
   "id": "2275a18f",
   "metadata": {},
   "source": [
    "#  Random "
   ]
  },
  {
   "cell_type": "code",
   "execution_count": 342,
   "id": "32a93e24",
   "metadata": {},
   "outputs": [
    {
     "data": {
      "text/plain": [
       "0.7677672877045254"
      ]
     },
     "execution_count": 342,
     "metadata": {},
     "output_type": "execute_result"
    }
   ],
   "source": [
    "np.random.random()"
   ]
  },
  {
   "cell_type": "code",
   "execution_count": 370,
   "id": "80fef2f4",
   "metadata": {},
   "outputs": [
    {
     "data": {
      "text/plain": [
       "0.417022004702574"
      ]
     },
     "execution_count": 370,
     "metadata": {},
     "output_type": "execute_result"
    }
   ],
   "source": [
    "np.random.seed(1)\n",
    "np.random.random()"
   ]
  },
  {
   "cell_type": "code",
   "execution_count": 420,
   "id": "0402e489",
   "metadata": {},
   "outputs": [
    {
     "data": {
      "text/plain": [
       "2"
      ]
     },
     "execution_count": 420,
     "metadata": {},
     "output_type": "execute_result"
    }
   ],
   "source": [
    "int(np.random.uniform(1,100))"
   ]
  },
  {
   "cell_type": "code",
   "execution_count": 425,
   "id": "26335f97",
   "metadata": {},
   "outputs": [
    {
     "data": {
      "text/plain": [
       "array([[94.99943661, 45.54130121],\n",
       "       [58.26057182, 41.40554347],\n",
       "       [24.46567104, 90.43457254],\n",
       "       [57.79426918,  1.28416238],\n",
       "       [62.09734645, 33.33784528]])"
      ]
     },
     "execution_count": 425,
     "metadata": {},
     "output_type": "execute_result"
    }
   ],
   "source": [
    "np.random.uniform(1,100,10).reshape(5,2)"
   ]
  },
  {
   "cell_type": "code",
   "execution_count": 431,
   "id": "f267ba31",
   "metadata": {},
   "outputs": [
    {
     "data": {
      "text/plain": [
       "array([[ 1, 30],\n",
       "       [64, 76],\n",
       "       [36, 54],\n",
       "       [94, 34],\n",
       "       [ 3, 85]])"
      ]
     },
     "execution_count": 431,
     "metadata": {},
     "output_type": "execute_result"
    }
   ],
   "source": [
    "np.random.randint(1,100,10).reshape(5,2)"
   ]
  },
  {
   "cell_type": "code",
   "execution_count": 448,
   "id": "a87d1d9c",
   "metadata": {},
   "outputs": [],
   "source": [
    "a = np.random.randint(1,10,20).reshape(5,4)"
   ]
  },
  {
   "cell_type": "code",
   "execution_count": 449,
   "id": "88b7c688",
   "metadata": {},
   "outputs": [
    {
     "data": {
      "text/plain": [
       "array([[2, 6, 7, 5],\n",
       "       [9, 8, 6, 2],\n",
       "       [9, 1, 6, 4],\n",
       "       [1, 5, 9, 7],\n",
       "       [3, 5, 4, 3]])"
      ]
     },
     "execution_count": 449,
     "metadata": {},
     "output_type": "execute_result"
    }
   ],
   "source": [
    "a"
   ]
  },
  {
   "cell_type": "code",
   "execution_count": 450,
   "id": "bdfd1ffd",
   "metadata": {},
   "outputs": [
    {
     "data": {
      "text/plain": [
       "9"
      ]
     },
     "execution_count": 450,
     "metadata": {},
     "output_type": "execute_result"
    }
   ],
   "source": [
    "a.max()"
   ]
  },
  {
   "cell_type": "code",
   "execution_count": 451,
   "id": "038cf121",
   "metadata": {},
   "outputs": [
    {
     "data": {
      "text/plain": [
       "4"
      ]
     },
     "execution_count": 451,
     "metadata": {},
     "output_type": "execute_result"
    }
   ],
   "source": [
    "np.argmax(a) "
   ]
  },
  {
   "cell_type": "code",
   "execution_count": 452,
   "id": "685c802b",
   "metadata": {},
   "outputs": [
    {
     "data": {
      "text/plain": [
       "9"
      ]
     },
     "execution_count": 452,
     "metadata": {},
     "output_type": "execute_result"
    }
   ],
   "source": [
    "np.argmin(a)"
   ]
  },
  {
   "cell_type": "markdown",
   "id": "3eed9c77",
   "metadata": {},
   "source": [
    "# Strings"
   ]
  },
  {
   "cell_type": "code",
   "execution_count": 4,
   "id": "4e10f22a",
   "metadata": {},
   "outputs": [
    {
     "name": "stdout",
     "output_type": "stream",
     "text": [
      "Newbies-friendly EDA and Linear Models, 0.92 R2\n"
     ]
    }
   ],
   "source": [
    "print('Newbies-friendly EDA and Linear Models, 0.92 R2')\n"
   ]
  },
  {
   "cell_type": "code",
   "execution_count": 5,
   "id": "95d02a59",
   "metadata": {},
   "outputs": [
    {
     "ename": "SyntaxError",
     "evalue": "EOL while scanning string literal (Temp/ipykernel_24804/451138316.py, line 1)",
     "output_type": "error",
     "traceback": [
      "\u001b[1;36m  File \u001b[1;32m\"C:\\Users\\withu\\AppData\\Local\\Temp/ipykernel_24804/451138316.py\"\u001b[1;36m, line \u001b[1;32m1\u001b[0m\n\u001b[1;33m    print('Newbies-friendly\u001b[0m\n\u001b[1;37m                            ^\u001b[0m\n\u001b[1;31mSyntaxError\u001b[0m\u001b[1;31m:\u001b[0m EOL while scanning string literal\n"
     ]
    }
   ],
   "source": [
    "print('Newbies-friendly \n",
    "      EDA and Linear\n",
    "      Models, 0.92 R2')"
   ]
  },
  {
   "cell_type": "code",
   "execution_count": 7,
   "id": "3ea82041",
   "metadata": {},
   "outputs": [
    {
     "name": "stdout",
     "output_type": "stream",
     "text": [
      "Newbies-friendly       EDA and Linear       Models, 0.92 R2\n"
     ]
    }
   ],
   "source": [
    "print('Newbies-friendly \\\n",
    "      EDA and Linear \\\n",
    "      Models, 0.92 R2')"
   ]
  },
  {
   "cell_type": "code",
   "execution_count": 8,
   "id": "d8f5efdb",
   "metadata": {},
   "outputs": [
    {
     "name": "stdout",
     "output_type": "stream",
     "text": [
      "Newbies-friendly \\EDA and Linear Models, 0.92 R2\n"
     ]
    }
   ],
   "source": [
    "print('Newbies-friendly \\EDA and Linear Models, 0.92 R2')"
   ]
  },
  {
   "cell_type": "code",
   "execution_count": 9,
   "id": "1959ecf1",
   "metadata": {},
   "outputs": [
    {
     "name": "stdout",
     "output_type": "stream",
     "text": [
      "Newbies-friendly EDA \\and Linear Models, 0.92 R2\n"
     ]
    }
   ],
   "source": [
    "print('Newbies-friendly EDA \\\\and Linear Models, 0.92 R2')"
   ]
  },
  {
   "cell_type": "code",
   "execution_count": 11,
   "id": "6db36636",
   "metadata": {},
   "outputs": [
    {
     "name": "stdout",
     "output_type": "stream",
     "text": [
      "Newbies-friendly EDA \n",
      "and Linear Models, 0.92 R2\n"
     ]
    }
   ],
   "source": [
    "print('Newbies-friendly EDA \\nand Linear Models, 0.92 R2')"
   ]
  },
  {
   "cell_type": "code",
   "execution_count": 12,
   "id": "ee3ea800",
   "metadata": {},
   "outputs": [
    {
     "name": "stdout",
     "output_type": "stream",
     "text": [
      "Newbies-friendly 'EDA and Linear Models, 0.92 R2\n"
     ]
    }
   ],
   "source": [
    "print('Newbies-friendly \\'EDA and Linear Models, 0.92 R2')"
   ]
  },
  {
   "cell_type": "code",
   "execution_count": 13,
   "id": "bdc58e70",
   "metadata": {},
   "outputs": [
    {
     "name": "stdout",
     "output_type": "stream",
     "text": [
      "Newbies-friendly \u0007EDA and Linear Models, 0.92 R2\n"
     ]
    }
   ],
   "source": [
    "print('Newbies-friendly \\aEDA and Linear Models, 0.92 R2')"
   ]
  },
  {
   "cell_type": "code",
   "execution_count": 14,
   "id": "697c952b",
   "metadata": {},
   "outputs": [
    {
     "name": "stdout",
     "output_type": "stream",
     "text": [
      "Newbies-friendly \b EDA and Linear Models, 0.92 R2\n"
     ]
    }
   ],
   "source": [
    "print('Newbies-friendly \\b EDA and Linear Models, 0.92 R2')"
   ]
  },
  {
   "cell_type": "code",
   "execution_count": 15,
   "id": "41dc9947",
   "metadata": {},
   "outputs": [
    {
     "name": "stdout",
     "output_type": "stream",
     "text": [
      "Newbies-friendly \f",
      " EDA and Linear Models, 0.92 R2\n"
     ]
    }
   ],
   "source": [
    "print('Newbies-friendly \\f EDA and Linear Models, 0.92 R2')"
   ]
  },
  {
   "cell_type": "code",
   "execution_count": 16,
   "id": "8d59910b",
   "metadata": {},
   "outputs": [
    {
     "name": "stdout",
     "output_type": "stream",
     "text": [
      "Newbies-friendly EDA \r",
      " and Linear Models, 0.92 R2\n"
     ]
    }
   ],
   "source": [
    "print('Newbies-friendly EDA \\r and Linear Models, 0.92 R2')"
   ]
  },
  {
   "cell_type": "code",
   "execution_count": 17,
   "id": "b34c294e",
   "metadata": {},
   "outputs": [
    {
     "name": "stdout",
     "output_type": "stream",
     "text": [
      "Newbies-friendly EDA and Linear \r",
      " Models, 0.92 R2\n"
     ]
    }
   ],
   "source": [
    "print('Newbies-friendly EDA and Linear \\r Models, 0.92 R2')"
   ]
  },
  {
   "cell_type": "code",
   "execution_count": 18,
   "id": "7b420db5",
   "metadata": {},
   "outputs": [
    {
     "name": "stdout",
     "output_type": "stream",
     "text": [
      "Newbies-friendly EDA \t and Linear Models, 0.92 R2\n"
     ]
    }
   ],
   "source": [
    "print('Newbies-friendly EDA \\t and Linear Models, 0.92 R2')"
   ]
  },
  {
   "cell_type": "code",
   "execution_count": 19,
   "id": "fd883d7f",
   "metadata": {},
   "outputs": [
    {
     "name": "stdout",
     "output_type": "stream",
     "text": [
      "Newbies-friendly EDA \u000b",
      " and Linear Models, 0.92 R2\n"
     ]
    }
   ],
   "source": [
    "print('Newbies-friendly EDA \\v and Linear Models, 0.92 R2')"
   ]
  },
  {
   "cell_type": "markdown",
   "id": "3a21626e",
   "metadata": {},
   "source": [
    "# 1. format()\n"
   ]
  },
  {
   "cell_type": "code",
   "execution_count": 21,
   "id": "ddcc077c",
   "metadata": {},
   "outputs": [
    {
     "data": {
      "text/plain": [
       "'santosh kumar'"
      ]
     },
     "execution_count": 21,
     "metadata": {},
     "output_type": "execute_result"
    }
   ],
   "source": [
    "# using curly braces\n",
    "'{} {}'.format('santosh','kumar')"
   ]
  },
  {
   "cell_type": "code",
   "execution_count": 23,
   "id": "3760d6cc",
   "metadata": {},
   "outputs": [
    {
     "name": "stdout",
     "output_type": "stream",
     "text": [
      "santosh kumar\n"
     ]
    }
   ],
   "source": [
    "# using positional argurment\n",
    "print('{1} {0}'.format('kumar','santosh'))"
   ]
  },
  {
   "cell_type": "code",
   "execution_count": 24,
   "id": "505acbac",
   "metadata": {},
   "outputs": [
    {
     "name": "stdout",
     "output_type": "stream",
     "text": [
      "santosh kumar\n"
     ]
    }
   ],
   "source": [
    "# keyword argurment\n",
    "print('{q} {b}'.format(b='kumar',q='santosh'))"
   ]
  },
  {
   "cell_type": "markdown",
   "id": "039ea08b",
   "metadata": {},
   "source": [
    "# 2. capitalize(): capital first letter"
   ]
  },
  {
   "cell_type": "code",
   "execution_count": 26,
   "id": "e4f1b87b",
   "metadata": {},
   "outputs": [
    {
     "data": {
      "text/plain": [
       "'Santosh kumar'"
      ]
     },
     "execution_count": 26,
     "metadata": {},
     "output_type": "execute_result"
    }
   ],
   "source": [
    "'santosh kumar'.capitalize()"
   ]
  },
  {
   "cell_type": "code",
   "execution_count": 27,
   "id": "0fbf911e",
   "metadata": {},
   "outputs": [
    {
     "data": {
      "text/plain": [
       "'Abc xyc'"
      ]
     },
     "execution_count": 27,
     "metadata": {},
     "output_type": "execute_result"
    }
   ],
   "source": [
    "str = 'abc xyc'\n",
    "str.capitalize()"
   ]
  },
  {
   "cell_type": "markdown",
   "id": "a9b0e58c",
   "metadata": {},
   "source": [
    "# 3. casefold(): lower case each word"
   ]
  },
  {
   "cell_type": "code",
   "execution_count": 29,
   "id": "f8781fca",
   "metadata": {},
   "outputs": [
    {
     "data": {
      "text/plain": [
       "'santosh kumar'"
      ]
     },
     "execution_count": 29,
     "metadata": {},
     "output_type": "execute_result"
    }
   ],
   "source": [
    "'SANTOSH kUmar'.casefold()"
   ]
  },
  {
   "cell_type": "markdown",
   "id": "712bc97e",
   "metadata": {},
   "source": [
    "# 4. center(): make fix length of word adding specfic char"
   ]
  },
  {
   "cell_type": "code",
   "execution_count": 30,
   "id": "cc7cfdc2",
   "metadata": {},
   "outputs": [
    {
     "data": {
      "text/plain": [
       "'santosh'"
      ]
     },
     "execution_count": 30,
     "metadata": {},
     "output_type": "execute_result"
    }
   ],
   "source": [
    "'santosh'"
   ]
  },
  {
   "cell_type": "code",
   "execution_count": 31,
   "id": "a4f2d4d6",
   "metadata": {},
   "outputs": [
    {
     "data": {
      "text/plain": [
       "7"
      ]
     },
     "execution_count": 31,
     "metadata": {},
     "output_type": "execute_result"
    }
   ],
   "source": [
    "len('santosh')"
   ]
  },
  {
   "cell_type": "code",
   "execution_count": 33,
   "id": "fcdeb684",
   "metadata": {},
   "outputs": [
    {
     "data": {
      "text/plain": [
       "'ksantoshkk'"
      ]
     },
     "execution_count": 33,
     "metadata": {},
     "output_type": "execute_result"
    }
   ],
   "source": [
    "# want to make lenth 10\n",
    "'santosh'.center(10,'k') \n",
    "# making 10 word with adding 'k', main char will \n",
    "# me in center and extra words will get added in left to right"
   ]
  },
  {
   "cell_type": "code",
   "execution_count": 38,
   "id": "f6f2bc7a",
   "metadata": {},
   "outputs": [
    {
     "data": {
      "text/plain": [
       "'kkkkkksantoshkkkkkkk'"
      ]
     },
     "execution_count": 38,
     "metadata": {},
     "output_type": "execute_result"
    }
   ],
   "source": [
    "'santosh'.center(20,'k')"
   ]
  },
  {
   "cell_type": "markdown",
   "id": "0a6e58de",
   "metadata": {},
   "source": [
    "# 5. count(): no of occurence of given char in str\n",
    "- count('sub str to be find', starting index(optional),end_index(optional))\n",
    "- count('a',3,10)\n"
   ]
  },
  {
   "cell_type": "code",
   "execution_count": 39,
   "id": "a7132362",
   "metadata": {},
   "outputs": [
    {
     "data": {
      "text/plain": [
       "4"
      ]
     },
     "execution_count": 39,
     "metadata": {},
     "output_type": "execute_result"
    }
   ],
   "source": [
    "'Santosh Kumar  Yadav'.count('a')"
   ]
  },
  {
   "cell_type": "code",
   "execution_count": 46,
   "id": "af607823",
   "metadata": {},
   "outputs": [
    {
     "data": {
      "text/plain": [
       "2"
      ]
     },
     "execution_count": 46,
     "metadata": {},
     "output_type": "execute_result"
    }
   ],
   "source": [
    "' Santosh Kumar  Yadav Santosh Kumar  Yadav Santosh Kumar  Yadav'.count('Santosh',7)"
   ]
  },
  {
   "cell_type": "code",
   "execution_count": 50,
   "id": "aca5671e",
   "metadata": {},
   "outputs": [],
   "source": [
    "a = 'Groupby is a pretty simple concept. We can create a grouping of categories and apply a function to the categories.'"
   ]
  },
  {
   "cell_type": "code",
   "execution_count": 51,
   "id": "14b6b5b8",
   "metadata": {},
   "outputs": [
    {
     "data": {
      "text/plain": [
       "'Groupby is a pretty simple concept. We can create a grouping of categories and apply a function to the categories.'"
      ]
     },
     "execution_count": 51,
     "metadata": {},
     "output_type": "execute_result"
    }
   ],
   "source": [
    "a"
   ]
  },
  {
   "cell_type": "markdown",
   "id": "3e01fb80",
   "metadata": {},
   "source": [
    "# find(): find any sub str in str"
   ]
  },
  {
   "cell_type": "code",
   "execution_count": 57,
   "id": "9dd63b46",
   "metadata": {},
   "outputs": [
    {
     "data": {
      "text/plain": [
       "-1"
      ]
     },
     "execution_count": 57,
     "metadata": {},
     "output_type": "execute_result"
    }
   ],
   "source": [
    "# return index of find str(first char),also range can be given, -1 return means no result found\n",
    "a.find('i',9,20)"
   ]
  },
  {
   "cell_type": "code",
   "execution_count": 63,
   "id": "ea454dcc",
   "metadata": {},
   "outputs": [
    {
     "data": {
      "text/plain": [
       "'Groupby is a pretty simple concept. We can create a grouping of categories and apply a function to the categories.'"
      ]
     },
     "execution_count": 63,
     "metadata": {},
     "output_type": "execute_result"
    }
   ],
   "source": [
    "a.format({'l'})"
   ]
  },
  {
   "cell_type": "code",
   "execution_count": 77,
   "id": "950fe4a6",
   "metadata": {},
   "outputs": [
    {
     "name": "stdout",
     "output_type": "stream",
     "text": [
      "8\n"
     ]
    },
    {
     "data": {
      "text/plain": [
       "52"
      ]
     },
     "execution_count": 77,
     "metadata": {},
     "output_type": "execute_result"
    }
   ],
   "source": [
    "# get index of string\n",
    "# index('sub str', start_range, end_range)\n",
    "print(a.index('is'))\n",
    "a.index('group',40) # from 40 to onwards\n",
    "a.index('group',40,60) # from 40 to 60"
   ]
  },
  {
   "cell_type": "markdown",
   "id": "1c521ee1",
   "metadata": {},
   "source": [
    "# isalnum(): str and number in string\n",
    "- only char and num accepted, without space and specail symbols"
   ]
  },
  {
   "cell_type": "code",
   "execution_count": 79,
   "id": "8bd2f86d",
   "metadata": {},
   "outputs": [
    {
     "data": {
      "text/plain": [
       "False"
      ]
     },
     "execution_count": 79,
     "metadata": {},
     "output_type": "execute_result"
    }
   ],
   "source": [
    "a.isalnum()"
   ]
  },
  {
   "cell_type": "code",
   "execution_count": 87,
   "id": "4f557d0e",
   "metadata": {},
   "outputs": [
    {
     "name": "stdout",
     "output_type": "stream",
     "text": [
      "True\n",
      "False\n",
      "True\n",
      "False\n"
     ]
    },
    {
     "data": {
      "text/plain": [
       "True"
      ]
     },
     "execution_count": 87,
     "metadata": {},
     "output_type": "execute_result"
    }
   ],
   "source": [
    "print('Santosh'.isalnum())\n",
    "print('santosh '.isalnum())\n",
    "print('Santosh'.isalnum())\n",
    "print('santosh 3'.isalnum()) # space return false\n",
    "'Santosh2'.isalnum()\n"
   ]
  },
  {
   "cell_type": "markdown",
   "id": "bd6d3ca3",
   "metadata": {},
   "source": [
    "# isalpha()\n",
    "- only alphabet a to z,A to Z accepted"
   ]
  },
  {
   "cell_type": "code",
   "execution_count": 93,
   "id": "62d0aa3f",
   "metadata": {},
   "outputs": [
    {
     "name": "stdout",
     "output_type": "stream",
     "text": [
      "True\n",
      "False\n",
      "False\n",
      "True\n"
     ]
    }
   ],
   "source": [
    "print('santosh'.isalpha())\n",
    "print('santosh '.isalpha())\n",
    "print('santosh kumar'.isalpha())\n",
    "print('santoshkusdddddddddddddddddddddddddddd'.isalpha())"
   ]
  },
  {
   "cell_type": "markdown",
   "id": "836ebe27",
   "metadata": {},
   "source": [
    "# isdecimal()\n",
    "- onlhy accept decimal value in string 10,1000,10000"
   ]
  },
  {
   "cell_type": "code",
   "execution_count": 103,
   "id": "1fb72e21",
   "metadata": {},
   "outputs": [
    {
     "name": "stdout",
     "output_type": "stream",
     "text": [
      "False\n",
      "True\n",
      "True\n",
      "False\n"
     ]
    }
   ],
   "source": [
    "print('6.5'.isdecimal())\n",
    "print('10'.isdecimal())\n",
    "print('100000'.isdecimal())\n",
    "print('100.000'.isdecimal())"
   ]
  },
  {
   "cell_type": "markdown",
   "id": "7e2627a2",
   "metadata": {},
   "source": [
    "# isdigit()\n",
    "- accept only integers"
   ]
  },
  {
   "cell_type": "code",
   "execution_count": 109,
   "id": "40d30e72",
   "metadata": {},
   "outputs": [
    {
     "name": "stdout",
     "output_type": "stream",
     "text": [
      "True\n",
      "False\n",
      "False\n",
      "True\n"
     ]
    }
   ],
   "source": [
    "print('100000'.isdigit())\n",
    "print('100S000'.isdigit())\n",
    "print('S100.000'.isdigit())\n",
    "print('1'.isdigit())"
   ]
  },
  {
   "cell_type": "markdown",
   "id": "94c70976",
   "metadata": {},
   "source": [
    "# isidentifier()\n",
    "- tells given str is valid indentifier(variable methods,class names etc) or not"
   ]
  },
  {
   "cell_type": "code",
   "execution_count": 123,
   "id": "90be1422",
   "metadata": {},
   "outputs": [
    {
     "name": "stdout",
     "output_type": "stream",
     "text": [
      "False\n",
      "False\n",
      "True\n",
      "True\n",
      "True\n"
     ]
    }
   ],
   "source": [
    "print('char '.isidentifier())\n",
    "print('_int '.isidentifier())\n",
    "print('hello_'.isidentifier())\n",
    "print('santosh10_'.isidentifier())\n",
    "print('any_thing_10_'.isidentifier())\n",
    "\n"
   ]
  },
  {
   "cell_type": "markdown",
   "id": "c6d84e4e",
   "metadata": {},
   "source": [
    "# islower()\n",
    "- true only lower case str, else false"
   ]
  },
  {
   "cell_type": "code",
   "execution_count": 126,
   "id": "a9e10348",
   "metadata": {},
   "outputs": [
    {
     "name": "stdout",
     "output_type": "stream",
     "text": [
      "True\n",
      "False\n"
     ]
    }
   ],
   "source": [
    "print('santosh'.islower())\n",
    "print('sanTosh'.islower())"
   ]
  },
  {
   "cell_type": "markdown",
   "id": "d9733d96",
   "metadata": {},
   "source": [
    "# isupper()\n",
    "- opposite as islower()"
   ]
  },
  {
   "cell_type": "code",
   "execution_count": 130,
   "id": "9cad44bd",
   "metadata": {},
   "outputs": [
    {
     "name": "stdout",
     "output_type": "stream",
     "text": [
      "False\n",
      "False\n",
      "True\n"
     ]
    }
   ],
   "source": [
    "print('santosh'.isupper())\n",
    "print('sanTosh'.isupper())\n",
    "print('SANTOSH'.isupper())\n"
   ]
  },
  {
   "cell_type": "markdown",
   "id": "c511567b",
   "metadata": {},
   "source": [
    "# isspace()\n",
    "- true only when space"
   ]
  },
  {
   "cell_type": "code",
   "execution_count": 136,
   "id": "ccd8e2e8",
   "metadata": {},
   "outputs": [
    {
     "name": "stdout",
     "output_type": "stream",
     "text": [
      "True\n",
      "False\n"
     ]
    }
   ],
   "source": [
    "print(' '.isspace())\n",
    "print(' sanTosh'.isspace())"
   ]
  },
  {
   "cell_type": "markdown",
   "id": "ea4b9b6e",
   "metadata": {},
   "source": [
    "# istitle()\n",
    "- Python String istitle() method returns True if the string is a titlecased string otherwise it returns False. What is titlecased? The string which has the first character in each word Uppercase and remaining all characters Lowercase alphabets. "
   ]
  },
  {
   "cell_type": "code",
   "execution_count": 139,
   "id": "f4ad5cf0",
   "metadata": {},
   "outputs": [
    {
     "name": "stdout",
     "output_type": "stream",
     "text": [
      "False\n",
      "True\n"
     ]
    }
   ],
   "source": [
    "print('This is not a title.'.istitle())\n",
    "print('This Is A Title.'.istitle())"
   ]
  },
  {
   "cell_type": "markdown",
   "id": "863bb863",
   "metadata": {},
   "source": [
    "# jon()\n",
    "- Python String join() method is a string method and returns a string in which the elements of the sequence have been joined by the str separator.\n",
    "- string_name.join(iterable) \n",
    "- Parameters: \n",
    "    The join() method takes iterable – objects capable of returning their members one at a time. Some examples are List, Tuple, String, Dictionary, and Set\n",
    "- Return Value: \n",
    "    The join() method returns a string concatenated with the elements of iterable. \n",
    "- Type Error:\n",
    "    If the iterable contains any non-string values, it raises a TypeError exception. "
   ]
  },
  {
   "cell_type": "code",
   "execution_count": 153,
   "id": "cbca59d1",
   "metadata": {},
   "outputs": [
    {
     "data": {
      "text/plain": [
       "'skaknktkokskh'"
      ]
     },
     "execution_count": 153,
     "metadata": {},
     "output_type": "execute_result"
    }
   ],
   "source": [
    "a = 'santosh'\n",
    "b = 'k'\n",
    "b.join(a)"
   ]
  },
  {
   "cell_type": "code",
   "execution_count": 170,
   "id": "f87c9abb",
   "metadata": {},
   "outputs": [
    {
     "name": "stdout",
     "output_type": "stream",
     "text": [
      "Santosh Kumar Yadav\n",
      "Santosh  Kumar  Yadav\n",
      "Santosh # Kumar # Yadav\n",
      "Santosh Yadav\n",
      "Santosh  Yadav\n",
      "Santosh # Yadav\n"
     ]
    }
   ],
   "source": [
    "# joining list and tuple\n",
    "ls = ['Santosh', 'Kumar','Yadav']\n",
    "ls2 = ('Santosh','Yadav')\n",
    "s = ' '\n",
    "print(s.join(ls))\n",
    "print('  '.join(ls))\n",
    "print(' # '.join(ls))\n",
    "\n",
    "print(s.join(ls2))\n",
    "print('  '.join(ls2))\n",
    "print(' # '.join(ls2))\n",
    "\n"
   ]
  },
  {
   "cell_type": "code",
   "execution_count": 174,
   "id": "7cfa048d",
   "metadata": {},
   "outputs": [
    {
     "data": {
      "text/plain": [
       "'SantoshKumarYadav'"
      ]
     },
     "execution_count": 174,
     "metadata": {},
     "output_type": "execute_result"
    }
   ],
   "source": [
    "''.join(ls) # without space"
   ]
  },
  {
   "cell_type": "markdown",
   "id": "09f490d5",
   "metadata": {},
   "source": [
    "# len()\n",
    "- length of string"
   ]
  },
  {
   "cell_type": "code",
   "execution_count": 175,
   "id": "3f307858",
   "metadata": {},
   "outputs": [
    {
     "data": {
      "text/plain": [
       "7"
      ]
     },
     "execution_count": 175,
     "metadata": {},
     "output_type": "execute_result"
    }
   ],
   "source": [
    "len('Santosh')"
   ]
  },
  {
   "cell_type": "markdown",
   "id": "a872c0ab",
   "metadata": {},
   "source": [
    "# lower()\n",
    "- lower() method converts all uppercase characters in a string into lowercase characters and returns it"
   ]
  },
  {
   "cell_type": "code",
   "execution_count": 182,
   "id": "ce293b3a",
   "metadata": {},
   "outputs": [
    {
     "data": {
      "text/plain": [
       "'santoshsdfsdasfsdf '"
      ]
     },
     "execution_count": 182,
     "metadata": {},
     "output_type": "execute_result"
    }
   ],
   "source": [
    "'SantoshSDFSDasfsdf '.lower()"
   ]
  },
  {
   "cell_type": "code",
   "execution_count": 181,
   "id": "664e89ea",
   "metadata": {},
   "outputs": [
    {
     "data": {
      "text/plain": [
       "'santosh sdfdsfdsdf sdf sfsdfsfsdfsdf'"
      ]
     },
     "execution_count": 181,
     "metadata": {},
     "output_type": "execute_result"
    }
   ],
   "source": [
    "'Santosh sdfdsfdsdf sdf sfsdfSFSDFSDF'.casefold()"
   ]
  },
  {
   "cell_type": "markdown",
   "id": "9e336eee",
   "metadata": {},
   "source": [
    "# isprintable()\n",
    "- Python String isprintable() is a built-in method used for string handling. The isprintable() method returns “True” if all characters in the string are printable or the string is empty, Otherwise, It returns “False”. This function is used to check if the argument contains any printable characters such as:\n",
    "\n",
    "- Digits ( 0123456789 )\n",
    "- Uppercase letters ( ABCDEFGHIJKLMNOPQRSTUVWXYZ )\n",
    "- Lowercase letters ( abcdefghijklmnopqrstuvwxyz )\n",
    "- Punctuation characters ( !”#$%&'()*+, -./:;?@[\\]^_`{ | }~ )\n",
    "- Space ( )"
   ]
  },
  {
   "cell_type": "code",
   "execution_count": 183,
   "id": "cf14ffc4",
   "metadata": {},
   "outputs": [
    {
     "name": "stdout",
     "output_type": "stream",
     "text": [
      "True\n",
      "False\n",
      "True\n"
     ]
    }
   ],
   "source": [
    "# checking for printable characters\n",
    "string = 'My name is Ayush'\n",
    "print(string.isprintable())\n",
    "  \n",
    "# checking if \\n is a printable character\n",
    "string = 'My name is \\n Ayush'\n",
    "print(string.isprintable())\n",
    "  \n",
    "# checking if space is a printable character\n",
    "string = ''\n",
    "print( string.isprintable())"
   ]
  },
  {
   "cell_type": "markdown",
   "id": "79018b84",
   "metadata": {},
   "source": [
    "# isupper() \n",
    "- method returns whether or not all characters in a string are uppercased or not."
   ]
  },
  {
   "cell_type": "code",
   "execution_count": 188,
   "id": "3247b288",
   "metadata": {},
   "outputs": [
    {
     "name": "stdout",
     "output_type": "stream",
     "text": [
      "True\n",
      "False\n"
     ]
    }
   ],
   "source": [
    "isupp_str = \"GEEKSFORGEEKS\"\n",
    "not_isupp = \"Geeksforgeeks\"\n",
    " \n",
    "print(isupp_str.isupper())\n",
    "print(not_isupp.isupper())"
   ]
  },
  {
   "cell_type": "markdown",
   "id": "d92a37ff",
   "metadata": {},
   "source": [
    "# lstrip() \n",
    "- method returns a copy of the string with leading characters removed (based on the string argument passed). If no argument is passed, it removes leading spaces."
   ]
  },
  {
   "cell_type": "code",
   "execution_count": 191,
   "id": "2d77e71e",
   "metadata": {},
   "outputs": [
    {
     "name": "stdout",
     "output_type": "stream",
     "text": [
      "santosh kumar\n"
     ]
    }
   ],
   "source": [
    "string = \"   santosh kumar\"\n",
    "    \n",
    "# Removes spaces from left. \n",
    "print(string.lstrip())"
   ]
  },
  {
   "cell_type": "markdown",
   "id": "8d72db69",
   "metadata": {},
   "source": [
    "# partition() \n",
    "- method splits the string at the first occurrence of the separator and returns a tuple containing the part before the separator, separator, and the part after the separator. Here separator is a string that is given as the argument. "
   ]
  },
  {
   "cell_type": "code",
   "execution_count": 193,
   "id": "cc41bdd5",
   "metadata": {},
   "outputs": [
    {
     "name": "stdout",
     "output_type": "stream",
     "text": [
      "('pawan ', 'is ', 'a good pawan is a good')\n",
      "('pawan is a good pawan is a good', '', '')\n",
      "('pawan ', 'is', \" a good, isn't it\")\n"
     ]
    }
   ],
   "source": [
    "string = \"pawan is a good pawan is a good\"\n",
    "  \n",
    "# 'is' separator is found\n",
    "print(string.partition('is '))\n",
    "  \n",
    "# 'not' separator is not found\n",
    "print(string.partition('bad '))\n",
    "  \n",
    "string = \"pawan is a good, isn't it\"\n",
    "  \n",
    "# splits at first occurrence of 'is'\n",
    "print(string.partition('is'))"
   ]
  },
  {
   "cell_type": "markdown",
   "id": "c3d0fa70",
   "metadata": {},
   "source": [
    "# replace() \n",
    "- is an inbuilt function in the Python programming language that returns a copy of the string where all occurrences of a substring are replaced with another substring. \n",
    "- Return Value : \n",
    "  It returns a copy of the string where all occurrences of a substring are replaced with another substring. \n",
    " \n",
    "\n",
    "- Note: \n",
    "  If count is not specified then all the occurrences of the old substring are replaced with the new substring.\n",
    "  This method returns the copy of the string i.e. it does not change the original string. "
   ]
  },
  {
   "cell_type": "code",
   "execution_count": 194,
   "id": "d17358f8",
   "metadata": {},
   "outputs": [
    {
     "name": "stdout",
     "output_type": "stream",
     "text": [
      "Geeks for Geeks Geeks Geeks Geeks\n",
      "GeeksforGeeks for GeeksforGeeks GeeksforGeeks geeks geeks\n"
     ]
    }
   ],
   "source": [
    "string = \"geeks for geeks geeks geeks geeks\"\n",
    "  \n",
    "# Prints the string by replacing all\n",
    "# geeks by Geeks\n",
    "print(string.replace(\"geeks\", \"Geeks\"))\n",
    " \n",
    "# Prints the string by replacing only\n",
    "# 3 occurrence of Geeks \n",
    "print(string.replace(\"geeks\", \"GeeksforGeeks\", 3))"
   ]
  },
  {
   "cell_type": "code",
   "execution_count": 195,
   "id": "e320122f",
   "metadata": {},
   "outputs": [
    {
     "name": "stdout",
     "output_type": "stream",
     "text": [
      "gaaks for gaaks gaaks gaaks gaaks\n",
      "geas for geas geas geeks geeks\n"
     ]
    }
   ],
   "source": [
    "string = \"geeks for geeks geeks geeks geeks\"\n",
    " \n",
    "# Prints the string by replacing\n",
    "# e by a\n",
    "print(string.replace(\"e\", \"a\"))\n",
    " \n",
    "# Prints the string by replacing only\n",
    "# 3 occurrence of ek by a\n",
    "print(string.replace(\"ek\", \"a\", 3))"
   ]
  },
  {
   "cell_type": "markdown",
   "id": "86ae1c96",
   "metadata": {},
   "source": [
    "# rfind() method\n",
    "- returns the highest index of the substring if found in the given string. If not found then it returns -1."
   ]
  },
  {
   "cell_type": "code",
   "execution_count": 196,
   "id": "2744ba85",
   "metadata": {},
   "outputs": [
    {
     "name": "stdout",
     "output_type": "stream",
     "text": [
      "Substring 'geeks' found at index : 10\n",
      "Substring 'for' found at index : 6\n",
      "Substring 'ate' found at index : 13\n"
     ]
    }
   ],
   "source": [
    "word = 'geeks for geeks'\n",
    "  \n",
    "# Returns highest index of the substring\n",
    "result = word.rfind('geeks')\n",
    "print (\"Substring 'geeks' found at index :\", result )\n",
    "  \n",
    "result = word.rfind('for')\n",
    "print (\"Substring 'for' found at index :\", result )\n",
    "  \n",
    "word = 'CatBatSatMatGate'\n",
    "  \n",
    "# Returns highest index of the substring\n",
    "result = word.rfind('ate')\n",
    "print(\"Substring 'ate' found at index :\", result)"
   ]
  },
  {
   "cell_type": "code",
   "execution_count": 197,
   "id": "8346d11c",
   "metadata": {},
   "outputs": [
    {
     "name": "stdout",
     "output_type": "stream",
     "text": [
      "10\n",
      "10\n",
      "-1\n",
      "6\n"
     ]
    }
   ],
   "source": [
    "word = 'geeks for geeks'\n",
    "  \n",
    "# Substring is searched in 'eeks for geeks'\n",
    "print(word.rfind('ge', 2))\n",
    "  \n",
    "# Substring is searched in 'eeks for geeks' \n",
    "print(word.rfind('geeks', 2))\n",
    "  \n",
    "# Substring is searched in 'eeks for geeks' \n",
    "print(word.rfind('geeks ', 2))\n",
    "  \n",
    "# Substring is searched in 's for g'\n",
    "print(word.rfind('for ', 4, 11))"
   ]
  },
  {
   "cell_type": "markdown",
   "id": "177a4980",
   "metadata": {},
   "source": [
    "# https://www.geeksforgeeks.org/python-string-rindex-method/?ref=lbp"
   ]
  },
  {
   "cell_type": "markdown",
   "id": "28847722",
   "metadata": {},
   "source": [
    "# Lists: "
   ]
  },
  {
   "cell_type": "markdown",
   "id": "fce392d9",
   "metadata": {},
   "source": [
    "- Creating a List\n",
    "- Knowing the size of List\n",
    "- Adding Elements to a List: \n",
    "  - Using append() method\n",
    "  - Using insert() method\n",
    "  - Using extend() method\n",
    "- Accessing elements from the List\n",
    "- Removing Elements from the List: \n",
    "  - Using remove() method\n",
    "  - Using pop() method\n",
    "- Slicing of a List\n",
    "- List Comprehension\n",
    "- Operations on List\n",
    "- List Methods"
   ]
  },
  {
   "cell_type": "markdown",
   "id": "73d89790",
   "metadata": {},
   "source": [
    "- Python has a set of built-in methods that you can use on lists/arrays.\n",
    "\n",
    "- append()\t:Adds an element at the end of the list\n",
    "- clear()\t:Removes all the elements from the list\n",
    "- copy()\t:Returns a copy of the list\n",
    "- count()\t:Returns the number of elements with the specified value\n",
    "- extend()\t:Add the elements of a list (or any iterable), to the end of the current list\n",
    "- index()\t:Returns the index of the first element with the specified value\n",
    "- insert()\t:Adds an element at the specified position\n",
    "- pop()\tRemoves the element at the specified position\n",
    "- remove()\t:Removes the first item with the specified value\n",
    "- reverse()\t:Reverses the order of the list\n",
    "- sort()\t:Sorts the list"
   ]
  },
  {
   "cell_type": "markdown",
   "id": "0fff9d38",
   "metadata": {},
   "source": [
    "# Python Dictionary Methods\n",
    "- Python has a set of built-in methods that you can use on dictionaries.\n",
    "\n",
    "- Method\tDescription\n",
    "- clear()\tRemoves all the elements from the dictionary\n",
    "- copy()\tReturns a copy of the dictionary\n",
    "- fromkeys()\tReturns a dictionary with the specified keys and value\n",
    "- get()\tReturns the value of the specified key\n",
    "- items()\tReturns a list containing a tuple for each key value pair\n",
    "- keys()\tReturns a list containing the dictionary's keys\n",
    "- pop()\tRemoves the element with the specified key\n",
    "- popitem()\tRemoves the last inserted key-value pair\n",
    "- setdefault()\tReturns the value of the specified key. If the key does not exist: insert the key, with the specified value\n",
    "- update()\tUpdates the dictionary with the specified key-value pairs\n",
    "- values()\tReturns a list of all the values in the dictionary"
   ]
  },
  {
   "cell_type": "markdown",
   "id": "a15dfbd1",
   "metadata": {},
   "source": [
    "# Python Tuple Methods\n",
    " - Python has two built-in methods that you can use on tuples.\n",
    "\n",
    "- Method\tDescription\n",
    "- count()\tReturns the number of times a specified value occurs in a tuple\n",
    "- index()\tSearches the tuple for a specified value and returns the position of where it was found"
   ]
  },
  {
   "cell_type": "markdown",
   "id": "101af637",
   "metadata": {},
   "source": [
    "# Python Set Methods\n",
    "- Python has a set of built-in methods that you can use on sets.\n",
    "\n",
    "- Method\tDescription\n",
    "- add()\tAdds an element to the set\n",
    "- clear()\tRemoves all the elements from the set\n",
    "- copy()\tReturns a copy of the set\n",
    "- difference()\tReturns a set containing the difference between two or more sets\n",
    "- difference_update()\tRemoves the items in this set that are also included in another, specified set\n",
    "- discard()\tRemove the specified item\n",
    "- intersection()\tReturns a set, that is the intersection of two or more sets\n",
    "- intersection_update()\tRemoves the items in this set that are not present in other, specified set(s)\n",
    "- isdisjoint()\tReturns whether two sets have a intersection or not\n",
    "- issubset()\tReturns whether another set contains this set or not\n",
    "- issuperset()\tReturns whether this set contains another set or not\n",
    "- pop()\tRemoves an element from the set\n",
    "- remove()\tRemoves the specified element\n",
    "- symmetric_difference()\tReturns a set with the symmetric differences of two sets\n",
    "- symmetric_difference_update()\tinserts the symmetric differences from this set and another\n",
    "- union()\tReturn a set containing the union of sets\n",
    "- update()\tUpdate the set with another set, or any other iterable"
   ]
  },
  {
   "cell_type": "code",
   "execution_count": 2,
   "id": "24910228",
   "metadata": {
    "collapsed": true
   },
   "outputs": [
    {
     "ename": "NameError",
     "evalue": "name 'np' is not defined",
     "output_type": "error",
     "traceback": [
      "\u001b[1;31m---------------------------------------------------------------------------\u001b[0m",
      "\u001b[1;31mNameError\u001b[0m                                 Traceback (most recent call last)",
      "\u001b[1;32m~\\AppData\\Local\\Temp/ipykernel_22336/3060386377.py\u001b[0m in \u001b[0;36m<module>\u001b[1;34m\u001b[0m\n\u001b[0;32m      1\u001b[0m \u001b[1;32mimport\u001b[0m \u001b[0mpandas\u001b[0m \u001b[1;32mas\u001b[0m \u001b[0mpd\u001b[0m\u001b[1;33m\u001b[0m\u001b[1;33m\u001b[0m\u001b[0m\n\u001b[0;32m      2\u001b[0m \u001b[1;31m# Create a radnom datset of 10 rows and 4 columns\u001b[0m\u001b[1;33m\u001b[0m\u001b[1;33m\u001b[0m\u001b[0m\n\u001b[1;32m----> 3\u001b[1;33m \u001b[0mdf\u001b[0m \u001b[1;33m=\u001b[0m \u001b[0mpd\u001b[0m\u001b[1;33m.\u001b[0m\u001b[0mDataFrame\u001b[0m\u001b[1;33m(\u001b[0m\u001b[0mnp\u001b[0m\u001b[1;33m.\u001b[0m\u001b[0mrandom\u001b[0m\u001b[1;33m.\u001b[0m\u001b[0mrandn\u001b[0m\u001b[1;33m(\u001b[0m\u001b[1;36m10\u001b[0m\u001b[1;33m,\u001b[0m \u001b[1;36m4\u001b[0m\u001b[1;33m)\u001b[0m\u001b[1;33m,\u001b[0m \u001b[0mcolumns\u001b[0m\u001b[1;33m=\u001b[0m\u001b[0mlist\u001b[0m\u001b[1;33m(\u001b[0m\u001b[1;34m'ABCD'\u001b[0m\u001b[1;33m)\u001b[0m\u001b[1;33m)\u001b[0m\u001b[1;33m\u001b[0m\u001b[1;33m\u001b[0m\u001b[0m\n\u001b[0m\u001b[0;32m      4\u001b[0m \u001b[0mdf\u001b[0m\u001b[1;33m\u001b[0m\u001b[1;33m\u001b[0m\u001b[0m\n\u001b[0;32m      5\u001b[0m \u001b[1;33m\u001b[0m\u001b[0m\n",
      "\u001b[1;31mNameError\u001b[0m: name 'np' is not defined"
     ]
    }
   ],
   "source": [
    "\n",
    "import pandas as pd\n",
    "# Create a radnom datset of 10 rows and 4 columns\n",
    "df = pd.DataFrame(np.random.randn(10, 4), columns=list('ABCD'))\n",
    "df\n",
    "\n",
    "\n",
    "# Randomly set some values as null\n",
    "df = df.mask(np.random.random((10, 4)) < .15)\n",
    "df\n",
    "\n",
    "\n",
    "# Duplicate two cells with same values\n",
    "df['B'][8] = df['B'][9]\n",
    "df\n",
    "\n",
    "mean_imputer = SimpleImputer(strategy='mean')\n",
    "\n",
    "result_mean_imputer = mean_imputer.fit_transform(df)\n",
    "\n",
    "pd.DataFrame(result_mean_imputer, columns=list('ABCD'))"
   ]
  },
  {
   "cell_type": "code",
   "execution_count": null,
   "id": "b6db59a2",
   "metadata": {},
   "outputs": [],
   "source": []
  },
  {
   "cell_type": "code",
   "execution_count": null,
   "id": "2c07ac6f",
   "metadata": {},
   "outputs": [],
   "source": []
  },
  {
   "cell_type": "code",
   "execution_count": null,
   "id": "fa812adb",
   "metadata": {},
   "outputs": [],
   "source": []
  },
  {
   "cell_type": "code",
   "execution_count": null,
   "id": "e6b5ed18",
   "metadata": {},
   "outputs": [],
   "source": []
  },
  {
   "cell_type": "code",
   "execution_count": null,
   "id": "ce3db28a",
   "metadata": {},
   "outputs": [],
   "source": []
  }
 ],
 "metadata": {
  "kernelspec": {
   "display_name": "Python 3 (ipykernel)",
   "language": "python",
   "name": "python3"
  },
  "language_info": {
   "codemirror_mode": {
    "name": "ipython",
    "version": 3
   },
   "file_extension": ".py",
   "mimetype": "text/x-python",
   "name": "python",
   "nbconvert_exporter": "python",
   "pygments_lexer": "ipython3",
   "version": "3.9.7"
  }
 },
 "nbformat": 4,
 "nbformat_minor": 5
}
